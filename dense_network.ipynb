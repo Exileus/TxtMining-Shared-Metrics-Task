{
  "nbformat": 4,
  "nbformat_minor": 5,
  "metadata": {
    "colab": {
      "name": "dense_network.ipynb",
      "provenance": [],
      "collapsed_sections": []
    },
    "kernelspec": {
      "display_name": "Python 3",
      "language": "python",
      "name": "python3"
    },
    "language_info": {
      "codemirror_mode": {
        "name": "ipython",
        "version": 3
      },
      "file_extension": ".py",
      "mimetype": "text/x-python",
      "name": "python",
      "nbconvert_exporter": "python",
      "pygments_lexer": "ipython3",
      "version": "3.8.3"
    },
    "accelerator": "GPU"
  },
  "cells": [
    {
      "cell_type": "code",
      "metadata": {
        "colab": {
          "base_uri": "https://localhost:8080/"
        },
        "id": "0NwOJarh2tzp",
        "outputId": "8d2fa19a-a9e4-4183-e607-77e0ce15afc4"
      },
      "source": [
        "!pip install transformers\n",
        "!pip install gdown # download from google drive"
      ],
      "id": "0NwOJarh2tzp",
      "execution_count": 18,
      "outputs": [
        {
          "output_type": "stream",
          "text": [
            "Requirement already satisfied: transformers in /usr/local/lib/python3.7/dist-packages (4.6.1)\n",
            "Requirement already satisfied: requests in /usr/local/lib/python3.7/dist-packages (from transformers) (2.23.0)\n",
            "Requirement already satisfied: filelock in /usr/local/lib/python3.7/dist-packages (from transformers) (3.0.12)\n",
            "Requirement already satisfied: importlib-metadata; python_version < \"3.8\" in /usr/local/lib/python3.7/dist-packages (from transformers) (4.0.1)\n",
            "Requirement already satisfied: sacremoses in /usr/local/lib/python3.7/dist-packages (from transformers) (0.0.45)\n",
            "Requirement already satisfied: regex!=2019.12.17 in /usr/local/lib/python3.7/dist-packages (from transformers) (2019.12.20)\n",
            "Requirement already satisfied: huggingface-hub==0.0.8 in /usr/local/lib/python3.7/dist-packages (from transformers) (0.0.8)\n",
            "Requirement already satisfied: numpy>=1.17 in /usr/local/lib/python3.7/dist-packages (from transformers) (1.19.5)\n",
            "Requirement already satisfied: tqdm>=4.27 in /usr/local/lib/python3.7/dist-packages (from transformers) (4.41.1)\n",
            "Requirement already satisfied: tokenizers<0.11,>=0.10.1 in /usr/local/lib/python3.7/dist-packages (from transformers) (0.10.3)\n",
            "Requirement already satisfied: packaging in /usr/local/lib/python3.7/dist-packages (from transformers) (20.9)\n",
            "Requirement already satisfied: idna<3,>=2.5 in /usr/local/lib/python3.7/dist-packages (from requests->transformers) (2.10)\n",
            "Requirement already satisfied: certifi>=2017.4.17 in /usr/local/lib/python3.7/dist-packages (from requests->transformers) (2020.12.5)\n",
            "Requirement already satisfied: chardet<4,>=3.0.2 in /usr/local/lib/python3.7/dist-packages (from requests->transformers) (3.0.4)\n",
            "Requirement already satisfied: urllib3!=1.25.0,!=1.25.1,<1.26,>=1.21.1 in /usr/local/lib/python3.7/dist-packages (from requests->transformers) (1.24.3)\n",
            "Requirement already satisfied: zipp>=0.5 in /usr/local/lib/python3.7/dist-packages (from importlib-metadata; python_version < \"3.8\"->transformers) (3.4.1)\n",
            "Requirement already satisfied: typing-extensions>=3.6.4; python_version < \"3.8\" in /usr/local/lib/python3.7/dist-packages (from importlib-metadata; python_version < \"3.8\"->transformers) (3.7.4.3)\n",
            "Requirement already satisfied: joblib in /usr/local/lib/python3.7/dist-packages (from sacremoses->transformers) (1.0.1)\n",
            "Requirement already satisfied: six in /usr/local/lib/python3.7/dist-packages (from sacremoses->transformers) (1.15.0)\n",
            "Requirement already satisfied: click in /usr/local/lib/python3.7/dist-packages (from sacremoses->transformers) (7.1.2)\n",
            "Requirement already satisfied: pyparsing>=2.0.2 in /usr/local/lib/python3.7/dist-packages (from packaging->transformers) (2.4.7)\n",
            "Requirement already satisfied: gdown in /usr/local/lib/python3.7/dist-packages (3.6.4)\n",
            "Requirement already satisfied: requests in /usr/local/lib/python3.7/dist-packages (from gdown) (2.23.0)\n",
            "Requirement already satisfied: tqdm in /usr/local/lib/python3.7/dist-packages (from gdown) (4.41.1)\n",
            "Requirement already satisfied: six in /usr/local/lib/python3.7/dist-packages (from gdown) (1.15.0)\n",
            "Requirement already satisfied: certifi>=2017.4.17 in /usr/local/lib/python3.7/dist-packages (from requests->gdown) (2020.12.5)\n",
            "Requirement already satisfied: idna<3,>=2.5 in /usr/local/lib/python3.7/dist-packages (from requests->gdown) (2.10)\n",
            "Requirement already satisfied: chardet<4,>=3.0.2 in /usr/local/lib/python3.7/dist-packages (from requests->gdown) (3.0.4)\n",
            "Requirement already satisfied: urllib3!=1.25.0,!=1.25.1,<1.26,>=1.21.1 in /usr/local/lib/python3.7/dist-packages (from requests->gdown) (1.24.3)\n"
          ],
          "name": "stdout"
        }
      ]
    },
    {
      "cell_type": "code",
      "metadata": {
        "id": "dR0VPq1xBKgM"
      },
      "source": [
        "import numpy as np\n",
        "import pandas as pd\n",
        "from tqdm import tqdm\n",
        "import matplotlib.pyplot as plt\n",
        "import gc\n",
        "\n",
        "import torch\n",
        "import pickle\n",
        "from torch import nn, optim\n",
        "import torch.nn.functional as F\n",
        "from torch.utils.data import DataLoader, TensorDataset, random_split\n",
        "\n",
        "from transformers import BertModel, BertTokenizerFast"
      ],
      "id": "dR0VPq1xBKgM",
      "execution_count": 19,
      "outputs": []
    },
    {
      "cell_type": "markdown",
      "metadata": {
        "id": "whole-deficit"
      },
      "source": [
        "# Language-agnostic BERT Sentence Embedding (LaBSE)\n",
        "\n",
        "LaBSE is a recent transformer model developed by google to create Language Agnostic Embeddings.\n",
        "\n",
        "According to their results LaBSE outperforms LASER in most multilingual benchmarks with the advantage of running well in windows 😂.\n",
        "\n",
        "In this notebook I will give you the basics on \"how to get sentence embeddings using LaBSE\". I hope that this will foster some ideas for the project.\n",
        "\n",
        "[Official Google blog](https://ai.googleblog.com/2020/08/language-agnostic-bert-sentence.html)"
      ],
      "id": "whole-deficit"
    },
    {
      "cell_type": "markdown",
      "metadata": {
        "id": "3IGm5Eis106i"
      },
      "source": [
        "LaBSE follows a dual encoder architecture in which the source (text to be translated) and target text (translated text) are encoded using a shared transformer embedding network separately. The model is then trained in a translation ranking task in which the text representations of paraphares and translations is forced to be close together."
      ],
      "id": "3IGm5Eis106i"
    },
    {
      "cell_type": "code",
      "metadata": {
        "id": "uxZ9f1Fh2aRi",
        "colab": {
          "base_uri": "https://localhost:8080/"
        },
        "outputId": "e68f2629-df9f-4820-fc5d-e18493670565"
      },
      "source": [
        "# Transformer loading and initialization\n",
        "\n",
        "tokenizer = BertTokenizerFast.from_pretrained(\"setu4993/LaBSE\")\n",
        "labse = BertModel.from_pretrained(\"setu4993/LaBSE\")\n",
        "if torch.cuda.is_available():\n",
        "    labse = labse.cuda()\n",
        "    print('cuda available')\n",
        "labse = labse.eval()"
      ],
      "id": "uxZ9f1Fh2aRi",
      "execution_count": 20,
      "outputs": [
        {
          "output_type": "stream",
          "text": [
            "cuda available\n"
          ],
          "name": "stdout"
        }
      ]
    },
    {
      "cell_type": "markdown",
      "metadata": {
        "id": "Vs8y1NbH3f1T"
      },
      "source": [
        "# DATASET"
      ],
      "id": "Vs8y1NbH3f1T"
    },
    {
      "cell_type": "code",
      "metadata": {
        "colab": {
          "base_uri": "https://localhost:8080/"
        },
        "id": "FseKAayT-XRz",
        "outputId": "1e51de5f-2698-43c4-84af-c2cf8e850a2e"
      },
      "source": [
        "%cd /content/\n",
        "%rm -rf /content/corpus/\n",
        "\n",
        "!gdown https://drive.google.com/uc?id=1AB2pkEQ0muhhUC7hq2dyjewRCdluX4RK\n",
        "!unzip corpus.zip\n",
        "%rm -rf corpus.zip"
      ],
      "id": "FseKAayT-XRz",
      "execution_count": 21,
      "outputs": [
        {
          "output_type": "stream",
          "text": [
            "/content\n",
            "Downloading...\n",
            "From: https://drive.google.com/uc?id=1AB2pkEQ0muhhUC7hq2dyjewRCdluX4RK\n",
            "To: /content/corpus.zip\n",
            "17.8MB [00:00, 31.5MB/s]\n",
            "Archive:  corpus.zip\n",
            "   creating: corpus/.ipynb_checkpoints/\n",
            "  inflating: corpus/.ipynb_checkpoints/preprocessing-checkpoint.ipynb  \n",
            "   creating: corpus/cs-en/\n",
            "  inflating: corpus/cs-en/scores.csv  \n",
            "   creating: corpus/de-en/\n",
            "   creating: corpus/de-en/.ipynb_checkpoints/\n",
            "  inflating: corpus/de-en/.ipynb_checkpoints/BLEUscore-checkpoint.ipynb  \n",
            "  inflating: corpus/de-en/.ipynb_checkpoints/ROUGE-checkpoint.ipynb  \n",
            "  inflating: corpus/de-en/BLEUscore.ipynb  \n",
            "  inflating: corpus/de-en/chrF_img.png  \n",
            "  inflating: corpus/de-en/laser.ipynb  \n",
            "  inflating: corpus/de-en/ROUGE.ipynb  \n",
            "  inflating: corpus/de-en/scores.csv  \n",
            "   creating: corpus/en-fi/\n",
            "  inflating: corpus/en-fi/.DS_Store  \n",
            "  inflating: corpus/en-fi/relative-ranks.csv  \n",
            "  inflating: corpus/en-fi/scores.csv  \n",
            "   creating: corpus/en-zh/\n",
            "  inflating: corpus/en-zh/scores.csv  \n",
            "   creating: corpus/ru-en/\n",
            "  inflating: corpus/ru-en/scores.csv  \n",
            "   creating: corpus/zh-en/\n",
            "  inflating: corpus/zh-en/scores.csv  \n"
          ],
          "name": "stdout"
        }
      ]
    },
    {
      "cell_type": "code",
      "metadata": {
        "colab": {
          "base_uri": "https://localhost:8080/",
          "height": 160
        },
        "id": "Xh9E5hXO30ee",
        "outputId": "b6b0ebac-5f8a-4bee-e7bf-0da498cec256"
      },
      "source": [
        "scores_en_zh = pd.read_csv(\"corpus/en-zh/scores.csv\")\n",
        "scores_en_zh.head(2)"
      ],
      "id": "Xh9E5hXO30ee",
      "execution_count": 22,
      "outputs": [
        {
          "output_type": "execute_result",
          "data": {
            "text/html": [
              "<div>\n",
              "<style scoped>\n",
              "    .dataframe tbody tr th:only-of-type {\n",
              "        vertical-align: middle;\n",
              "    }\n",
              "\n",
              "    .dataframe tbody tr th {\n",
              "        vertical-align: top;\n",
              "    }\n",
              "\n",
              "    .dataframe thead th {\n",
              "        text-align: right;\n",
              "    }\n",
              "</style>\n",
              "<table border=\"1\" class=\"dataframe\">\n",
              "  <thead>\n",
              "    <tr style=\"text-align: right;\">\n",
              "      <th></th>\n",
              "      <th>source</th>\n",
              "      <th>reference</th>\n",
              "      <th>translation</th>\n",
              "      <th>z-score</th>\n",
              "      <th>avg-score</th>\n",
              "      <th>annotators</th>\n",
              "    </tr>\n",
              "  </thead>\n",
              "  <tbody>\n",
              "    <tr>\n",
              "      <th>0</th>\n",
              "      <td>\"In the GISS model's simulation, Venus' slow s...</td>\n",
              "      <td>GSIS的科学家AnthonyDelGenio在新闻稿中解释说：“在GISS模型的模拟模型中...</td>\n",
              "      <td>戈达德太空研究所科学家安东尼·德尔·杰尼奥在新闻发布会上解释说：“在戈达德太空研究所的模型模...</td>\n",
              "      <td>-1.171867</td>\n",
              "      <td>50.0</td>\n",
              "      <td>1</td>\n",
              "    </tr>\n",
              "    <tr>\n",
              "      <th>1</th>\n",
              "      <td>Ai Yanhan of China in the Women's 4 x 200m Fre...</td>\n",
              "      <td>中国在英国女性4x200mFreestreyWTE中的最后被称为：“中国14岁的孩子从球下降...</td>\n",
              "      <td>参加女子4x200米自由泳接力赛决赛的中国小将艾衍含被这样描述：“那名14岁的中国小姑娘犯了...</td>\n",
              "      <td>-2.255403</td>\n",
              "      <td>26.5</td>\n",
              "      <td>2</td>\n",
              "    </tr>\n",
              "  </tbody>\n",
              "</table>\n",
              "</div>"
            ],
            "text/plain": [
              "                                              source  ... annotators\n",
              "0  \"In the GISS model's simulation, Venus' slow s...  ...          1\n",
              "1  Ai Yanhan of China in the Women's 4 x 200m Fre...  ...          2\n",
              "\n",
              "[2 rows x 6 columns]"
            ]
          },
          "metadata": {
            "tags": []
          },
          "execution_count": 22
        }
      ]
    },
    {
      "cell_type": "code",
      "metadata": {
        "id": "jSlPrNvy4CFw"
      },
      "source": [
        "srt = [\"source\", \"reference\", \"translation\"]\n",
        "language_pairs = [\n",
        "    \"cs-en\",\n",
        "    \"de-en\",\n",
        "    \"en-fi\",\n",
        "    \"en-zh\",\n",
        "    \"ru-en\",\n",
        "    \"zh-en\",\n",
        "]\n",
        "scores = {pair: pd.read_csv(f\"corpus/{pair}/scores.csv\") for pair in language_pairs}"
      ],
      "id": "jSlPrNvy4CFw",
      "execution_count": 23,
      "outputs": []
    },
    {
      "cell_type": "code",
      "metadata": {
        "colab": {
          "base_uri": "https://localhost:8080/"
        },
        "id": "IOW_3Ty19tfG",
        "outputId": "15a72cf9-0a86-47ec-d636-286abc486179"
      },
      "source": [
        "scores['cs-en']['avg-score'].head(2).tolist()"
      ],
      "id": "IOW_3Ty19tfG",
      "execution_count": 24,
      "outputs": [
        {
          "output_type": "execute_result",
          "data": {
            "text/plain": [
              "[60.0, 44.0]"
            ]
          },
          "metadata": {
            "tags": []
          },
          "execution_count": 24
        }
      ]
    },
    {
      "cell_type": "code",
      "metadata": {
        "id": "rw08XQ2M7Xtw"
      },
      "source": [
        "#Calculate LaBSE tokens\n",
        "\n",
        "tokens = {pair: {t: tokenizer(scores[pair][t].tolist(),\n",
        "                              return_tensors=\"pt\", # pytorch\n",
        "                              padding=True # padding to the longest in a batch\n",
        "                              ) for t in srt} for pair in language_pairs}"
      ],
      "id": "rw08XQ2M7Xtw",
      "execution_count": 26,
      "outputs": []
    },
    {
      "cell_type": "code",
      "metadata": {
        "id": "ylev6xxqK7TY"
      },
      "source": [
        "#tokens[\"cs-en\"]['source'].keys()"
      ],
      "id": "ylev6xxqK7TY",
      "execution_count": 7,
      "outputs": []
    },
    {
      "cell_type": "code",
      "metadata": {
        "id": "dTYMr06aDkWA"
      },
      "source": [
        "def calcEmbeddings(tokens, N_patittions=200):\n",
        "\n",
        "    if torch.cuda.is_available():\n",
        "        input_ids = torch.chunk(tokens['input_ids'].cuda(), N_patittions)\n",
        "        token_type_ids = torch.chunk(tokens['token_type_ids'].cuda(), N_patittions)\n",
        "        attention_mask = torch.chunk(tokens['attention_mask'].cuda(), N_patittions)\n",
        "    else:\n",
        "        input_ids = torch.chunk(tokens['input_ids'], N_patittions)\n",
        "        token_type_ids = torch.chunk(tokens['token_type_ids'], N_patittions)\n",
        "        attention_mask = torch.chunk(tokens['attention_mask'], N_patittions)\n",
        "    N_patittions = len(input_ids)\n",
        "\n",
        "    # initialization\n",
        "    token = {'input_ids' : input_ids[0],\n",
        "            'token_type_ids': token_type_ids[0],\n",
        "            'attention_mask' : attention_mask[0]\n",
        "            }\n",
        "    \n",
        "    with torch.no_grad():\n",
        "        embeddings = labse(**token).pooler_output\n",
        "\n",
        "    for p in tqdm(range(1, N_patittions)):\n",
        "        token = {'input_ids' : input_ids[p],\n",
        "                 'token_type_ids': token_type_ids[p],\n",
        "                 'attention_mask' : attention_mask[p]\n",
        "                 }\n",
        "        with torch.no_grad():\n",
        "            embeddings = torch.cat([embeddings, labse(**token).pooler_output])\n",
        "    \n",
        "    return embeddings"
      ],
      "id": "dTYMr06aDkWA",
      "execution_count": 27,
      "outputs": []
    },
    {
      "cell_type": "code",
      "metadata": {
        "id": "TvDxdvLcBgz-",
        "colab": {
          "base_uri": "https://localhost:8080/"
        },
        "outputId": "f7ce3780-279e-41bb-b285-fa99d5db22a9"
      },
      "source": [
        "# calculate embeddings\n",
        "\n",
        "embeddings = {pair: {t: calcEmbeddings(tokens[pair][t]) for t in srt}\n",
        "                    for pair in language_pairs}"
      ],
      "id": "TvDxdvLcBgz-",
      "execution_count": null,
      "outputs": [
        {
          "output_type": "stream",
          "text": [
            "\n",
            "  0%|          | 0/199 [00:00<?, ?it/s]\u001b[A\n",
            "  2%|▏         | 3/199 [00:00<00:27,  7.11it/s]\u001b[A\n",
            "  2%|▏         | 4/199 [00:00<00:38,  5.11it/s]\u001b[A\n",
            "  3%|▎         | 5/199 [00:01<00:46,  4.19it/s]\u001b[A\n",
            "  3%|▎         | 6/199 [00:01<00:52,  3.68it/s]\u001b[A\n",
            "  4%|▎         | 7/199 [00:01<00:55,  3.47it/s]\u001b[A\n",
            "  4%|▍         | 8/199 [00:02<00:58,  3.29it/s]\u001b[A\n",
            "  5%|▍         | 9/199 [00:02<01:00,  3.16it/s]\u001b[A\n",
            "  5%|▌         | 10/199 [00:02<01:00,  3.12it/s]\u001b[A\n",
            "  6%|▌         | 11/199 [00:03<01:01,  3.06it/s]\u001b[A\n",
            "  6%|▌         | 12/199 [00:03<01:02,  3.01it/s]\u001b[A\n",
            "  7%|▋         | 13/199 [00:03<01:01,  3.01it/s]\u001b[A\n",
            "  7%|▋         | 14/199 [00:04<01:02,  2.98it/s]\u001b[A\n",
            "  8%|▊         | 15/199 [00:04<01:02,  2.95it/s]\u001b[A\n",
            "  8%|▊         | 16/199 [00:04<01:01,  2.96it/s]\u001b[A\n",
            "  9%|▊         | 17/199 [00:05<01:01,  2.94it/s]\u001b[A\n",
            "  9%|▉         | 18/199 [00:05<01:01,  2.93it/s]\u001b[A\n",
            " 10%|▉         | 19/199 [00:05<01:01,  2.95it/s]\u001b[A\n",
            " 10%|█         | 20/199 [00:06<01:01,  2.93it/s]\u001b[A\n",
            " 11%|█         | 21/199 [00:06<01:01,  2.92it/s]\u001b[A\n",
            " 11%|█         | 22/199 [00:06<01:00,  2.92it/s]\u001b[A\n",
            " 12%|█▏        | 23/199 [00:07<01:00,  2.91it/s]\u001b[A\n",
            " 12%|█▏        | 24/199 [00:07<01:00,  2.91it/s]\u001b[A\n",
            " 13%|█▎        | 25/199 [00:07<00:59,  2.92it/s]\u001b[A\n",
            " 13%|█▎        | 26/199 [00:08<00:59,  2.91it/s]\u001b[A\n",
            " 14%|█▎        | 27/199 [00:08<00:59,  2.91it/s]\u001b[A\n",
            " 14%|█▍        | 28/199 [00:08<00:58,  2.91it/s]\u001b[A\n",
            " 15%|█▍        | 29/199 [00:09<00:58,  2.89it/s]\u001b[A\n",
            " 15%|█▌        | 30/199 [00:09<00:58,  2.90it/s]\u001b[A\n",
            " 16%|█▌        | 31/199 [00:09<00:58,  2.89it/s]\u001b[A\n",
            " 16%|█▌        | 32/199 [00:10<00:57,  2.89it/s]\u001b[A\n",
            " 17%|█▋        | 33/199 [00:10<00:57,  2.89it/s]\u001b[A\n",
            " 17%|█▋        | 34/199 [00:11<00:57,  2.89it/s]\u001b[A\n",
            " 18%|█▊        | 35/199 [00:11<00:56,  2.88it/s]\u001b[A\n",
            " 18%|█▊        | 36/199 [00:11<00:56,  2.89it/s]\u001b[A\n",
            " 19%|█▊        | 37/199 [00:12<00:56,  2.89it/s]\u001b[A\n",
            " 19%|█▉        | 38/199 [00:12<00:55,  2.88it/s]\u001b[A\n",
            " 20%|█▉        | 39/199 [00:12<00:55,  2.88it/s]\u001b[A\n",
            " 20%|██        | 40/199 [00:13<00:55,  2.88it/s]\u001b[A\n",
            " 21%|██        | 41/199 [00:13<00:55,  2.87it/s]\u001b[A\n",
            " 21%|██        | 42/199 [00:13<00:54,  2.87it/s]\u001b[A\n",
            " 22%|██▏       | 43/199 [00:14<00:54,  2.86it/s]\u001b[A\n",
            " 22%|██▏       | 44/199 [00:14<00:54,  2.86it/s]\u001b[A\n",
            " 23%|██▎       | 45/199 [00:14<00:53,  2.86it/s]\u001b[A\n",
            " 23%|██▎       | 46/199 [00:15<00:53,  2.86it/s]\u001b[A\n",
            " 24%|██▎       | 47/199 [00:15<00:53,  2.85it/s]\u001b[A\n",
            " 24%|██▍       | 48/199 [00:15<00:52,  2.85it/s]\u001b[A\n",
            " 25%|██▍       | 49/199 [00:16<00:52,  2.85it/s]\u001b[A\n",
            " 25%|██▌       | 50/199 [00:16<00:52,  2.85it/s]\u001b[A\n",
            " 26%|██▌       | 51/199 [00:16<00:51,  2.85it/s]\u001b[A\n",
            " 26%|██▌       | 52/199 [00:17<00:51,  2.84it/s]\u001b[A\n",
            " 27%|██▋       | 53/199 [00:17<00:51,  2.84it/s]\u001b[A\n",
            " 27%|██▋       | 54/199 [00:18<00:51,  2.84it/s]\u001b[A\n",
            " 28%|██▊       | 55/199 [00:18<00:50,  2.83it/s]\u001b[A\n",
            " 28%|██▊       | 56/199 [00:18<00:50,  2.83it/s]\u001b[A\n",
            " 29%|██▊       | 57/199 [00:19<00:50,  2.83it/s]\u001b[A\n",
            " 29%|██▉       | 58/199 [00:19<00:49,  2.82it/s]\u001b[A\n",
            " 30%|██▉       | 59/199 [00:19<00:49,  2.82it/s]\u001b[A\n",
            " 30%|███       | 60/199 [00:20<00:49,  2.83it/s]\u001b[A\n",
            " 31%|███       | 61/199 [00:20<00:48,  2.82it/s]\u001b[A\n",
            " 31%|███       | 62/199 [00:20<00:48,  2.82it/s]\u001b[A\n",
            " 32%|███▏      | 63/199 [00:21<00:48,  2.82it/s]\u001b[A\n",
            " 32%|███▏      | 64/199 [00:21<00:47,  2.82it/s]\u001b[A\n",
            " 33%|███▎      | 65/199 [00:21<00:47,  2.81it/s]\u001b[A\n",
            " 33%|███▎      | 66/199 [00:22<00:47,  2.81it/s]\u001b[A\n",
            " 34%|███▎      | 67/199 [00:22<00:47,  2.81it/s]\u001b[A\n",
            " 34%|███▍      | 68/199 [00:23<00:46,  2.80it/s]\u001b[A\n",
            " 35%|███▍      | 69/199 [00:23<00:46,  2.80it/s]\u001b[A\n",
            " 35%|███▌      | 70/199 [00:23<00:46,  2.80it/s]\u001b[A\n"
          ],
          "name": "stderr"
        }
      ]
    },
    {
      "cell_type": "code",
      "metadata": {
        "id": "MzNwNo7tlUUG"
      },
      "source": [
        "# %cd /content/\n",
        "with open(r\"LaBSE_embeddings.pkl\", \"wb\") as f:\n",
        "     pickle.dump(embeddings, f)"
      ],
      "id": "MzNwNo7tlUUG",
      "execution_count": null,
      "outputs": []
    },
    {
      "cell_type": "code",
      "metadata": {
        "id": "dfzkjnx_-jWR"
      },
      "source": [
        "# Release RAM\n",
        "\n",
        "#del labse\n",
        "#torch.cuda.empty_cache() \n",
        "gc.collect()"
      ],
      "id": "dfzkjnx_-jWR",
      "execution_count": null,
      "outputs": []
    },
    {
      "cell_type": "code",
      "metadata": {
        "id": "dp0bSUWlmVl1"
      },
      "source": [
        "# import io\n",
        "# !gdown https://drive.google.com/uc?id=1I83RSCTqHgw6dp1q7vLdr1ac_WfXOM5b \\\n",
        "# -O LaBSE_embeddings.pkl\n",
        "\n",
        "# with open(r\"LaBSE_embeddings.pkl\", \"rb\") as f:\n",
        "#     if torch.cuda.is_available():\n",
        "#         labse_embeddings = torch.load(f)\n",
        "#     else:\n",
        "#     # Doesnt work!\n",
        "#         labse_embeddings = torch.load(f, map_location=torch.device('cpu'))"
      ],
      "id": "dp0bSUWlmVl1",
      "execution_count": null,
      "outputs": []
    },
    {
      "cell_type": "markdown",
      "metadata": {
        "id": "FUNqtNIlsBrx"
      },
      "source": [
        "# Fully Connected Network"
      ],
      "id": "FUNqtNIlsBrx"
    },
    {
      "cell_type": "code",
      "metadata": {
        "id": "dried-tender"
      },
      "source": [
        "class DenseNetwork(nn.Module):\n",
        "    def __init__(self, input_size):\n",
        "        super(DenseNetwork, self).__init__()\n",
        "        self.input_size = input_size\n",
        "        self.middle_net = nn.Sequential(\n",
        "            nn.Linear(input_size * 2, input_size),  # (1536, 768)\n",
        "            nn.ReLU(),\n",
        "            nn.Linear(input_size, input_size // 2), #(768, 384)\n",
        "            nn.Dropout(p=0.5),\n",
        "            nn.ReLU(),\n",
        "            nn.Linear(input_size // 2, input_size // 4),  #(384, 192),\n",
        "            nn.Softmax(dim=input_size // 4)\n",
        "            )\n",
        "        self.outer_net = nn.Sequential(\n",
        "            nn.Linear(input_size // 2, input_size // 4),  # (384, 192)\n",
        "            nn.ReLU(),\n",
        "            nn.Linear(input_size // 4, input_size // 8), #(192, 96)\n",
        "            nn.Dropout(p=0.5),\n",
        "            nn.ReLU(),\n",
        "            nn.Linear(input_size // 8, input_size // 16),  #(96, 48)\n",
        "            nn.Relu(),\n",
        "            nn.Linear(input_size // 16, 1),  #(48, 1)\n",
        "            )\n",
        "\n",
        "    def forward(self, source, reference, translation):\n",
        "        x = torch.cat([source, reference], dim=1)\n",
        "        x = self.middle_net(x)\n",
        "        y = torch.cat([source, translation], dim=1)\n",
        "        y = self.middle_net(y)\n",
        "        z = torch.cat([x, y], dim=1)\n",
        "        return self.outer_net(z)"
      ],
      "id": "dried-tender",
      "execution_count": null,
      "outputs": []
    },
    {
      "cell_type": "markdown",
      "metadata": {
        "id": "87qTANpzMWq3"
      },
      "source": [
        "# TRAINING MODELS"
      ],
      "id": "87qTANpzMWq3"
    },
    {
      "cell_type": "code",
      "metadata": {
        "colab": {
          "base_uri": "https://localhost:8080/"
        },
        "id": "ip1l3bciQ8xK",
        "outputId": "6f562f2a-771e-4e9c-9296-9a83d47cc85e"
      },
      "source": [
        "%cd /content/\n",
        "%rm -rf radam.py\n",
        "\n",
        "!gdown https://drive.google.com/uc?id=1OpPRHftwAe_s6WHEJBkStmF2DAK6bM4v -O radam.py\n"
      ],
      "id": "ip1l3bciQ8xK",
      "execution_count": null,
      "outputs": [
        {
          "output_type": "stream",
          "text": [
            "/content\n",
            "Downloading...\n",
            "From: https://drive.google.com/uc?id=1OpPRHftwAe_s6WHEJBkStmF2DAK6bM4v\n",
            "To: /content/radam.py\n",
            "100% 11.8k/11.8k [00:00<00:00, 14.9MB/s]\n"
          ],
          "name": "stdout"
        }
      ]
    },
    {
      "cell_type": "code",
      "metadata": {
        "id": "evt4c6kDRfOw"
      },
      "source": [
        "from radam import RAdam, PlainRAdam, AdamW"
      ],
      "id": "evt4c6kDRfOw",
      "execution_count": null,
      "outputs": []
    },
    {
      "cell_type": "code",
      "metadata": {
        "id": "4c9nRpqONLj-"
      },
      "source": [
        "def load_data(pair):\n",
        "    \"\"\"\n",
        "    returns\n",
        "       tensors: source, reference, translation, labels\n",
        "    \"\"\"\n",
        "    # tensors (N, 768)\n",
        "    source = labse_embeddings[pair]['source']\n",
        "    reference = labse_embeddings[pair]['reference']\n",
        "    translation = labse_embeddings[pair]['translation']\n",
        "\n",
        "    labels =  torch.tensor(scores[pair]['avg-score'])\n",
        "\n",
        "    if torch.cuda.is_available():\n",
        "        source = source.cuda()\n",
        "        reference = reference.cuda()\n",
        "        translation = translation.cuda()\n",
        "        labels = labels.cuda()\n",
        "        \n",
        "    return source, reference, translation, labels"
      ],
      "id": "4c9nRpqONLj-",
      "execution_count": null,
      "outputs": []
    },
    {
      "cell_type": "code",
      "metadata": {
        "id": "VQ5VF97HTfH1"
      },
      "source": [
        "def train_model(pair,\n",
        "                epochs=200, batch_size=64, lr=0.01,\n",
        "                num_workers=0, log_interval=10):\n",
        "    # Loader parameters\n",
        "    pin_memory = True\n",
        "    if torch.cuda.is_available():\n",
        "        pin_memory = False\n",
        "    \n",
        "    params = {'batch_size': batch_size,\n",
        "                    'shuffle': True,\n",
        "                    'num_workers': num_workers,\n",
        "                    'pin_memory' : pin_memory\n",
        "          }\n",
        "\n",
        "    # load data\n",
        "    source, reference, translation, labels = load_data(pair)\n",
        "    \n",
        "    # train\n",
        "    dataset = TensorDataset(source, reference, translation, labels)\n",
        "    loader = DataLoader(dataset, **params)\n",
        "\n",
        "    # Initialize model\n",
        "    model = DenseNetwork(input_size=768)\n",
        "    model.train()\n",
        "    if torch.cuda.is_available():\n",
        "        model = model.cuda()\n",
        "\n",
        "    # Optimizer and Loss Criterion\n",
        "    optimizer = optim.Adam(model.parameters(), lr=lr)\n",
        "    criterion = nn.MSELoss()\n",
        "\n",
        "    # Training loop\n",
        "    summary = {'epoch' : [],\n",
        "               'train_loss' : [],\n",
        "               #'val_loss' : []\n",
        "               }\n",
        "\n",
        "    for epoch in range(epochs):\n",
        "        for batch_idx, (src, ref, trs, target) in enumerate(loader):\n",
        "            model.train()\n",
        "            optimizer.zero_grad()\n",
        "            output = model(src, ref, trs)\n",
        "            loss = criterion(output, target.unsqueeze(1).float())\n",
        "            loss.backward()\n",
        "            optimizer.step()\n",
        "\n",
        "        if epoch % log_interval == 0:\n",
        "            print('Train Epoch: {} \\tLoss: {:.2f}'.format(\n",
        "                    epoch,\n",
        "                    loss.data,\n",
        "                    #val_loss.data\n",
        "                    ))\n",
        "            summary['epoch'].append(epoch)\n",
        "            summary['train_loss'].append(loss.data)\n",
        "            #summary['val_loss'].append(val_loss.data)\n",
        "\n",
        "    return model, summary"
      ],
      "id": "VQ5VF97HTfH1",
      "execution_count": null,
      "outputs": []
    },
    {
      "cell_type": "code",
      "metadata": {
        "id": "yb6Ca3vYSnam"
      },
      "source": [
        "# def train_model(pair,\n",
        "#                 epochs=200, batch_size=64, lr=0.01,\n",
        "#                 num_workers=0, log_interval=10):\n",
        "#     # Loader parameters\n",
        "#     pin_memory = True\n",
        "#     if torch.cuda.is_available():\n",
        "#         pin_memory = False\n",
        "    \n",
        "#     train_params = {'batch_size': batch_size,\n",
        "#                     'shuffle': True,\n",
        "#                     'num_workers': num_workers,\n",
        "#                     'pin_memory' : pin_memory\n",
        "#           }\n",
        "\n",
        "#     # load data\n",
        "#     source, reference, translation, labels = load_data(pair)\n",
        "    \n",
        "#     # train-val split\n",
        "#     dataset = TensorDataset(source, reference, translation, labels)\n",
        "#     train_size = int(0.9 * len(dataset))\n",
        "#     val_size = len(dataset) - train_size \n",
        "#     train, val = random_split(dataset, [train_size, val_size],\n",
        "#                               generator=torch.Generator())\n",
        "#     # train\n",
        "#     train_loader = DataLoader(train, **train_params)\n",
        "#     # validation\n",
        "#     val_params = {'batch_size': val_size,\n",
        "#                   'shuffle': True,\n",
        "#                   'num_workers': num_workers,\n",
        "#                   'pin_memory' : pin_memory\n",
        "#                  }\n",
        "#     val_loader = DataLoader(val, **val_params)\n",
        "#     for i, (src, ref, trs, target) in enumerate(val_loader):\n",
        "#         val_src, val_ref, val_trs, val_target = src, ref, trs, target\n",
        "\n",
        "#     # Initialize model\n",
        "#     model = DenseNetwork(input_size=768)\n",
        "#     model.train()\n",
        "#     if torch.cuda.is_available():\n",
        "#         model = model.cuda()\n",
        "\n",
        "#     # Optimizer and Loss Criterion\n",
        "#     optimizer = RAdam(model.parameters(), lr=lr)\n",
        "#     criterion = nn.MSELoss()\n",
        "\n",
        "#     # Training loop\n",
        "#     summary = {'epoch' : [],\n",
        "#                'train_loss' : [],\n",
        "#                'val_loss' : []\n",
        "#                }\n",
        "#     for epoch in range(epochs):\n",
        "#         for batch_idx, \\\n",
        "#          (tr_src, tr_ref, tr_trs, tr_target) in enumerate(train_loader):\n",
        "#             model.train()\n",
        "#             optimizer.zero_grad()\n",
        "#             output = model(tr_src, tr_ref, tr_trs)\n",
        "#             loss = criterion(output, tr_target.unsqueeze(1).float())\n",
        "#             loss.backward()\n",
        "#             optimizer.step()\n",
        "\n",
        "#             # Validation\n",
        "#             model.eval()\n",
        "#             with torch.no_grad():\n",
        "#                 val_output = model(val_src, val_ref, val_trs)\n",
        "#                 val_loss = criterion(val_output, val_target.unsqueeze(1).float())\n",
        "\n",
        "#         if epoch % log_interval == 0:\n",
        "#             print('Train Epoch: {} \\tLoss: {:.2f} \\tValidation Loss: {:.2f}'.format(\n",
        "#                     epoch,\n",
        "#                     loss.data,\n",
        "#                     val_loss.data\n",
        "#                     ))\n",
        "#             summary['epoch'].append(epoch)\n",
        "#             summary['train_loss'].append(loss.data)\n",
        "#             summary['val_loss'].append(val_loss.data)\n",
        "\n",
        "#     return model, summary"
      ],
      "id": "yb6Ca3vYSnam",
      "execution_count": null,
      "outputs": []
    },
    {
      "cell_type": "code",
      "metadata": {
        "colab": {
          "base_uri": "https://localhost:8080/",
          "height": 315
        },
        "id": "P_JEixTtAzYf",
        "outputId": "58148167-4123-4233-a2c8-1641f33a5493"
      },
      "source": [
        "model_cs_en, summary = train_model('cs-en', epochs=1000, batch_size=64, lr=0.001)"
      ],
      "id": "P_JEixTtAzYf",
      "execution_count": null,
      "outputs": [
        {
          "output_type": "error",
          "ename": "NameError",
          "evalue": "ignored",
          "traceback": [
            "\u001b[0;31m---------------------------------------------------------------------------\u001b[0m",
            "\u001b[0;31mNameError\u001b[0m                                 Traceback (most recent call last)",
            "\u001b[0;32m<ipython-input-12-89c7662bd322>\u001b[0m in \u001b[0;36m<module>\u001b[0;34m()\u001b[0m\n\u001b[0;32m----> 1\u001b[0;31m \u001b[0mmodel_cs_en\u001b[0m\u001b[0;34m,\u001b[0m \u001b[0msummary\u001b[0m \u001b[0;34m=\u001b[0m \u001b[0mtrain_model\u001b[0m\u001b[0;34m(\u001b[0m\u001b[0;34m'cs-en'\u001b[0m\u001b[0;34m,\u001b[0m \u001b[0mepochs\u001b[0m\u001b[0;34m=\u001b[0m\u001b[0;36m1000\u001b[0m\u001b[0;34m,\u001b[0m \u001b[0mbatch_size\u001b[0m\u001b[0;34m=\u001b[0m\u001b[0;36m64\u001b[0m\u001b[0;34m,\u001b[0m \u001b[0mlr\u001b[0m\u001b[0;34m=\u001b[0m\u001b[0;36m0.001\u001b[0m\u001b[0;34m)\u001b[0m\u001b[0;34m\u001b[0m\u001b[0;34m\u001b[0m\u001b[0m\n\u001b[0m",
            "\u001b[0;32m<ipython-input-11-fb6eada44b82>\u001b[0m in \u001b[0;36mtrain_model\u001b[0;34m(pair, epochs, batch_size, lr, num_workers, log_interval)\u001b[0m\n\u001b[1;32m     14\u001b[0m \u001b[0;34m\u001b[0m\u001b[0m\n\u001b[1;32m     15\u001b[0m     \u001b[0;31m# load data\u001b[0m\u001b[0;34m\u001b[0m\u001b[0;34m\u001b[0m\u001b[0;34m\u001b[0m\u001b[0m\n\u001b[0;32m---> 16\u001b[0;31m     \u001b[0msource\u001b[0m\u001b[0;34m,\u001b[0m \u001b[0mreference\u001b[0m\u001b[0;34m,\u001b[0m \u001b[0mtranslation\u001b[0m\u001b[0;34m,\u001b[0m \u001b[0mlabels\u001b[0m \u001b[0;34m=\u001b[0m \u001b[0mload_data\u001b[0m\u001b[0;34m(\u001b[0m\u001b[0mpair\u001b[0m\u001b[0;34m)\u001b[0m\u001b[0;34m\u001b[0m\u001b[0;34m\u001b[0m\u001b[0m\n\u001b[0m\u001b[1;32m     17\u001b[0m \u001b[0;34m\u001b[0m\u001b[0m\n\u001b[1;32m     18\u001b[0m     \u001b[0;31m# train\u001b[0m\u001b[0;34m\u001b[0m\u001b[0;34m\u001b[0m\u001b[0;34m\u001b[0m\u001b[0m\n",
            "\u001b[0;32m<ipython-input-10-3dccb14f2c82>\u001b[0m in \u001b[0;36mload_data\u001b[0;34m(pair)\u001b[0m\n\u001b[1;32m      5\u001b[0m     \"\"\"\n\u001b[1;32m      6\u001b[0m     \u001b[0;31m# tensors (N, 768)\u001b[0m\u001b[0;34m\u001b[0m\u001b[0;34m\u001b[0m\u001b[0;34m\u001b[0m\u001b[0m\n\u001b[0;32m----> 7\u001b[0;31m     \u001b[0msource\u001b[0m \u001b[0;34m=\u001b[0m \u001b[0mlabse_embeddings\u001b[0m\u001b[0;34m[\u001b[0m\u001b[0mpair\u001b[0m\u001b[0;34m]\u001b[0m\u001b[0;34m[\u001b[0m\u001b[0;34m'source'\u001b[0m\u001b[0;34m]\u001b[0m\u001b[0;34m\u001b[0m\u001b[0;34m\u001b[0m\u001b[0m\n\u001b[0m\u001b[1;32m      8\u001b[0m     \u001b[0mreference\u001b[0m \u001b[0;34m=\u001b[0m \u001b[0mlabse_embeddings\u001b[0m\u001b[0;34m[\u001b[0m\u001b[0mpair\u001b[0m\u001b[0;34m]\u001b[0m\u001b[0;34m[\u001b[0m\u001b[0;34m'reference'\u001b[0m\u001b[0;34m]\u001b[0m\u001b[0;34m\u001b[0m\u001b[0;34m\u001b[0m\u001b[0m\n\u001b[1;32m      9\u001b[0m     \u001b[0mtranslation\u001b[0m \u001b[0;34m=\u001b[0m \u001b[0mlabse_embeddings\u001b[0m\u001b[0;34m[\u001b[0m\u001b[0mpair\u001b[0m\u001b[0;34m]\u001b[0m\u001b[0;34m[\u001b[0m\u001b[0;34m'translation'\u001b[0m\u001b[0;34m]\u001b[0m\u001b[0;34m\u001b[0m\u001b[0;34m\u001b[0m\u001b[0m\n",
            "\u001b[0;31mNameError\u001b[0m: name 'labse_embeddings' is not defined"
          ]
        }
      ]
    },
    {
      "cell_type": "code",
      "metadata": {
        "colab": {
          "base_uri": "https://localhost:8080/",
          "height": 265
        },
        "id": "aB1VxQ30tJFk",
        "outputId": "03833e5d-7929-40e7-8ed4-91d8cf931995"
      },
      "source": [
        "plt.plot(summary['epoch'], summary['train_loss'])\n",
        "#plt.plot(summary['epoch'], summary['val_loss'])\n",
        "\n",
        "plt.show()"
      ],
      "id": "aB1VxQ30tJFk",
      "execution_count": null,
      "outputs": [
        {
          "output_type": "display_data",
          "data": {
            "image/png": "[encoded data removed]",
            "text/plain": [
              "<Figure size 432x288 with 1 Axes>"
            ]
          },
          "metadata": {
            "tags": []
          }
        }
      ]
    },
    {
      "cell_type": "markdown",
      "metadata": {
        "id": "yWbDIEkDuV4X"
      },
      "source": [
        "# Predict"
      ],
      "id": "yWbDIEkDuV4X"
    },
    {
      "cell_type": "code",
      "metadata": {
        "colab": {
          "base_uri": "https://localhost:8080/"
        },
        "id": "HtZZsmnkmplf",
        "outputId": "08915ba7-2b98-43f7-f3e5-bc074d16cd79"
      },
      "source": [
        "model_cs_en.eval()\n",
        "\n",
        "with torch.no_grad():\n",
        "    if torch.cuda.is_available():\n",
        "        output = model(source.cuda(), reference.cuda(), translation.cuda())\n",
        "    else:\n",
        "        output = model(source, reference, translation)\n",
        "\n",
        "output"
      ],
      "id": "HtZZsmnkmplf",
      "execution_count": null,
      "outputs": [
        {
          "output_type": "execute_result",
          "data": {
            "text/plain": [
              "tensor([[69.4778],\n",
              "        [69.4778],\n",
              "        [69.4778],\n",
              "        ...,\n",
              "        [69.4778],\n",
              "        [69.4778],\n",
              "        [69.4778]], device='cuda:0')"
            ]
          },
          "metadata": {
            "tags": []
          },
          "execution_count": 246
        }
      ]
    },
    {
      "cell_type": "code",
      "metadata": {
        "colab": {
          "base_uri": "https://localhost:8080/"
        },
        "id": "4cRax2_Cdz6h",
        "outputId": "8d0f0b70-0d8f-4ceb-9230-2f627b153ba5"
      },
      "source": [
        "labels"
      ],
      "id": "4cRax2_Cdz6h",
      "execution_count": null,
      "outputs": [
        {
          "output_type": "execute_result",
          "data": {
            "text/plain": [
              "tensor([60.0000, 44.0000, 96.5000,  ..., 32.0000, 76.0000, 55.0000],\n",
              "       device='cuda:0', dtype=torch.float64)"
            ]
          },
          "metadata": {
            "tags": []
          },
          "execution_count": 72
        }
      ]
    }
  ]
}