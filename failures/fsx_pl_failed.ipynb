{
 "cells": [
  {
   "cell_type": "code",
   "execution_count": 1,
   "metadata": {},
   "outputs": [],
   "source": [
    "import pandas as pd\n",
    "import numpy as np\n",
    "import os\n",
    "\n",
    "import torch\n",
    "from torch import nn\n",
    "from torch.nn import functional as F\n",
    "from torch.utils.data import DataLoader, random_split\n",
    "from torchvision.datasets import MNIST\n",
    "from torchvision import transforms\n",
    "import pytorch_lightning as pl\n",
    "from pytorch_lightning.metrics.functional import accuracy"
   ]
  },
  {
   "cell_type": "code",
   "execution_count": 2,
   "metadata": {},
   "outputs": [],
   "source": [
    "srt = [\"source\", \"reference\", \"translation\"]\n",
    "language_pairs = [\n",
    "    \"cs-en\",\n",
    "    \"de-en\",\n",
    "    \"en-fi\",\n",
    "    \"en-zh\",\n",
    "    \"ru-en\",\n",
    "    \"zh-en\",\n",
    "]\n",
    "scores = {pair: pd.read_csv(f\"corpus/{pair}/scores.csv\") for pair in language_pairs}"
   ]
  },
  {
   "cell_type": "code",
   "execution_count": 3,
   "metadata": {},
   "outputs": [],
   "source": [
    "pair = \"cs-en\"\n",
    "embedding_ref = torch.from_numpy(np.load(f\"corpus/{pair}/laser.reference_embeds.npy\"))\n",
    "embedding_src = torch.from_numpy(np.load(f\"corpus/{pair}/laser.source_embeds.npy\"))\n",
    "embedding_trn = torch.from_numpy(np.load(f\"corpus/{pair}/laser.translation_embeds.npy\"))\n",
    "score = torch.tensor(scores[pair][\"z-score\"]).unsqueeze(1).float()\n"
   ]
  },
  {
   "cell_type": "code",
   "execution_count": 4,
   "metadata": {},
   "outputs": [
    {
     "data": {
      "text/plain": [
       "torch.Size([11585, 1])"
      ]
     },
     "execution_count": 4,
     "metadata": {},
     "output_type": "execute_result"
    }
   ],
   "source": [
    "score.shape"
   ]
  },
  {
   "cell_type": "code",
   "execution_count": 4,
   "metadata": {},
   "outputs": [],
   "source": [
    "# Exposing how to stack each embedding\n",
    "TEST_VALUE = 1024\n",
    "a = torch.tensor([[0 for i in range(TEST_VALUE)] for _ in range(11585)])\n",
    "b = torch.tensor([[1 for i in range(TEST_VALUE)] for _ in range(11585)])\n",
    "c = torch.tensor([[2 for i in range(TEST_VALUE)] for _ in range(11585)])\n",
    "# each row is an embedding\n",
    "tmp = torch.stack((a, b, c), 1).float()"
   ]
  },
  {
   "cell_type": "code",
   "execution_count": 34,
   "metadata": {},
   "outputs": [
    {
     "data": {
      "text/plain": [
       "torch.Size([11585, 1, 3, 1024])"
      ]
     },
     "execution_count": 34,
     "metadata": {},
     "output_type": "execute_result"
    }
   ],
   "source": [
    "embedding = torch.stack((embedding_ref, embedding_src, embedding_trn), 1).unsqueeze(1)\n",
    "embedding.shape"
   ]
  },
  {
   "cell_type": "code",
   "execution_count": 5,
   "metadata": {},
   "outputs": [],
   "source": [
    "class Model(pl.LightningModule):\n",
    "\n",
    "    def __init__(self):\n",
    "        super(Model, self).__init__()\n",
    "        self.conv1 = nn.Conv2d(1, 64, (3,4), stride=(3,8), padding=(0, 0))\n",
    "        self.pool1 = nn.MaxPool2d((3, 3), stride=(3, 1), padding=(1,1))\n",
    "        self.linear1 = nn.Linear(8192, 1, bias=True)\n",
    "        self.dropout2 = nn.Dropout(0.2)\n",
    "        self.flatten = nn.Flatten()\n",
    "    \n",
    "    def forward(self, x):\n",
    "        ## Define forward behavior\n",
    "        x = self.conv1(x)\n",
    "        # print(x.shape)\n",
    "        x = F.relu(x)\n",
    "        x = self.pool1(x)\n",
    "        # print(x.shape)\n",
    "        \n",
    "        # Flatten layer\n",
    "        # print(x.shape)\n",
    "        x = self.flatten(x) \n",
    "        # print(x.shape)\n",
    "        x = self.dropout2(x)\n",
    "        x = self.linear1(x)\n",
    "        # print(x.shape)\n",
    "        x = torch.tanh(x)\n",
    "        # print(x.shape)\n",
    "        return x\n",
    "\n",
    "    def training_step(self, batch, batch_nb):\n",
    "        x, y = batch\n",
    "        # logits = self(x)\n",
    "        # print(x.shape, y.shape)\n",
    "        loss = F.mse_loss(self(x), y)\n",
    "        return loss\n",
    "\n",
    "    def configure_optimizers(self):\n",
    "        return torch.optim.Adam(self.parameters(), lr=0.03)\n",
    "        # return Ranger21(self.parameters(), lr=0.02)"
   ]
  },
  {
   "cell_type": "code",
   "execution_count": 10,
   "metadata": {},
   "outputs": [],
   "source": [
    "model = Model()\n",
    "x = torch.randn(11585,1,3,1024)\n",
    "predicts = model(x)"
   ]
  },
  {
   "cell_type": "code",
   "execution_count": 6,
   "metadata": {},
   "outputs": [],
   "source": [
    "def Pearson(predicts, score):\n",
    "    return np.corrcoef(predicts.detach().numpy().flatten(), score.numpy().flatten())[0][1]"
   ]
  },
  {
   "cell_type": "code",
   "execution_count": 11,
   "metadata": {},
   "outputs": [
    {
     "data": {
      "text/plain": [
       "0.0068179225874049594"
      ]
     },
     "execution_count": 11,
     "metadata": {},
     "output_type": "execute_result"
    }
   ],
   "source": [
    "Pearson(predicts, score)"
   ]
  },
  {
   "cell_type": "code",
   "execution_count": 7,
   "metadata": {},
   "outputs": [],
   "source": [
    "from torch.utils.data import Dataset, TensorDataset\n",
    "\n",
    "\n",
    "class WordsDataset(Dataset):\n",
    "    def __init__(self, pair, transform=None):\n",
    "        embedding_ref = torch.from_numpy(\n",
    "            np.load(f\"corpus/{pair}/laser.reference_embeds.npy\")\n",
    "        )\n",
    "        embedding_src = torch.from_numpy(\n",
    "            np.load(f\"corpus/{pair}/laser.source_embeds.npy\")\n",
    "        )\n",
    "        embedding_trn = torch.from_numpy(\n",
    "            np.load(f\"corpus/{pair}/laser.translation_embeds.npy\")\n",
    "        )\n",
    "        self.embedding = (\n",
    "            torch.stack((embedding_src, embedding_ref, embedding_trn), 1)\n",
    "            .unsqueeze(1)\n",
    "            .float()\n",
    "        )\n",
    "        self.score = torch.tensor(scores[pair][\"z-score\"]).float().unsqueeze(1)\n",
    "        self.transform = transform\n",
    "\n",
    "    def __len__(self):\n",
    "        return len(self.score)\n",
    "\n",
    "    def __getitem__(self, idx):\n",
    "        emb = self.embedding[idx]\n",
    "        classification = self.score[idx]\n",
    "        if self.transform:\n",
    "            embedding = self.transform(emb)\n",
    "        sample = [emb, classification]\n",
    "        return sample\n"
   ]
  },
  {
   "cell_type": "code",
   "execution_count": 16,
   "metadata": {},
   "outputs": [
    {
     "name": "stderr",
     "output_type": "stream",
     "text": [
      "GPU available: True, used: True\n",
      "TPU available: False, using: 0 TPU cores\n"
     ]
    },
    {
     "name": "stdout",
     "output_type": "stream",
     "text": [
      "Embedding shape: torch.Size([11585, 1, 3, 1024])\n",
      "Score shape: torch.Size([11585, 1])\n"
     ]
    }
   ],
   "source": [
    "model = Model()\n",
    "\n",
    "train_ds = WordsDataset(pair)\n",
    "print(f\"Embedding shape: {train_ds.embedding.shape}\")\n",
    "print(f\"Score shape: {train_ds.score.shape}\")\n",
    "\n",
    "train_loader = DataLoader(train_ds, batch_size=32, num_workers=12)\n",
    "\n",
    "# Initialize a trainer\n",
    "trainer = pl.Trainer(gpus=1, max_epochs=3, progress_bar_refresh_rate=10)"
   ]
  },
  {
   "cell_type": "code",
   "execution_count": 17,
   "metadata": {},
   "outputs": [
    {
     "name": "stderr",
     "output_type": "stream",
     "text": [
      "LOCAL_RANK: 0 - CUDA_VISIBLE_DEVICES: [0]\n",
      "\n",
      "  | Name     | Type      | Params\n",
      "---------------------------------------\n",
      "0 | conv1    | Conv2d    | 832   \n",
      "1 | pool1    | MaxPool2d | 0     \n",
      "2 | linear1  | Linear    | 8.2 K \n",
      "3 | dropout2 | Dropout   | 0     \n",
      "4 | flatten  | Flatten   | 0     \n",
      "---------------------------------------\n",
      "9.0 K     Trainable params\n",
      "0         Non-trainable params\n",
      "9.0 K     Total params\n",
      "0.036     Total estimated model params size (MB)\n"
     ]
    },
    {
     "name": "stdout",
     "output_type": "stream",
     "text": [
      "Epoch 2: 100%|██████████| 363/363 [00:02<00:00, 153.03it/s, loss=1.67, v_num=85]\n"
     ]
    }
   ],
   "source": [
    "# Train the model ⚡\n",
    "trainer.fit(model, train_loader)"
   ]
  },
  {
   "cell_type": "code",
   "execution_count": 18,
   "metadata": {},
   "outputs": [
    {
     "data": {
      "text/plain": [
       "tensor([[-1.],\n",
       "        [-1.],\n",
       "        [-1.],\n",
       "        ...,\n",
       "        [-1.],\n",
       "        [-1.],\n",
       "        [-1.]], grad_fn=<TanhBackward>)"
      ]
     },
     "execution_count": 18,
     "metadata": {},
     "output_type": "execute_result"
    }
   ],
   "source": [
    "model(x)"
   ]
  },
  {
   "cell_type": "code",
   "execution_count": null,
   "metadata": {},
   "outputs": [],
   "source": []
  }
 ],
 "metadata": {
  "interpreter": {
   "hash": "f8b00cba333cbc52f2b9024e2fd0f03f267bd4c88e752638d58a81ffee90e795"
  },
  "kernelspec": {
   "display_name": "Python 3.9.5 64-bit ('pl': conda)",
   "name": "python3"
  },
  "language_info": {
   "name": "python",
   "version": ""
  },
  "orig_nbformat": 2
 },
 "nbformat": 4,
 "nbformat_minor": 2
}