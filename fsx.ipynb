{
 "cells": [
  {
   "cell_type": "code",
   "execution_count": 20,
   "metadata": {},
   "outputs": [],
   "source": [
    "import pandas as pd\n",
    "import numpy as np"
   ]
  },
  {
   "cell_type": "code",
   "execution_count": 9,
   "metadata": {},
   "outputs": [],
   "source": [
    "scores_cs_en = pd.read_csv(\"corpus/cs-en/scores.csv\")\n",
    "scores_de_en = pd.read_csv(\"corpus/de-en/scores.csv\")\n",
    "scores_en_fi = pd.read_csv(\"corpus/en-fi/scores.csv\")\n",
    "scores_en_zh = pd.read_csv(\"corpus/en-zh/scores.csv\")\n",
    "scores_ru_en = pd.read_csv(\"corpus/ru-en/scores.csv\")\n",
    "scores_zh_en = pd.read_csv(\"corpus/zh-en/scores.csv\")\n",
    "\n",
    "test_scores_cs_en = pd.read_csv(\"testset/cs-en/scores.csv\")\n",
    "test_scores_de_en = pd.read_csv(\"testset/de-en/scores.csv\")\n",
    "test_scores_en_fi = pd.read_csv(\"testset/en-fi/scores.csv\")\n",
    "test_scores_en_zh = pd.read_csv(\"testset/en-zh/scores.csv\")\n",
    "test_scores_ru_en = pd.read_csv(\"testset/ru-en/scores.csv\")\n",
    "test_scores_zh_en = pd.read_csv(\"testset/zh-en/scores.csv\")"
   ]
  },
  {
   "cell_type": "code",
   "execution_count": 21,
   "metadata": {},
   "outputs": [],
   "source": [
    "embeds_cs_en_ref = np.load(\"corpus/cs-en/laser.reference_embeds.npy\")\n",
    "embeds_cs_en_src = np.load(\"corpus/cs-en/laser.source_embeds.npy\")\n",
    "embeds_cs_en_trn = np.load(\"corpus/cs-en/laser.translation_embeds.npy\")"
   ]
  },
  {
   "cell_type": "code",
   "execution_count": 26,
   "metadata": {},
   "outputs": [
    {
     "data": {
      "text/plain": "array([ 0.01921036, -0.00059657, -0.00497238, ...,  0.03154517,\n        0.00850444,  0.02095747], dtype=float32)"
     },
     "execution_count": 26,
     "metadata": {},
     "output_type": "execute_result"
    }
   ],
   "source": [
    "embeds_cs_en_trn[0]"
   ]
  },
  {
   "cell_type": "code",
   "execution_count": 18,
   "metadata": {},
   "outputs": [
    {
     "data": {
      "text/html": "<div>\n<style scoped>\n    .dataframe tbody tr th:only-of-type {\n        vertical-align: middle;\n    }\n\n    .dataframe tbody tr th {\n        vertical-align: top;\n    }\n\n    .dataframe thead th {\n        text-align: right;\n    }\n</style>\n<table border=\"1\" class=\"dataframe\">\n  <thead>\n    <tr style=\"text-align: right;\">\n      <th></th>\n      <th>source</th>\n      <th>reference</th>\n      <th>translation</th>\n    </tr>\n  </thead>\n  <tbody>\n    <tr>\n      <th>0</th>\n      <td>The future and the destinies of the citizens o...</td>\n      <td>世界上每个国家公民的未来和命运日益联系在一起。</td>\n      <td>世界各国人民前途命运越来越紧密地联系在一起。</td>\n    </tr>\n    <tr>\n      <th>1</th>\n      <td>After all that hard work, the finished result ...</td>\n      <td>经过那么多的努力，最终的结果现在已经可以揭晓了。</td>\n      <td>经过这么艰辛的工作，最终的结果现在才得以公布。</td>\n    </tr>\n    <tr>\n      <th>2</th>\n      <td>Author: researcher of Suning Institute of Fina...</td>\n      <td>作者：苏宁金融研究所研究员，财经专栏作家，财经评论员。</td>\n      <td>作者：苏宁金融研究院特约研究员，财经专栏作家，财经评论员。</td>\n    </tr>\n    <tr>\n      <th>3</th>\n      <td>“The Great Wall” tells the story of a Chinese ...</td>\n      <td>《长城》讲述了古代一支中国精锐部队在世界著名的中国长城上与怪物桃蒂英勇作战的故事。</td>\n      <td>《长城》讲述了在古代，一支中国精英部队为保卫人类，在举世闻名的长城上与怪兽饕餮进行生死决战的故事。</td>\n    </tr>\n    <tr>\n      <th>4</th>\n      <td>Our comrades from the Political Bureau should ...</td>\n      <td>政治局同志要学习历史，讲道理，不能混淆公、私利益，叫白黑，模糊义与利的界限，处理基于裙带关系...</td>\n      <td>中央政治局的同志都应该明史知理，不能颠倒了公私、混淆了是非、模糊了义利、放纵了亲情，要带头树...</td>\n    </tr>\n  </tbody>\n</table>\n</div>",
      "text/plain": "                                              source  \\\n0  The future and the destinies of the citizens o...   \n1  After all that hard work, the finished result ...   \n2  Author: researcher of Suning Institute of Fina...   \n3  “The Great Wall” tells the story of a Chinese ...   \n4  Our comrades from the Political Bureau should ...   \n\n                                           reference  \\\n0                            世界上每个国家公民的未来和命运日益联系在一起。   \n1                           经过那么多的努力，最终的结果现在已经可以揭晓了。   \n2                        作者：苏宁金融研究所研究员，财经专栏作家，财经评论员。   \n3          《长城》讲述了古代一支中国精锐部队在世界著名的中国长城上与怪物桃蒂英勇作战的故事。   \n4  政治局同志要学习历史，讲道理，不能混淆公、私利益，叫白黑，模糊义与利的界限，处理基于裙带关系...   \n\n                                         translation  \n0                             世界各国人民前途命运越来越紧密地联系在一起。  \n1                            经过这么艰辛的工作，最终的结果现在才得以公布。  \n2                      作者：苏宁金融研究院特约研究员，财经专栏作家，财经评论员。  \n3  《长城》讲述了在古代，一支中国精英部队为保卫人类，在举世闻名的长城上与怪兽饕餮进行生死决战的故事。  \n4  中央政治局的同志都应该明史知理，不能颠倒了公私、混淆了是非、模糊了义利、放纵了亲情，要带头树...  "
     },
     "execution_count": 18,
     "metadata": {},
     "output_type": "execute_result"
    }
   ],
   "source": [
    "test_scores_en_zh.head()"
   ]
  },
  {
   "cell_type": "code",
   "execution_count": 16,
   "metadata": {},
   "outputs": [
    {
     "name": "stdout",
     "output_type": "stream",
     "text": [
      "You will then grab the weapon between your forearm and shoulder just before you hit it in your face with a free elbow.\n",
      "You then grasp the gun between your forearm and shoulder before hitting them in the face with your free elbow.\n"
     ]
    }
   ],
   "source": [
    "print(scores_cs_en.iloc[0][\"reference\"])\n",
    "print(scores_cs_en.iloc[0][\"translation\"])"
   ]
  }
 ],
 "metadata": {
  "interpreter": {
   "hash": "6da8bbfeea51fda31e635c8aaf087e5a45eb656b3df5685a04e71f66d6c730ef"
  },
  "kernelspec": {
   "display_name": "Python 3.9.4 64-bit ('nlp': conda)",
   "name": "python3"
  },
  "language_info": {
   "codemirror_mode": {
    "name": "ipython",
    "version": 3
   },
   "file_extension": ".py",
   "mimetype": "text/x-python",
   "name": "python",
   "nbconvert_exporter": "python",
   "pygments_lexer": "ipython3",
   "version": "3.9.4"
  },
  "orig_nbformat": 2
 },
 "nbformat": 4,
 "nbformat_minor": 2
}