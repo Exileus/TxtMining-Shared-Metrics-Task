{
 "cells": [
  {
   "cell_type": "code",
   "execution_count": 1,
   "metadata": {},
   "outputs": [],
   "source": [
    "import pandas as pd\n",
    "import numpy as np\n",
    "import os\n",
    "\n",
    "import torch\n",
    "from torch import nn\n",
    "from torch.nn import functional as F\n",
    "from torch.utils.data import DataLoader, random_split\n",
    "from torchvision.datasets import MNIST\n",
    "from torchvision import transforms\n",
    "import pytorch_lightning as pl\n",
    "from pytorch_lightning.metrics.functional import accuracy"
   ]
  },
  {
   "cell_type": "code",
   "execution_count": 2,
   "metadata": {},
   "outputs": [],
   "source": [
    "srt = [\"source\", \"reference\", \"translation\"]\n",
    "language_pairs = [\n",
    "    \"cs-en\",\n",
    "    \"de-en\",\n",
    "    \"en-fi\",\n",
    "    \"en-zh\",\n",
    "    \"ru-en\",\n",
    "    \"zh-en\",\n",
    "]\n",
    "scores = {pair: pd.read_csv(f\"corpus/{pair}/scores.csv\") for pair in language_pairs}"
   ]
  },
  {
   "cell_type": "code",
   "execution_count": 3,
   "metadata": {},
   "outputs": [],
   "source": [
    "pair = \"cs-en\"\n",
    "embedding_ref = torch.from_numpy(np.load(f\"corpus/{pair}/laser.reference_embeds.npy\"))\n",
    "embedding_src = torch.from_numpy(np.load(f\"corpus/{pair}/laser.source_embeds.npy\"))\n",
    "embedding_trn = torch.from_numpy(np.load(f\"corpus/{pair}/laser.translation_embeds.npy\"))\n",
    "score = torch.tensor(scores[pair][\"z-score\"]).float()"
   ]
  },
  {
   "cell_type": "code",
   "execution_count": 4,
   "metadata": {},
   "outputs": [],
   "source": [
    "# Exposing how to stack each embedding\n",
    "TEST_VALUE = 1024\n",
    "a = torch.tensor([[0 for i in range(TEST_VALUE)] for _ in range(11585)])\n",
    "b = torch.tensor([[1 for i in range(TEST_VALUE)] for _ in range(11585)])\n",
    "c = torch.tensor([[2 for i in range(TEST_VALUE)] for _ in range(11585)])\n",
    "# each row is an embedding\n",
    "tmp = torch.stack((a, b, c), 1).float()"
   ]
  },
  {
   "cell_type": "code",
   "execution_count": 5,
   "metadata": {},
   "outputs": [
    {
     "data": {
      "text/plain": "torch.Size([11585, 3, 1024])"
     },
     "execution_count": 5,
     "metadata": {},
     "output_type": "execute_result"
    }
   ],
   "source": [
    "embedding = torch.stack((embedding_ref, embedding_src, embedding_trn), 1)\n",
    "embedding.shape"
   ]
  },
  {
   "cell_type": "code",
   "execution_count": 6,
   "metadata": {},
   "outputs": [],
   "source": [
    "class Model(pl.LightningModule):\n",
    "\n",
    "    def __init__(self):\n",
    "        super(Model, self).__init__()\n",
    "        self.flatten = nn.Flatten()\n",
    "        self.l1 = torch.nn.Linear(TEST_VALUE * 3, 1)\n",
    "\n",
    "    def forward(self, x):\n",
    "        x = self.flatten(x)\n",
    "        x = self.l1(x)\n",
    "        return torch.relu(x)\n",
    "\n",
    "    def training_step(self, batch, batch_nb):\n",
    "        x, y = batch\n",
    "        loss = F.mse_loss(self(x), y.unsqueeze(1))\n",
    "        return loss\n",
    "\n",
    "    def configure_optimizers(self):\n",
    "        return torch.optim.Adam(self.parameters(), lr=0.3)\n",
    "        # return Ranger21(self.parameters(), lr=0.02)"
   ]
  },
  {
   "cell_type": "code",
   "execution_count": 152,
   "metadata": {},
   "outputs": [],
   "source": [
    "class Model(pl.LightningModule):\n",
    "\n",
    "    def __init__(self):\n",
    "        super(Model, self).__init__()\n",
    "        self.conv1 = nn.Conv2d(1, 64, (3,4), stride=(3,8), padding=(0, 0))\n",
    "        self.pool1 = nn.MaxPool2d((3, 3), stride=(3, 1), padding=(1,1))\n",
    "        self.linear1 = nn.Linear(8192, 1, bias=False)\n",
    "        self.dropout2 = nn.Dropout(0.2)\n",
    "        self.flatten = nn.Flatten()\n",
    "    \n",
    "    def forward(self, x):\n",
    "        ## Define forward behavior\n",
    "        x = self.conv1(x)\n",
    "        # print(x.shape)\n",
    "        x = F.relu(x)\n",
    "        x = self.pool1(x)\n",
    "        # print(x.shape)\n",
    "        \n",
    "        # Flatten layer\n",
    "        x = self.flatten(x) \n",
    "        # print(x.shape)\n",
    "        x = self.dropout2(x)\n",
    "        x = self.linear1(x)\n",
    "        x = torch.log_softmax(x, 1)\n",
    "        return x\n",
    "\n",
    "    def training_step(self, batch, batch_nb):\n",
    "        x, y = batch\n",
    "        # logits = self(x)\n",
    "        # print(x.shape, y.shape)\n",
    "        loss = F.mse_loss(self(x), y.unsqueeze(1))\n",
    "        return loss\n",
    "\n",
    "    def configure_optimizers(self):\n",
    "        return torch.optim.Adam(self.parameters(), lr=0.03)\n",
    "        # return Ranger21(self.parameters(), lr=0.02)"
   ]
  },
  {
   "cell_type": "code",
   "execution_count": 224,
   "metadata": {},
   "outputs": [],
   "source": [
    "class Model(pl.LightningModule):\n",
    "    def __init__(self):\n",
    "        super().__init__()\n",
    "\n",
    "        # mnist images are (1, 28, 28) (channels, width, height)\n",
    "        self.layer_1 = nn.Linear(3 * 1024, 1024)\n",
    "        self.layer_2 = nn.Linear(1024, 256)\n",
    "        self.layer_3 = nn.Linear(256, 1)\n",
    "        self.flatten = nn.Flatten()\n",
    "\n",
    "    def forward(self, x):\n",
    "        batch_size, channels, width, height = x.size()\n",
    "        # (b, 1, 28, 28) -> (b, 1*28*28)\n",
    "        # x = x.view(batch_size, -1)\n",
    "        x = self.flatten(x)\n",
    "        x = self.layer_1(x)\n",
    "        x = F.relu(x)\n",
    "        x = self.layer_2(x)\n",
    "        x = F.relu(x)\n",
    "        x = self.layer_3(x)\n",
    "\n",
    "        x = torch.sigmoid(x)\n",
    "        return x\n",
    "    def training_step(self, batch, batch_nb):\n",
    "        x, y = batch\n",
    "        loss = F.mse_loss(self(x), y.unsqueeze(1))\n",
    "        return loss\n",
    "    def test_step(self, batch, batch_idx):\n",
    "        x, y = batch\n",
    "        logits = self(x)\n",
    "        loss = F.mse_loss(logits, y.unsqueeze(1))\n",
    "        return loss\n",
    "        \n",
    "    def configure_optimizers(self):\n",
    "        return torch.optim.Adam(self.parameters(), lr=0.03)\n"
   ]
  },
  {
   "cell_type": "code",
   "execution_count": 225,
   "metadata": {},
   "outputs": [
    {
     "data": {
      "text/plain": "tensor([[0.4517]], grad_fn=<SigmoidBackward>)"
     },
     "execution_count": 225,
     "metadata": {},
     "output_type": "execute_result"
    }
   ],
   "source": [
    "model = Model()\n",
    "x = torch.randn(1,1,3,1024)\n",
    "model(x)"
   ]
  },
  {
   "cell_type": "code",
   "execution_count": 226,
   "metadata": {},
   "outputs": [],
   "source": [
    "from torch.utils.data import Dataset\n",
    "class WordsDataset(Dataset):\n",
    "    def __init__(self, pair, transform=None):\n",
    "        embedding_ref = torch.from_numpy(np.load(f\"corpus/{pair}/laser.reference_embeds.npy\"))\n",
    "        embedding_src = torch.from_numpy(np.load(f\"corpus/{pair}/laser.source_embeds.npy\"))\n",
    "        embedding_trn = torch.from_numpy(np.load(f\"corpus/{pair}/laser.translation_embeds.npy\"))\n",
    "        self.embedding = torch.stack((embedding_src, embedding_ref, embedding_trn), 1).float()\n",
    "        self.embedding = self.embedding.unsqueeze(1)\n",
    "        self.score = torch.tensor(scores[pair][\"z-score\"]).float()\n",
    "        self.transform = transform\n",
    "\n",
    "    def __len__(self):\n",
    "        return len(self.score)\n",
    "\n",
    "    def __getitem__(self, idx):\n",
    "        emb = self.embedding[idx]\n",
    "        classification = self.score[idx]\n",
    "        if self.transform:\n",
    "            embedding = self.transform(emb)\n",
    "        sample = [emb, classification]\n",
    "        return sample"
   ]
  },
  {
   "cell_type": "code",
   "execution_count": 227,
   "metadata": {},
   "outputs": [
    {
     "name": "stderr",
     "output_type": "stream",
     "text": [
      "GPU available: True, used: True\n",
      "TPU available: False, using: 0 TPU cores\n"
     ]
    }
   ],
   "source": [
    "model = Model()\n",
    "\n",
    "train_ds = WordsDataset(pair)\n",
    "train_loader = DataLoader(train_ds, batch_size=32, num_workers=12)\n",
    "\n",
    "# Initialize a trainer\n",
    "trainer = pl.Trainer(gpus=1, max_epochs=1, progress_bar_refresh_rate=10)"
   ]
  },
  {
   "cell_type": "code",
   "execution_count": 228,
   "metadata": {},
   "outputs": [
    {
     "name": "stderr",
     "output_type": "stream",
     "text": [
      "LOCAL_RANK: 0 - CUDA_VISIBLE_DEVICES: [0]\n",
      "\n",
      "  | Name    | Type    | Params\n",
      "------------------------------------\n",
      "0 | layer_1 | Linear  | 3.1 M \n",
      "1 | layer_2 | Linear  | 262 K \n",
      "2 | layer_3 | Linear  | 257   \n",
      "3 | flatten | Flatten | 0     \n",
      "------------------------------------\n",
      "3.4 M     Trainable params\n",
      "0         Non-trainable params\n",
      "3.4 M     Total params\n",
      "13.638    Total estimated model params size (MB)\n"
     ]
    },
    {
     "name": "stdout",
     "output_type": "stream",
     "text": [
      "Epoch 0: 100%|██████████| 363/363 [00:02<00:00, 129.45it/s, loss=0.93, v_num=83]\n"
     ]
    }
   ],
   "source": [
    "# Train the model ⚡\n",
    "trainer.fit(model, train_loader)"
   ]
  },
  {
   "cell_type": "code",
   "execution_count": 229,
   "metadata": {},
   "outputs": [
    {
     "name": "stderr",
     "output_type": "stream",
     "text": [
      "LOCAL_RANK: 0 - CUDA_VISIBLE_DEVICES: [0]\n"
     ]
    },
    {
     "name": "stdout",
     "output_type": "stream",
     "text": [
      "Testing: 100%|██████████| 363/363 [00:01<00:00, 279.96it/s]\n",
      "--------------------------------------------------------------------------------\n",
      "DATALOADER:0 TEST RESULTS\n",
      "{}\n",
      "--------------------------------------------------------------------------------\n"
     ]
    },
    {
     "data": {
      "text/plain": "[{}]"
     },
     "execution_count": 229,
     "metadata": {},
     "output_type": "execute_result"
    }
   ],
   "source": [
    "trainer.test(test_dataloaders=train_loader)"
   ]
  },
  {
   "cell_type": "code",
   "execution_count": 230,
   "metadata": {},
   "outputs": [
    {
     "name": "stdout",
     "output_type": "stream",
     "text": [
      "tensor([[0.]], grad_fn=<SigmoidBackward>) tensor(-0.6754)\n",
      "tensor([[0.]], grad_fn=<SigmoidBackward>) tensor(-0.8294)\n",
      "tensor([[0.]], grad_fn=<SigmoidBackward>) tensor(0.8032)\n",
      "tensor([[0.]], grad_fn=<SigmoidBackward>) tensor(0.5631)\n",
      "tensor([[0.]], grad_fn=<SigmoidBackward>) tensor(0.0215)\n",
      "tensor([[0.]], grad_fn=<SigmoidBackward>) tensor(-0.8177)\n",
      "tensor([[0.]], grad_fn=<SigmoidBackward>) tensor(0.2873)\n",
      "tensor([[0.]], grad_fn=<SigmoidBackward>) tensor(-0.8359)\n",
      "tensor([[0.]], grad_fn=<SigmoidBackward>) tensor(1.0278)\n",
      "tensor([[0.]], grad_fn=<SigmoidBackward>) tensor(0.1739)\n"
     ]
    }
   ],
   "source": [
    "for i in range(10):\n",
    "    print(model(train_ds.embedding[i].unsqueeze(1).transpose(0, 1)), score[i])"
   ]
  },
  {
   "cell_type": "code",
   "execution_count": null,
   "metadata": {},
   "outputs": [],
   "source": []
  }
 ],
 "metadata": {
  "interpreter": {
   "hash": "5bf200e092f723639dd4915e5a3f41287fe91ee7928d43ab7e38c00c2dcb0f87"
  },
  "kernelspec": {
   "display_name": "Python 3.9.5 64-bit ('pytorch-lightning': conda)",
   "name": "python3"
  },
  "language_info": {
   "codemirror_mode": {
    "name": "ipython",
    "version": 3
   },
   "file_extension": ".py",
   "mimetype": "text/x-python",
   "name": "python",
   "nbconvert_exporter": "python",
   "pygments_lexer": "ipython3",
   "version": "3.9.5"
  },
  "orig_nbformat": 2
 },
 "nbformat": 4,
 "nbformat_minor": 2
}