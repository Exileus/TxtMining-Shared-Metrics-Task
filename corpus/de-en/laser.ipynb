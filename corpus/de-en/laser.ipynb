{
 "cells": [
  {
   "cell_type": "markdown",
   "id": "broad-journalism",
   "metadata": {},
   "source": [
    "Implementation of LASER to the corpus"
   ]
  },
  {
   "cell_type": "code",
   "execution_count": 1,
   "id": "linear-michael",
   "metadata": {},
   "outputs": [],
   "source": [
    "# Imports\n",
    "import numpy as np\n",
    "from scipy import spatial\n",
    "import pandas as pd\n",
    "\n",
    "from sklearn.linear_model import LinearRegression\n",
    "from sklearn.neural_network import MLPRegressor\n",
    "from sklearn.model_selection import train_test_split, KFold\n",
    "from sklearn.metrics import mean_absolute_error"
   ]
  },
  {
   "cell_type": "markdown",
   "id": "regulation-dubai",
   "metadata": {},
   "source": [
    "Load Dataset"
   ]
  },
  {
   "cell_type": "code",
   "execution_count": 2,
   "id": "specified-variety",
   "metadata": {},
   "outputs": [],
   "source": [
    "df1 = pd.read_csv(\"scores.csv\")"
   ]
  },
  {
   "cell_type": "code",
   "execution_count": 3,
   "id": "dominant-bandwidth",
   "metadata": {},
   "outputs": [
    {
     "name": "stdout",
     "output_type": "stream",
     "text": [
      "<class 'pandas.core.frame.DataFrame'>\n",
      "RangeIndex: 21704 entries, 0 to 21703\n",
      "Data columns (total 6 columns):\n",
      " #   Column       Non-Null Count  Dtype  \n",
      "---  ------       --------------  -----  \n",
      " 0   source       21704 non-null  object \n",
      " 1   reference    21704 non-null  object \n",
      " 2   translation  21704 non-null  object \n",
      " 3   z-score      21704 non-null  float64\n",
      " 4   avg-score    21704 non-null  float64\n",
      " 5   annotators   21704 non-null  int64  \n",
      "dtypes: float64(2), int64(1), object(3)\n",
      "memory usage: 1017.5+ KB\n"
     ]
    }
   ],
   "source": [
    "df1.info()"
   ]
  },
  {
   "cell_type": "code",
   "execution_count": 4,
   "id": "internal-scotland",
   "metadata": {},
   "outputs": [
    {
     "data": {
      "text/html": [
       "<div>\n",
       "<style scoped>\n",
       "    .dataframe tbody tr th:only-of-type {\n",
       "        vertical-align: middle;\n",
       "    }\n",
       "\n",
       "    .dataframe tbody tr th {\n",
       "        vertical-align: top;\n",
       "    }\n",
       "\n",
       "    .dataframe thead th {\n",
       "        text-align: right;\n",
       "    }\n",
       "</style>\n",
       "<table border=\"1\" class=\"dataframe\">\n",
       "  <thead>\n",
       "    <tr style=\"text-align: right;\">\n",
       "      <th></th>\n",
       "      <th>source</th>\n",
       "      <th>reference</th>\n",
       "      <th>translation</th>\n",
       "      <th>z-score</th>\n",
       "      <th>avg-score</th>\n",
       "      <th>annotators</th>\n",
       "    </tr>\n",
       "  </thead>\n",
       "  <tbody>\n",
       "    <tr>\n",
       "      <th>0</th>\n",
       "      <td>Ihr Zeitlupentempo maßen sie, als sie vor Spit...</td>\n",
       "      <td>Her timeless pace measures them when they equi...</td>\n",
       "      <td>Their slow speed was measured by researchers o...</td>\n",
       "      <td>-0.345024</td>\n",
       "      <td>76.0</td>\n",
       "      <td>1</td>\n",
       "    </tr>\n",
       "    <tr>\n",
       "      <th>1</th>\n",
       "      <td>Er sagte, dass die Bereiche ruhige Treffpunkte...</td>\n",
       "      <td>He said the areas offer quiet meeting points b...</td>\n",
       "      <td>He said the spaces provided calm meeting point...</td>\n",
       "      <td>0.903800</td>\n",
       "      <td>97.5</td>\n",
       "      <td>2</td>\n",
       "    </tr>\n",
       "    <tr>\n",
       "      <th>2</th>\n",
       "      <td>Für die Geschäftsleute an der B 27 ist es nur ...</td>\n",
       "      <td>For businessmen at the B 27, it's only a small...</td>\n",
       "      <td>This is only a small consolation for businesse...</td>\n",
       "      <td>0.700503</td>\n",
       "      <td>94.0</td>\n",
       "      <td>1</td>\n",
       "    </tr>\n",
       "    <tr>\n",
       "      <th>3</th>\n",
       "      <td>Diese Fähigkeit sei möglicherweise angeboren o...</td>\n",
       "      <td>This ability may be born or developed with gen...</td>\n",
       "      <td>This ability may be innate, or may develop as ...</td>\n",
       "      <td>-1.256572</td>\n",
       "      <td>51.5</td>\n",
       "      <td>2</td>\n",
       "    </tr>\n",
       "    <tr>\n",
       "      <th>4</th>\n",
       "      <td>Weil sie Wassertemperaturen um die sechs Grad ...</td>\n",
       "      <td>Because they prefer water temperatures around ...</td>\n",
       "      <td>They generally only come to the surface in win...</td>\n",
       "      <td>0.293909</td>\n",
       "      <td>87.0</td>\n",
       "      <td>2</td>\n",
       "    </tr>\n",
       "  </tbody>\n",
       "</table>\n",
       "</div>"
      ],
      "text/plain": [
       "                                              source  \\\n",
       "0  Ihr Zeitlupentempo maßen sie, als sie vor Spit...   \n",
       "1  Er sagte, dass die Bereiche ruhige Treffpunkte...   \n",
       "2  Für die Geschäftsleute an der B 27 ist es nur ...   \n",
       "3  Diese Fähigkeit sei möglicherweise angeboren o...   \n",
       "4  Weil sie Wassertemperaturen um die sechs Grad ...   \n",
       "\n",
       "                                           reference  \\\n",
       "0  Her timeless pace measures them when they equi...   \n",
       "1  He said the areas offer quiet meeting points b...   \n",
       "2  For businessmen at the B 27, it's only a small...   \n",
       "3  This ability may be born or developed with gen...   \n",
       "4  Because they prefer water temperatures around ...   \n",
       "\n",
       "                                         translation   z-score  avg-score  \\\n",
       "0  Their slow speed was measured by researchers o... -0.345024       76.0   \n",
       "1  He said the spaces provided calm meeting point...  0.903800       97.5   \n",
       "2  This is only a small consolation for businesse...  0.700503       94.0   \n",
       "3  This ability may be innate, or may develop as ... -1.256572       51.5   \n",
       "4  They generally only come to the surface in win...  0.293909       87.0   \n",
       "\n",
       "   annotators  \n",
       "0           1  \n",
       "1           2  \n",
       "2           1  \n",
       "3           2  \n",
       "4           2  "
      ]
     },
     "execution_count": 4,
     "metadata": {},
     "output_type": "execute_result"
    }
   ],
   "source": [
    "df1.head()"
   ]
  },
  {
   "cell_type": "markdown",
   "id": "potential-occurrence",
   "metadata": {},
   "source": [
    "Comparison of LASER embeddings"
   ]
  },
  {
   "cell_type": "code",
   "execution_count": 5,
   "id": "junior-mobile",
   "metadata": {},
   "outputs": [],
   "source": [
    "source_arr = np.load(\"laser.source_embeds.npy\")\n",
    "refer_arr = np.load(\"laser.reference_embeds.npy\")\n",
    "trans_arr = np.load(\"laser.translation_embeds.npy\")"
   ]
  },
  {
   "cell_type": "markdown",
   "id": "paperback-backing",
   "metadata": {},
   "source": [
    "Cosine Similarity"
   ]
  },
  {
   "cell_type": "code",
   "execution_count": 6,
   "id": "planned-rendering",
   "metadata": {},
   "outputs": [],
   "source": [
    "cos_similarity_ref_hyp = []\n",
    "cos_similarity_src_ref = []\n",
    "cos_similarity_src_hyp = []\n",
    "for i in range(refer_arr.shape[0]):\n",
    "    cos_similarity_ref_hyp.append((spatial.distance.cosine(refer_arr[i],trans_arr[i])*-1)+1)\n",
    "    cos_similarity_src_ref.append((spatial.distance.cosine(source_arr[i],refer_arr[i])*-1)+1)\n",
    "    cos_similarity_src_hyp.append((spatial.distance.cosine(source_arr[i],trans_arr[i])*-1)+1)\n",
    "\n",
    "cs_rh = pd.Series(cos_similarity_ref_hyp,name=\"cos_sim_ref_hyp\")\n",
    "cs_sr = pd.Series(cos_similarity_src_ref,name=\"cos_sim_src_ref\")\n",
    "cs_sh = pd.Series(cos_similarity_src_hyp,name=\"cos_sim_src_hyp\")"
   ]
  },
  {
   "cell_type": "code",
   "execution_count": 7,
   "id": "removed-bryan",
   "metadata": {},
   "outputs": [
    {
     "data": {
      "text/html": [
       "<div>\n",
       "<style scoped>\n",
       "    .dataframe tbody tr th:only-of-type {\n",
       "        vertical-align: middle;\n",
       "    }\n",
       "\n",
       "    .dataframe tbody tr th {\n",
       "        vertical-align: top;\n",
       "    }\n",
       "\n",
       "    .dataframe thead th {\n",
       "        text-align: right;\n",
       "    }\n",
       "</style>\n",
       "<table border=\"1\" class=\"dataframe\">\n",
       "  <thead>\n",
       "    <tr style=\"text-align: right;\">\n",
       "      <th></th>\n",
       "      <th>cos_sim_ref_hyp</th>\n",
       "      <th>cos_sim_src_ref</th>\n",
       "      <th>cos_sim_src_hyp</th>\n",
       "      <th>avg-score</th>\n",
       "    </tr>\n",
       "  </thead>\n",
       "  <tbody>\n",
       "    <tr>\n",
       "      <th>0</th>\n",
       "      <td>0.797121</td>\n",
       "      <td>0.882998</td>\n",
       "      <td>0.789376</td>\n",
       "      <td>76.0</td>\n",
       "    </tr>\n",
       "    <tr>\n",
       "      <th>1</th>\n",
       "      <td>0.959148</td>\n",
       "      <td>0.933919</td>\n",
       "      <td>0.921730</td>\n",
       "      <td>97.5</td>\n",
       "    </tr>\n",
       "    <tr>\n",
       "      <th>2</th>\n",
       "      <td>0.837410</td>\n",
       "      <td>0.912467</td>\n",
       "      <td>0.884474</td>\n",
       "      <td>94.0</td>\n",
       "    </tr>\n",
       "    <tr>\n",
       "      <th>3</th>\n",
       "      <td>0.815609</td>\n",
       "      <td>0.920045</td>\n",
       "      <td>0.816867</td>\n",
       "      <td>51.5</td>\n",
       "    </tr>\n",
       "    <tr>\n",
       "      <th>4</th>\n",
       "      <td>0.819054</td>\n",
       "      <td>0.947187</td>\n",
       "      <td>0.803535</td>\n",
       "      <td>87.0</td>\n",
       "    </tr>\n",
       "    <tr>\n",
       "      <th>...</th>\n",
       "      <td>...</td>\n",
       "      <td>...</td>\n",
       "      <td>...</td>\n",
       "      <td>...</td>\n",
       "    </tr>\n",
       "    <tr>\n",
       "      <th>21699</th>\n",
       "      <td>0.961398</td>\n",
       "      <td>0.964125</td>\n",
       "      <td>0.959146</td>\n",
       "      <td>100.0</td>\n",
       "    </tr>\n",
       "    <tr>\n",
       "      <th>21700</th>\n",
       "      <td>0.968720</td>\n",
       "      <td>0.885553</td>\n",
       "      <td>0.873433</td>\n",
       "      <td>98.0</td>\n",
       "    </tr>\n",
       "    <tr>\n",
       "      <th>21701</th>\n",
       "      <td>0.932501</td>\n",
       "      <td>0.939480</td>\n",
       "      <td>0.915016</td>\n",
       "      <td>76.0</td>\n",
       "    </tr>\n",
       "    <tr>\n",
       "      <th>21702</th>\n",
       "      <td>0.936046</td>\n",
       "      <td>0.893743</td>\n",
       "      <td>0.921694</td>\n",
       "      <td>61.0</td>\n",
       "    </tr>\n",
       "    <tr>\n",
       "      <th>21703</th>\n",
       "      <td>0.965653</td>\n",
       "      <td>0.934541</td>\n",
       "      <td>0.951662</td>\n",
       "      <td>97.0</td>\n",
       "    </tr>\n",
       "  </tbody>\n",
       "</table>\n",
       "<p>21704 rows × 4 columns</p>\n",
       "</div>"
      ],
      "text/plain": [
       "       cos_sim_ref_hyp  cos_sim_src_ref  cos_sim_src_hyp  avg-score\n",
       "0             0.797121         0.882998         0.789376       76.0\n",
       "1             0.959148         0.933919         0.921730       97.5\n",
       "2             0.837410         0.912467         0.884474       94.0\n",
       "3             0.815609         0.920045         0.816867       51.5\n",
       "4             0.819054         0.947187         0.803535       87.0\n",
       "...                ...              ...              ...        ...\n",
       "21699         0.961398         0.964125         0.959146      100.0\n",
       "21700         0.968720         0.885553         0.873433       98.0\n",
       "21701         0.932501         0.939480         0.915016       76.0\n",
       "21702         0.936046         0.893743         0.921694       61.0\n",
       "21703         0.965653         0.934541         0.951662       97.0\n",
       "\n",
       "[21704 rows x 4 columns]"
      ]
     },
     "execution_count": 7,
     "metadata": {},
     "output_type": "execute_result"
    }
   ],
   "source": [
    "cos_df = pd.concat([cs_rh,cs_sr,cs_sh,df1.loc[:,\"avg-score\"]],axis=1)\n",
    "cos_df"
   ]
  },
  {
   "cell_type": "code",
   "execution_count": 8,
   "id": "caroline-salem",
   "metadata": {},
   "outputs": [
    {
     "name": "stdout",
     "output_type": "stream",
     "text": [
      "Pairwise Pearson\n"
     ]
    },
    {
     "data": {
      "text/html": [
       "<div>\n",
       "<style scoped>\n",
       "    .dataframe tbody tr th:only-of-type {\n",
       "        vertical-align: middle;\n",
       "    }\n",
       "\n",
       "    .dataframe tbody tr th {\n",
       "        vertical-align: top;\n",
       "    }\n",
       "\n",
       "    .dataframe thead th {\n",
       "        text-align: right;\n",
       "    }\n",
       "</style>\n",
       "<table border=\"1\" class=\"dataframe\">\n",
       "  <thead>\n",
       "    <tr style=\"text-align: right;\">\n",
       "      <th></th>\n",
       "      <th>cos_sim_ref_hyp</th>\n",
       "      <th>cos_sim_src_ref</th>\n",
       "      <th>cos_sim_src_hyp</th>\n",
       "      <th>avg-score</th>\n",
       "    </tr>\n",
       "  </thead>\n",
       "  <tbody>\n",
       "    <tr>\n",
       "      <th>cos_sim_ref_hyp</th>\n",
       "      <td>1.000000</td>\n",
       "      <td>0.618973</td>\n",
       "      <td>0.797330</td>\n",
       "      <td>0.280546</td>\n",
       "    </tr>\n",
       "    <tr>\n",
       "      <th>cos_sim_src_ref</th>\n",
       "      <td>0.618973</td>\n",
       "      <td>1.000000</td>\n",
       "      <td>0.692192</td>\n",
       "      <td>0.163928</td>\n",
       "    </tr>\n",
       "    <tr>\n",
       "      <th>cos_sim_src_hyp</th>\n",
       "      <td>0.797330</td>\n",
       "      <td>0.692192</td>\n",
       "      <td>1.000000</td>\n",
       "      <td>0.174400</td>\n",
       "    </tr>\n",
       "    <tr>\n",
       "      <th>avg-score</th>\n",
       "      <td>0.280546</td>\n",
       "      <td>0.163928</td>\n",
       "      <td>0.174400</td>\n",
       "      <td>1.000000</td>\n",
       "    </tr>\n",
       "  </tbody>\n",
       "</table>\n",
       "</div>"
      ],
      "text/plain": [
       "                 cos_sim_ref_hyp  cos_sim_src_ref  cos_sim_src_hyp  avg-score\n",
       "cos_sim_ref_hyp         1.000000         0.618973         0.797330   0.280546\n",
       "cos_sim_src_ref         0.618973         1.000000         0.692192   0.163928\n",
       "cos_sim_src_hyp         0.797330         0.692192         1.000000   0.174400\n",
       "avg-score               0.280546         0.163928         0.174400   1.000000"
      ]
     },
     "execution_count": 8,
     "metadata": {},
     "output_type": "execute_result"
    }
   ],
   "source": [
    "# Pearson\n",
    "print(\"Pairwise Pearson\")\n",
    "cos_df.corr()"
   ]
  },
  {
   "cell_type": "code",
   "execution_count": 9,
   "id": "three-walker",
   "metadata": {},
   "outputs": [
    {
     "name": "stdout",
     "output_type": "stream",
     "text": [
      "Pairwise Kendall\n"
     ]
    },
    {
     "data": {
      "text/html": [
       "<div>\n",
       "<style scoped>\n",
       "    .dataframe tbody tr th:only-of-type {\n",
       "        vertical-align: middle;\n",
       "    }\n",
       "\n",
       "    .dataframe tbody tr th {\n",
       "        vertical-align: top;\n",
       "    }\n",
       "\n",
       "    .dataframe thead th {\n",
       "        text-align: right;\n",
       "    }\n",
       "</style>\n",
       "<table border=\"1\" class=\"dataframe\">\n",
       "  <thead>\n",
       "    <tr style=\"text-align: right;\">\n",
       "      <th></th>\n",
       "      <th>cos_sim_ref_hyp</th>\n",
       "      <th>cos_sim_src_ref</th>\n",
       "      <th>cos_sim_src_hyp</th>\n",
       "      <th>avg-score</th>\n",
       "    </tr>\n",
       "  </thead>\n",
       "  <tbody>\n",
       "    <tr>\n",
       "      <th>cos_sim_ref_hyp</th>\n",
       "      <td>1.000000</td>\n",
       "      <td>0.435721</td>\n",
       "      <td>0.608597</td>\n",
       "      <td>0.205159</td>\n",
       "    </tr>\n",
       "    <tr>\n",
       "      <th>cos_sim_src_ref</th>\n",
       "      <td>0.435721</td>\n",
       "      <td>1.000000</td>\n",
       "      <td>0.540446</td>\n",
       "      <td>0.108857</td>\n",
       "    </tr>\n",
       "    <tr>\n",
       "      <th>cos_sim_src_hyp</th>\n",
       "      <td>0.608597</td>\n",
       "      <td>0.540446</td>\n",
       "      <td>1.000000</td>\n",
       "      <td>0.120058</td>\n",
       "    </tr>\n",
       "    <tr>\n",
       "      <th>avg-score</th>\n",
       "      <td>0.205159</td>\n",
       "      <td>0.108857</td>\n",
       "      <td>0.120058</td>\n",
       "      <td>1.000000</td>\n",
       "    </tr>\n",
       "  </tbody>\n",
       "</table>\n",
       "</div>"
      ],
      "text/plain": [
       "                 cos_sim_ref_hyp  cos_sim_src_ref  cos_sim_src_hyp  avg-score\n",
       "cos_sim_ref_hyp         1.000000         0.435721         0.608597   0.205159\n",
       "cos_sim_src_ref         0.435721         1.000000         0.540446   0.108857\n",
       "cos_sim_src_hyp         0.608597         0.540446         1.000000   0.120058\n",
       "avg-score               0.205159         0.108857         0.120058   1.000000"
      ]
     },
     "execution_count": 9,
     "metadata": {},
     "output_type": "execute_result"
    }
   ],
   "source": [
    "# Kendall\n",
    "print(\"Pairwise Kendall\")\n",
    "cos_df.corr(method=\"kendall\")"
   ]
  },
  {
   "cell_type": "code",
   "execution_count": 10,
   "id": "expressed-hawaiian",
   "metadata": {},
   "outputs": [
    {
     "name": "stdout",
     "output_type": "stream",
     "text": [
      "Pairwise Spearman\n"
     ]
    },
    {
     "data": {
      "text/html": [
       "<div>\n",
       "<style scoped>\n",
       "    .dataframe tbody tr th:only-of-type {\n",
       "        vertical-align: middle;\n",
       "    }\n",
       "\n",
       "    .dataframe tbody tr th {\n",
       "        vertical-align: top;\n",
       "    }\n",
       "\n",
       "    .dataframe thead th {\n",
       "        text-align: right;\n",
       "    }\n",
       "</style>\n",
       "<table border=\"1\" class=\"dataframe\">\n",
       "  <thead>\n",
       "    <tr style=\"text-align: right;\">\n",
       "      <th></th>\n",
       "      <th>cos_sim_ref_hyp</th>\n",
       "      <th>cos_sim_src_ref</th>\n",
       "      <th>cos_sim_src_hyp</th>\n",
       "      <th>avg-score</th>\n",
       "    </tr>\n",
       "  </thead>\n",
       "  <tbody>\n",
       "    <tr>\n",
       "      <th>cos_sim_ref_hyp</th>\n",
       "      <td>1.000000</td>\n",
       "      <td>0.604819</td>\n",
       "      <td>0.787616</td>\n",
       "      <td>0.299840</td>\n",
       "    </tr>\n",
       "    <tr>\n",
       "      <th>cos_sim_src_ref</th>\n",
       "      <td>0.604819</td>\n",
       "      <td>1.000000</td>\n",
       "      <td>0.723731</td>\n",
       "      <td>0.160770</td>\n",
       "    </tr>\n",
       "    <tr>\n",
       "      <th>cos_sim_src_hyp</th>\n",
       "      <td>0.787616</td>\n",
       "      <td>0.723731</td>\n",
       "      <td>1.000000</td>\n",
       "      <td>0.176985</td>\n",
       "    </tr>\n",
       "    <tr>\n",
       "      <th>avg-score</th>\n",
       "      <td>0.299840</td>\n",
       "      <td>0.160770</td>\n",
       "      <td>0.176985</td>\n",
       "      <td>1.000000</td>\n",
       "    </tr>\n",
       "  </tbody>\n",
       "</table>\n",
       "</div>"
      ],
      "text/plain": [
       "                 cos_sim_ref_hyp  cos_sim_src_ref  cos_sim_src_hyp  avg-score\n",
       "cos_sim_ref_hyp         1.000000         0.604819         0.787616   0.299840\n",
       "cos_sim_src_ref         0.604819         1.000000         0.723731   0.160770\n",
       "cos_sim_src_hyp         0.787616         0.723731         1.000000   0.176985\n",
       "avg-score               0.299840         0.160770         0.176985   1.000000"
      ]
     },
     "execution_count": 10,
     "metadata": {},
     "output_type": "execute_result"
    }
   ],
   "source": [
    "# Spearman\n",
    "print(\"Pairwise Spearman\")\n",
    "cos_df.corr(method=\"spearman\")"
   ]
  },
  {
   "cell_type": "code",
   "execution_count": null,
   "id": "wireless-processor",
   "metadata": {},
   "outputs": [],
   "source": []
  },
  {
   "cell_type": "code",
   "execution_count": 11,
   "id": "neutral-charity",
   "metadata": {},
   "outputs": [],
   "source": [
    "## how abouts we train a neural network to develop a predicting ability of the avg score given these numbers.\n",
    "# We hypothesize that sometimes the reference itself is not a particularly good translation of the source. \n",
    "# Therefore, this will have an effect on how strong the hypothesis is.\n"
   ]
  },
  {
   "cell_type": "markdown",
   "id": "modified-directory",
   "metadata": {},
   "source": [
    "---\n",
    "Linear Regression <br>to try and predict avg score based on the cos similarity "
   ]
  },
  {
   "cell_type": "code",
   "execution_count": 12,
   "id": "unlimited-territory",
   "metadata": {},
   "outputs": [],
   "source": [
    "X = cos_df.drop(columns=['avg-score'])\n",
    "y = cos_df['avg-score']"
   ]
  },
  {
   "cell_type": "code",
   "execution_count": 13,
   "id": "indirect-calibration",
   "metadata": {},
   "outputs": [],
   "source": [
    "lin_model = LinearRegression()"
   ]
  },
  {
   "cell_type": "code",
   "execution_count": 14,
   "id": "sustained-enemy",
   "metadata": {},
   "outputs": [
    {
     "name": "stdout",
     "output_type": "stream",
     "text": [
      "20.643857248069885\n",
      "22.095997530264782\n",
      "21.374442416477358\n",
      "19.788936854485776\n",
      "18.867238070215205\n",
      "20.24474878509248\n",
      "18.28611122388313\n",
      "20.184921857868726\n",
      "20.14624069430001\n",
      "19.858331179776346\n"
     ]
    }
   ],
   "source": [
    "kf = KFold(n_splits = 10)\n",
    "for train_index, test_index in kf.split(X):\n",
    "    X_train, X_val = X.iloc[train_index], X.iloc[test_index]\n",
    "    y_train, y_val = y.iloc[train_index], y.iloc[test_index]\n",
    "    \n",
    "    lin_model.fit(X_train,y_train)\n",
    "    y_pred = lin_model.predict(X_val)\n",
    "    print(mean_absolute_error(y_val,y_pred))"
   ]
  },
  {
   "cell_type": "code",
   "execution_count": 15,
   "id": "practical-blood",
   "metadata": {},
   "outputs": [
    {
     "name": "stdout",
     "output_type": "stream",
     "text": [
      "[145.27319955  18.57441577 -69.77403636]\n",
      "-12.814729725824535\n"
     ]
    }
   ],
   "source": [
    "print(lin_model.coef_)\n",
    "print(lin_model.intercept_)"
   ]
  },
  {
   "cell_type": "code",
   "execution_count": 16,
   "id": "distinct-motorcycle",
   "metadata": {},
   "outputs": [],
   "source": [
    "# A model with src_ref and src_hyp only. \n",
    "X = cos_df.drop(columns=['cos_sim_ref_hyp','avg-score'])\n",
    "y = cos_df['avg-score']"
   ]
  },
  {
   "cell_type": "code",
   "execution_count": 17,
   "id": "polish-magazine",
   "metadata": {},
   "outputs": [
    {
     "name": "stdout",
     "output_type": "stream",
     "text": [
      "21.508638638402555\n",
      "22.84826415538236\n",
      "22.175787429356284\n",
      "20.80840128906012\n",
      "19.856675719286176\n",
      "20.79620599379446\n",
      "19.19960404972948\n",
      "20.977044763624193\n",
      "20.64521355746907\n",
      "20.45475072664573\n",
      "[44.87181799 43.18620258]\n",
      "-6.6743358751459\n"
     ]
    }
   ],
   "source": [
    "kf = KFold(n_splits = 10)\n",
    "for train_index, test_index in kf.split(X):\n",
    "    X_train, X_val = X.iloc[train_index], X.iloc[test_index]\n",
    "    y_train, y_val = y.iloc[train_index], y.iloc[test_index]\n",
    "    \n",
    "    lin_model.fit(X_train,y_train)\n",
    "    y_pred = lin_model.predict(X_val)\n",
    "    print(mean_absolute_error(y_val,y_pred))\n",
    "print(lin_model.coef_)\n",
    "print(lin_model.intercept_)"
   ]
  },
  {
   "cell_type": "markdown",
   "id": "turkish-place",
   "metadata": {},
   "source": [
    "Seems like it is about the same, which I guess does make sense, consdering the correlations between the three are likely to be very strong."
   ]
  },
  {
   "cell_type": "markdown",
   "id": "ruled-masters",
   "metadata": {},
   "source": [
    "---\n",
    "Using a Neural Network"
   ]
  },
  {
   "cell_type": "code",
   "execution_count": 18,
   "id": "outstanding-drove",
   "metadata": {},
   "outputs": [],
   "source": [
    "MLP_model = MLPRegressor(hidden_layer_sizes=(2,1),max_iter=250,learning_rate_init=0.05)"
   ]
  },
  {
   "cell_type": "code",
   "execution_count": 19,
   "id": "great-keeping",
   "metadata": {},
   "outputs": [
    {
     "name": "stdout",
     "output_type": "stream",
     "text": [
      "Model loss: 324.16727987553236\n",
      "The MAE is 22.240001356232497\n",
      "Model loss: 341.7885849862733\n",
      "The MAE is 21.966627384369616\n",
      "Model loss: 352.6754747671317\n",
      "The MAE is 20.917675726150467\n",
      "Model loss: 355.47480496049286\n",
      "The MAE is 20.646105247284837\n",
      "Model loss: 349.7771303162559\n",
      "The MAE is 21.03146420456577\n"
     ]
    }
   ],
   "source": [
    "kf = KFold(5)\n",
    "for train_index, test_index in kf.split(X):\n",
    "    X_train, X_val = X.iloc[train_index], X.iloc[test_index]\n",
    "    y_train, y_val = y.iloc[train_index], y.iloc[test_index]\n",
    "    \n",
    "    MLP_model.fit(X_train,y_train)\n",
    "    y_pred = MLP_model.predict(X_val)\n",
    "    print(f\"Model loss: {MLP_model.loss_}\")\n",
    "    print(f\"The MAE is {mean_absolute_error(y_val,y_pred)}\")"
   ]
  },
  {
   "cell_type": "code",
   "execution_count": 20,
   "id": "general-consumption",
   "metadata": {},
   "outputs": [],
   "source": [
    "## Futher possible work: \n",
    "\n",
    "## Could try Word Movers Distance instead of Cosine Similarity?"
   ]
  },
  {
   "cell_type": "code",
   "execution_count": null,
   "id": "exempt-procurement",
   "metadata": {},
   "outputs": [],
   "source": []
  }
 ],
 "metadata": {
  "kernelspec": {
   "display_name": "Python 3",
   "language": "python",
   "name": "python3"
  },
  "language_info": {
   "codemirror_mode": {
    "name": "ipython",
    "version": 3
   },
   "file_extension": ".py",
   "mimetype": "text/x-python",
   "name": "python",
   "nbconvert_exporter": "python",
   "pygments_lexer": "ipython3",
   "version": "3.8.5"
  }
 },
 "nbformat": 4,
 "nbformat_minor": 5
}
