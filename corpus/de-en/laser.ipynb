{
 "cells": [
  {
   "cell_type": "markdown",
   "id": "8f3f15cf",
   "metadata": {},
   "source": [
    "Implementation of LASER to the corpus"
   ]
  },
  {
   "cell_type": "code",
   "execution_count": 224,
   "id": "7ced931e",
   "metadata": {},
   "outputs": [],
   "source": [
    "# Imports\n",
    "import numpy as np\n",
    "from scipy import spatial\n",
    "import pandas as pd\n",
    "\n",
    "from sklearn.linear_model import LinearRegression\n",
    "from sklearn.neural_network import MLPRegressor\n",
    "from sklearn.model_selection import train_test_split, KFold\n",
    "from sklearn.metrics import mean_absolute_error\n",
    "from sklearn.preprocessing import StandardScaler\n",
    "\n",
    "from keras import models\n",
    "from keras import layers\n",
    "import keras"
   ]
  },
  {
   "cell_type": "markdown",
   "id": "21255706",
   "metadata": {},
   "source": [
    "Load Dataset"
   ]
  },
  {
   "cell_type": "code",
   "execution_count": 113,
   "id": "c9a4bb76",
   "metadata": {},
   "outputs": [],
   "source": [
    "df1 = pd.read_csv(\"scores.csv\")"
   ]
  },
  {
   "cell_type": "code",
   "execution_count": 114,
   "id": "04244bf1",
   "metadata": {},
   "outputs": [
    {
     "name": "stdout",
     "output_type": "stream",
     "text": [
      "<class 'pandas.core.frame.DataFrame'>\n",
      "RangeIndex: 21704 entries, 0 to 21703\n",
      "Data columns (total 6 columns):\n",
      " #   Column       Non-Null Count  Dtype  \n",
      "---  ------       --------------  -----  \n",
      " 0   source       21704 non-null  object \n",
      " 1   reference    21704 non-null  object \n",
      " 2   translation  21704 non-null  object \n",
      " 3   z-score      21704 non-null  float64\n",
      " 4   avg-score    21704 non-null  float64\n",
      " 5   annotators   21704 non-null  int64  \n",
      "dtypes: float64(2), int64(1), object(3)\n",
      "memory usage: 1017.5+ KB\n"
     ]
    }
   ],
   "source": [
    "df1.info()"
   ]
  },
  {
   "cell_type": "code",
   "execution_count": 115,
   "id": "44fa120e",
   "metadata": {},
   "outputs": [
    {
     "data": {
      "text/html": [
       "<div>\n",
       "<style scoped>\n",
       "    .dataframe tbody tr th:only-of-type {\n",
       "        vertical-align: middle;\n",
       "    }\n",
       "\n",
       "    .dataframe tbody tr th {\n",
       "        vertical-align: top;\n",
       "    }\n",
       "\n",
       "    .dataframe thead th {\n",
       "        text-align: right;\n",
       "    }\n",
       "</style>\n",
       "<table border=\"1\" class=\"dataframe\">\n",
       "  <thead>\n",
       "    <tr style=\"text-align: right;\">\n",
       "      <th></th>\n",
       "      <th>source</th>\n",
       "      <th>reference</th>\n",
       "      <th>translation</th>\n",
       "      <th>z-score</th>\n",
       "      <th>avg-score</th>\n",
       "      <th>annotators</th>\n",
       "    </tr>\n",
       "  </thead>\n",
       "  <tbody>\n",
       "    <tr>\n",
       "      <th>0</th>\n",
       "      <td>Ihr Zeitlupentempo maßen sie, als sie vor Spit...</td>\n",
       "      <td>Her timeless pace measures them when they equi...</td>\n",
       "      <td>Their slow speed was measured by researchers o...</td>\n",
       "      <td>-0.345024</td>\n",
       "      <td>76.0</td>\n",
       "      <td>1</td>\n",
       "    </tr>\n",
       "    <tr>\n",
       "      <th>1</th>\n",
       "      <td>Er sagte, dass die Bereiche ruhige Treffpunkte...</td>\n",
       "      <td>He said the areas offer quiet meeting points b...</td>\n",
       "      <td>He said the spaces provided calm meeting point...</td>\n",
       "      <td>0.903800</td>\n",
       "      <td>97.5</td>\n",
       "      <td>2</td>\n",
       "    </tr>\n",
       "    <tr>\n",
       "      <th>2</th>\n",
       "      <td>Für die Geschäftsleute an der B 27 ist es nur ...</td>\n",
       "      <td>For businessmen at the B 27, it's only a small...</td>\n",
       "      <td>This is only a small consolation for businesse...</td>\n",
       "      <td>0.700503</td>\n",
       "      <td>94.0</td>\n",
       "      <td>1</td>\n",
       "    </tr>\n",
       "    <tr>\n",
       "      <th>3</th>\n",
       "      <td>Diese Fähigkeit sei möglicherweise angeboren o...</td>\n",
       "      <td>This ability may be born or developed with gen...</td>\n",
       "      <td>This ability may be innate, or may develop as ...</td>\n",
       "      <td>-1.256572</td>\n",
       "      <td>51.5</td>\n",
       "      <td>2</td>\n",
       "    </tr>\n",
       "    <tr>\n",
       "      <th>4</th>\n",
       "      <td>Weil sie Wassertemperaturen um die sechs Grad ...</td>\n",
       "      <td>Because they prefer water temperatures around ...</td>\n",
       "      <td>They generally only come to the surface in win...</td>\n",
       "      <td>0.293909</td>\n",
       "      <td>87.0</td>\n",
       "      <td>2</td>\n",
       "    </tr>\n",
       "  </tbody>\n",
       "</table>\n",
       "</div>"
      ],
      "text/plain": [
       "                                              source  \\\n",
       "0  Ihr Zeitlupentempo maßen sie, als sie vor Spit...   \n",
       "1  Er sagte, dass die Bereiche ruhige Treffpunkte...   \n",
       "2  Für die Geschäftsleute an der B 27 ist es nur ...   \n",
       "3  Diese Fähigkeit sei möglicherweise angeboren o...   \n",
       "4  Weil sie Wassertemperaturen um die sechs Grad ...   \n",
       "\n",
       "                                           reference  \\\n",
       "0  Her timeless pace measures them when they equi...   \n",
       "1  He said the areas offer quiet meeting points b...   \n",
       "2  For businessmen at the B 27, it's only a small...   \n",
       "3  This ability may be born or developed with gen...   \n",
       "4  Because they prefer water temperatures around ...   \n",
       "\n",
       "                                         translation   z-score  avg-score  \\\n",
       "0  Their slow speed was measured by researchers o... -0.345024       76.0   \n",
       "1  He said the spaces provided calm meeting point...  0.903800       97.5   \n",
       "2  This is only a small consolation for businesse...  0.700503       94.0   \n",
       "3  This ability may be innate, or may develop as ... -1.256572       51.5   \n",
       "4  They generally only come to the surface in win...  0.293909       87.0   \n",
       "\n",
       "   annotators  \n",
       "0           1  \n",
       "1           2  \n",
       "2           1  \n",
       "3           2  \n",
       "4           2  "
      ]
     },
     "execution_count": 115,
     "metadata": {},
     "output_type": "execute_result"
    }
   ],
   "source": [
    "df1.head()"
   ]
  },
  {
   "cell_type": "markdown",
   "id": "4649d8a2",
   "metadata": {},
   "source": [
    "Comparison of LASER embeddings"
   ]
  },
  {
   "cell_type": "code",
   "execution_count": 116,
   "id": "b26c3a01",
   "metadata": {},
   "outputs": [],
   "source": [
    "source_arr = np.load(\"laser.source_embeds.npy\")\n",
    "refer_arr = np.load(\"laser.reference_embeds.npy\")\n",
    "trans_arr = np.load(\"laser.translation_embeds.npy\")"
   ]
  },
  {
   "cell_type": "markdown",
   "id": "05593324",
   "metadata": {},
   "source": [
    "Cosine Similarity"
   ]
  },
  {
   "cell_type": "code",
   "execution_count": 160,
   "id": "af435112",
   "metadata": {},
   "outputs": [],
   "source": [
    "cos_similarity_ref_hyp = []\n",
    "cos_similarity_src_ref = []\n",
    "cos_similarity_src_hyp = []\n",
    "\n",
    "# for each of the cos similarity, put them into lists.\n",
    "for i in range(refer_arr.shape[0]):\n",
    "    cos_similarity_ref_hyp.append((spatial.distance.cosine(refer_arr[i],trans_arr[i])*-1)+1)\n",
    "    cos_similarity_src_ref.append((spatial.distance.cosine(source_arr[i],refer_arr[i])*-1)+1)\n",
    "    cos_similarity_src_hyp.append((spatial.distance.cosine(source_arr[i],trans_arr[i])*-1)+1)\n",
    "\n",
    "\n",
    "# Standardize and transform into series.\n",
    "scaler = StandardScaler()\n",
    "cs_rh = pd.Series(scaler.fit_transform(np.array(cos_similarity_ref_hyp).reshape(-1,1)).flatten(),name=\"cos_sim_ref_hyp\")\n",
    "cs_sr = pd.Series(scaler.fit_transform(np.array(cos_similarity_src_ref).reshape(-1,1)).flatten(),name=\"cos_sim_src_ref\")\n",
    "cs_sh = pd.Series(scaler.fit_transform(np.array(cos_similarity_src_hyp).reshape(-1,1)).flatten(),name=\"cos_sim_src_hyp\")\n",
    "\n"
   ]
  },
  {
   "cell_type": "code",
   "execution_count": 161,
   "id": "2dd94917",
   "metadata": {},
   "outputs": [
    {
     "data": {
      "text/html": [
       "<div>\n",
       "<style scoped>\n",
       "    .dataframe tbody tr th:only-of-type {\n",
       "        vertical-align: middle;\n",
       "    }\n",
       "\n",
       "    .dataframe tbody tr th {\n",
       "        vertical-align: top;\n",
       "    }\n",
       "\n",
       "    .dataframe thead th {\n",
       "        text-align: right;\n",
       "    }\n",
       "</style>\n",
       "<table border=\"1\" class=\"dataframe\">\n",
       "  <thead>\n",
       "    <tr style=\"text-align: right;\">\n",
       "      <th></th>\n",
       "      <th>cos_sim_ref_hyp</th>\n",
       "      <th>cos_sim_src_ref</th>\n",
       "      <th>cos_sim_src_hyp</th>\n",
       "      <th>z-score</th>\n",
       "    </tr>\n",
       "  </thead>\n",
       "  <tbody>\n",
       "    <tr>\n",
       "      <th>0</th>\n",
       "      <td>-1.250038</td>\n",
       "      <td>-0.422368</td>\n",
       "      <td>-1.306007</td>\n",
       "      <td>-0.345024</td>\n",
       "    </tr>\n",
       "    <tr>\n",
       "      <th>1</th>\n",
       "      <td>1.048153</td>\n",
       "      <td>0.533522</td>\n",
       "      <td>0.774393</td>\n",
       "      <td>0.903800</td>\n",
       "    </tr>\n",
       "    <tr>\n",
       "      <th>2</th>\n",
       "      <td>-0.678580</td>\n",
       "      <td>0.130823</td>\n",
       "      <td>0.188789</td>\n",
       "      <td>0.700503</td>\n",
       "    </tr>\n",
       "    <tr>\n",
       "      <th>3</th>\n",
       "      <td>-0.987798</td>\n",
       "      <td>0.273078</td>\n",
       "      <td>-0.873894</td>\n",
       "      <td>-1.256572</td>\n",
       "    </tr>\n",
       "    <tr>\n",
       "      <th>4</th>\n",
       "      <td>-0.938938</td>\n",
       "      <td>0.782586</td>\n",
       "      <td>-1.083445</td>\n",
       "      <td>0.293909</td>\n",
       "    </tr>\n",
       "    <tr>\n",
       "      <th>...</th>\n",
       "      <td>...</td>\n",
       "      <td>...</td>\n",
       "      <td>...</td>\n",
       "      <td>...</td>\n",
       "    </tr>\n",
       "    <tr>\n",
       "      <th>21699</th>\n",
       "      <td>1.080071</td>\n",
       "      <td>1.100543</td>\n",
       "      <td>1.362532</td>\n",
       "      <td>1.246459</td>\n",
       "    </tr>\n",
       "    <tr>\n",
       "      <th>21700</th>\n",
       "      <td>1.183931</td>\n",
       "      <td>-0.374398</td>\n",
       "      <td>0.015242</td>\n",
       "      <td>0.792878</td>\n",
       "    </tr>\n",
       "    <tr>\n",
       "      <th>21701</th>\n",
       "      <td>0.670196</td>\n",
       "      <td>0.637920</td>\n",
       "      <td>0.668873</td>\n",
       "      <td>0.597068</td>\n",
       "    </tr>\n",
       "    <tr>\n",
       "      <th>21702</th>\n",
       "      <td>0.720476</td>\n",
       "      <td>-0.220658</td>\n",
       "      <td>0.773841</td>\n",
       "      <td>-0.305719</td>\n",
       "    </tr>\n",
       "    <tr>\n",
       "      <th>21703</th>\n",
       "      <td>1.140419</td>\n",
       "      <td>0.545205</td>\n",
       "      <td>1.244882</td>\n",
       "      <td>0.995212</td>\n",
       "    </tr>\n",
       "  </tbody>\n",
       "</table>\n",
       "<p>21704 rows × 4 columns</p>\n",
       "</div>"
      ],
      "text/plain": [
       "       cos_sim_ref_hyp  cos_sim_src_ref  cos_sim_src_hyp   z-score\n",
       "0            -1.250038        -0.422368        -1.306007 -0.345024\n",
       "1             1.048153         0.533522         0.774393  0.903800\n",
       "2            -0.678580         0.130823         0.188789  0.700503\n",
       "3            -0.987798         0.273078        -0.873894 -1.256572\n",
       "4            -0.938938         0.782586        -1.083445  0.293909\n",
       "...                ...              ...              ...       ...\n",
       "21699         1.080071         1.100543         1.362532  1.246459\n",
       "21700         1.183931        -0.374398         0.015242  0.792878\n",
       "21701         0.670196         0.637920         0.668873  0.597068\n",
       "21702         0.720476        -0.220658         0.773841 -0.305719\n",
       "21703         1.140419         0.545205         1.244882  0.995212\n",
       "\n",
       "[21704 rows x 4 columns]"
      ]
     },
     "execution_count": 161,
     "metadata": {},
     "output_type": "execute_result"
    }
   ],
   "source": [
    "cos_df = pd.concat([cs_rh,cs_sr,cs_sh,df1.loc[:,\"z-score\"]],axis=1)\n",
    "cos_df"
   ]
  },
  {
   "cell_type": "code",
   "execution_count": 162,
   "id": "074e35a1",
   "metadata": {},
   "outputs": [
    {
     "name": "stdout",
     "output_type": "stream",
     "text": [
      "Pairwise Pearson\n"
     ]
    },
    {
     "data": {
      "text/html": [
       "<div>\n",
       "<style scoped>\n",
       "    .dataframe tbody tr th:only-of-type {\n",
       "        vertical-align: middle;\n",
       "    }\n",
       "\n",
       "    .dataframe tbody tr th {\n",
       "        vertical-align: top;\n",
       "    }\n",
       "\n",
       "    .dataframe thead th {\n",
       "        text-align: right;\n",
       "    }\n",
       "</style>\n",
       "<table border=\"1\" class=\"dataframe\">\n",
       "  <thead>\n",
       "    <tr style=\"text-align: right;\">\n",
       "      <th></th>\n",
       "      <th>cos_sim_ref_hyp</th>\n",
       "      <th>cos_sim_src_ref</th>\n",
       "      <th>cos_sim_src_hyp</th>\n",
       "      <th>z-score</th>\n",
       "    </tr>\n",
       "  </thead>\n",
       "  <tbody>\n",
       "    <tr>\n",
       "      <th>cos_sim_ref_hyp</th>\n",
       "      <td>1.000000</td>\n",
       "      <td>0.618973</td>\n",
       "      <td>0.797330</td>\n",
       "      <td>0.316523</td>\n",
       "    </tr>\n",
       "    <tr>\n",
       "      <th>cos_sim_src_ref</th>\n",
       "      <td>0.618973</td>\n",
       "      <td>1.000000</td>\n",
       "      <td>0.692192</td>\n",
       "      <td>0.182758</td>\n",
       "    </tr>\n",
       "    <tr>\n",
       "      <th>cos_sim_src_hyp</th>\n",
       "      <td>0.797330</td>\n",
       "      <td>0.692192</td>\n",
       "      <td>1.000000</td>\n",
       "      <td>0.195875</td>\n",
       "    </tr>\n",
       "    <tr>\n",
       "      <th>z-score</th>\n",
       "      <td>0.316523</td>\n",
       "      <td>0.182758</td>\n",
       "      <td>0.195875</td>\n",
       "      <td>1.000000</td>\n",
       "    </tr>\n",
       "  </tbody>\n",
       "</table>\n",
       "</div>"
      ],
      "text/plain": [
       "                 cos_sim_ref_hyp  cos_sim_src_ref  cos_sim_src_hyp   z-score\n",
       "cos_sim_ref_hyp         1.000000         0.618973         0.797330  0.316523\n",
       "cos_sim_src_ref         0.618973         1.000000         0.692192  0.182758\n",
       "cos_sim_src_hyp         0.797330         0.692192         1.000000  0.195875\n",
       "z-score                 0.316523         0.182758         0.195875  1.000000"
      ]
     },
     "execution_count": 162,
     "metadata": {},
     "output_type": "execute_result"
    }
   ],
   "source": [
    "# Pearson\n",
    "print(\"Pairwise Pearson\")\n",
    "cos_df.corr()"
   ]
  },
  {
   "cell_type": "code",
   "execution_count": 163,
   "id": "96273266",
   "metadata": {},
   "outputs": [
    {
     "name": "stdout",
     "output_type": "stream",
     "text": [
      "Pairwise Kendall\n"
     ]
    },
    {
     "data": {
      "text/html": [
       "<div>\n",
       "<style scoped>\n",
       "    .dataframe tbody tr th:only-of-type {\n",
       "        vertical-align: middle;\n",
       "    }\n",
       "\n",
       "    .dataframe tbody tr th {\n",
       "        vertical-align: top;\n",
       "    }\n",
       "\n",
       "    .dataframe thead th {\n",
       "        text-align: right;\n",
       "    }\n",
       "</style>\n",
       "<table border=\"1\" class=\"dataframe\">\n",
       "  <thead>\n",
       "    <tr style=\"text-align: right;\">\n",
       "      <th></th>\n",
       "      <th>cos_sim_ref_hyp</th>\n",
       "      <th>cos_sim_src_ref</th>\n",
       "      <th>cos_sim_src_hyp</th>\n",
       "      <th>z-score</th>\n",
       "    </tr>\n",
       "  </thead>\n",
       "  <tbody>\n",
       "    <tr>\n",
       "      <th>cos_sim_ref_hyp</th>\n",
       "      <td>1.000000</td>\n",
       "      <td>0.435721</td>\n",
       "      <td>0.608597</td>\n",
       "      <td>0.223125</td>\n",
       "    </tr>\n",
       "    <tr>\n",
       "      <th>cos_sim_src_ref</th>\n",
       "      <td>0.435721</td>\n",
       "      <td>1.000000</td>\n",
       "      <td>0.540446</td>\n",
       "      <td>0.118914</td>\n",
       "    </tr>\n",
       "    <tr>\n",
       "      <th>cos_sim_src_hyp</th>\n",
       "      <td>0.608597</td>\n",
       "      <td>0.540446</td>\n",
       "      <td>1.000000</td>\n",
       "      <td>0.130874</td>\n",
       "    </tr>\n",
       "    <tr>\n",
       "      <th>z-score</th>\n",
       "      <td>0.223125</td>\n",
       "      <td>0.118914</td>\n",
       "      <td>0.130874</td>\n",
       "      <td>1.000000</td>\n",
       "    </tr>\n",
       "  </tbody>\n",
       "</table>\n",
       "</div>"
      ],
      "text/plain": [
       "                 cos_sim_ref_hyp  cos_sim_src_ref  cos_sim_src_hyp   z-score\n",
       "cos_sim_ref_hyp         1.000000         0.435721         0.608597  0.223125\n",
       "cos_sim_src_ref         0.435721         1.000000         0.540446  0.118914\n",
       "cos_sim_src_hyp         0.608597         0.540446         1.000000  0.130874\n",
       "z-score                 0.223125         0.118914         0.130874  1.000000"
      ]
     },
     "execution_count": 163,
     "metadata": {},
     "output_type": "execute_result"
    }
   ],
   "source": [
    "# Kendall\n",
    "print(\"Pairwise Kendall\")\n",
    "cos_df.corr(method=\"kendall\")"
   ]
  },
  {
   "cell_type": "code",
   "execution_count": 164,
   "id": "b02bc368",
   "metadata": {},
   "outputs": [
    {
     "name": "stdout",
     "output_type": "stream",
     "text": [
      "Pairwise Spearman\n"
     ]
    },
    {
     "data": {
      "text/html": [
       "<div>\n",
       "<style scoped>\n",
       "    .dataframe tbody tr th:only-of-type {\n",
       "        vertical-align: middle;\n",
       "    }\n",
       "\n",
       "    .dataframe tbody tr th {\n",
       "        vertical-align: top;\n",
       "    }\n",
       "\n",
       "    .dataframe thead th {\n",
       "        text-align: right;\n",
       "    }\n",
       "</style>\n",
       "<table border=\"1\" class=\"dataframe\">\n",
       "  <thead>\n",
       "    <tr style=\"text-align: right;\">\n",
       "      <th></th>\n",
       "      <th>cos_sim_ref_hyp</th>\n",
       "      <th>cos_sim_src_ref</th>\n",
       "      <th>cos_sim_src_hyp</th>\n",
       "      <th>z-score</th>\n",
       "    </tr>\n",
       "  </thead>\n",
       "  <tbody>\n",
       "    <tr>\n",
       "      <th>cos_sim_ref_hyp</th>\n",
       "      <td>1.000000</td>\n",
       "      <td>0.604819</td>\n",
       "      <td>0.787616</td>\n",
       "      <td>0.326655</td>\n",
       "    </tr>\n",
       "    <tr>\n",
       "      <th>cos_sim_src_ref</th>\n",
       "      <td>0.604819</td>\n",
       "      <td>1.000000</td>\n",
       "      <td>0.723731</td>\n",
       "      <td>0.176150</td>\n",
       "    </tr>\n",
       "    <tr>\n",
       "      <th>cos_sim_src_hyp</th>\n",
       "      <td>0.787616</td>\n",
       "      <td>0.723731</td>\n",
       "      <td>1.000000</td>\n",
       "      <td>0.193575</td>\n",
       "    </tr>\n",
       "    <tr>\n",
       "      <th>z-score</th>\n",
       "      <td>0.326655</td>\n",
       "      <td>0.176150</td>\n",
       "      <td>0.193575</td>\n",
       "      <td>1.000000</td>\n",
       "    </tr>\n",
       "  </tbody>\n",
       "</table>\n",
       "</div>"
      ],
      "text/plain": [
       "                 cos_sim_ref_hyp  cos_sim_src_ref  cos_sim_src_hyp   z-score\n",
       "cos_sim_ref_hyp         1.000000         0.604819         0.787616  0.326655\n",
       "cos_sim_src_ref         0.604819         1.000000         0.723731  0.176150\n",
       "cos_sim_src_hyp         0.787616         0.723731         1.000000  0.193575\n",
       "z-score                 0.326655         0.176150         0.193575  1.000000"
      ]
     },
     "execution_count": 164,
     "metadata": {},
     "output_type": "execute_result"
    }
   ],
   "source": [
    "# Spearman\n",
    "print(\"Pairwise Spearman\")\n",
    "cos_df.corr(method=\"spearman\")"
   ]
  },
  {
   "cell_type": "markdown",
   "id": "59770366",
   "metadata": {},
   "source": [
    "---\n",
    "Linear Regression <br>to try and predict avg score based on the cos similarity "
   ]
  },
  {
   "cell_type": "code",
   "execution_count": 165,
   "id": "39a2e58c",
   "metadata": {},
   "outputs": [],
   "source": [
    "X = cos_df.drop(columns='z-score')\n",
    "y = cos_df['z-score']"
   ]
  },
  {
   "cell_type": "code",
   "execution_count": 166,
   "id": "70caf531",
   "metadata": {},
   "outputs": [],
   "source": [
    "lin_model = LinearRegression()"
   ]
  },
  {
   "cell_type": "code",
   "execution_count": 167,
   "id": "cc7b9603",
   "metadata": {},
   "outputs": [
    {
     "name": "stdout",
     "output_type": "stream",
     "text": [
      "0.6527408819767678\n",
      "0.6757954960873159\n",
      "0.6668912096850256\n",
      "0.6452570374362728\n",
      "0.6109181224425928\n",
      "0.6440656783167589\n",
      "0.5899620045423257\n",
      "0.6368125210787335\n",
      "0.6355302938729582\n",
      "0.6398936072186637\n"
     ]
    }
   ],
   "source": [
    "kf = KFold(n_splits = 10)\n",
    "for train_index, test_index in kf.split(X):\n",
    "    X_train, X_val = X.iloc[train_index], X.iloc[test_index]\n",
    "    y_train, y_val = y.iloc[train_index], y.iloc[test_index]\n",
    "    \n",
    "    lin_model.fit(X_train,y_train)\n",
    "    y_pred = lin_model.predict(X_val)\n",
    "    print(mean_absolute_error(y_val,y_pred))"
   ]
  },
  {
   "cell_type": "code",
   "execution_count": 168,
   "id": "95e32dbb",
   "metadata": {},
   "outputs": [
    {
     "name": "stdout",
     "output_type": "stream",
     "text": [
      "[ 0.37602588  0.03522878 -0.16227454]\n",
      "-0.004071303295636321\n"
     ]
    }
   ],
   "source": [
    "print(lin_model.coef_)\n",
    "print(lin_model.intercept_)"
   ]
  },
  {
   "cell_type": "code",
   "execution_count": 170,
   "id": "6f3ad288",
   "metadata": {},
   "outputs": [],
   "source": [
    "# A model with src_ref and src_hyp only. \n",
    "X = cos_df.drop(columns=['cos_sim_ref_hyp','z-score'])\n",
    "y = cos_df['z-score']"
   ]
  },
  {
   "cell_type": "code",
   "execution_count": 171,
   "id": "a17148ce",
   "metadata": {},
   "outputs": [
    {
     "name": "stdout",
     "output_type": "stream",
     "text": [
      "0.6872387987829903\n",
      "0.7074090038492186\n",
      "0.7017583072988852\n",
      "0.6806976681436335\n",
      "0.648423808347745\n",
      "0.6688137843687497\n",
      "0.6230586532258409\n",
      "0.6679940901556314\n",
      "0.6562495683670608\n",
      "0.6630161471191572\n",
      "[0.08666064 0.10156855]\n",
      "-0.007630570925880059\n"
     ]
    }
   ],
   "source": [
    "kf = KFold(n_splits = 10)\n",
    "for train_index, test_index in kf.split(X):\n",
    "    X_train, X_val = X.iloc[train_index], X.iloc[test_index]\n",
    "    y_train, y_val = y.iloc[train_index], y.iloc[test_index]\n",
    "    \n",
    "    lin_model.fit(X_train,y_train)\n",
    "    y_pred = lin_model.predict(X_val)\n",
    "    print(mean_absolute_error(y_val,y_pred))\n",
    "print(lin_model.coef_)\n",
    "print(lin_model.intercept_)"
   ]
  },
  {
   "cell_type": "markdown",
   "id": "a672e080",
   "metadata": {},
   "source": [
    "Seems like it is about the same, which I guess does make sense, consdering the correlations between the three are likely to be very strong."
   ]
  },
  {
   "cell_type": "code",
   "execution_count": 172,
   "id": "5cba6927",
   "metadata": {},
   "outputs": [
    {
     "data": {
      "text/plain": [
       "array([-0.11235052, -0.2473391 ,  0.15787498, ...,  0.11558839,\n",
       "        0.05184496,  0.16605814])"
      ]
     },
     "execution_count": 172,
     "metadata": {},
     "output_type": "execute_result"
    }
   ],
   "source": [
    "y_pred"
   ]
  },
  {
   "cell_type": "markdown",
   "id": "586686e3",
   "metadata": {},
   "source": [
    "---\n",
    "Using a Neural Network"
   ]
  },
  {
   "cell_type": "code",
   "execution_count": 180,
   "id": "92e2790c",
   "metadata": {},
   "outputs": [],
   "source": [
    "MLP_model = MLPRegressor(hidden_layer_sizes=(2,2),max_iter=250,learning_rate_init=0.0015,solver=\"lbfgs\")"
   ]
  },
  {
   "cell_type": "code",
   "execution_count": 181,
   "id": "78c914e7",
   "metadata": {},
   "outputs": [],
   "source": [
    "# Train test Split\n",
    "X_train, X_test, y_train, y_test = train_test_split(X, y, test_size=0.1, random_state=42)"
   ]
  },
  {
   "cell_type": "code",
   "execution_count": 182,
   "id": "8158ea16",
   "metadata": {},
   "outputs": [],
   "source": [
    "scaler = StandardScaler().fit(X_train)\n",
    "X_train = scaler.transform(X_train)\n",
    "X_test = scaler.transform(X_test)"
   ]
  },
  {
   "cell_type": "code",
   "execution_count": 183,
   "id": "b24754f6",
   "metadata": {},
   "outputs": [
    {
     "name": "stdout",
     "output_type": "stream",
     "text": [
      "Model loss: 0.34835343901739707\n",
      "The MAE is 0.6626282494895644\n",
      "Model loss: 0.34638616655853294\n",
      "The MAE is 0.672010648802219\n",
      "Model loss: 0.3488007211843734\n",
      "The MAE is 0.6671417028880381\n",
      "Model loss: 0.3498710466355067\n",
      "The MAE is 0.6562765911072028\n",
      "Model loss: 0.34362297586832613\n",
      "The MAE is 0.6683375974555464\n"
     ]
    }
   ],
   "source": [
    "kf = KFold(5)\n",
    "for train_index, val_index in kf.split(X_train):\n",
    "    kf_X_train, X_val = X_train[train_index], X_train[val_index]\n",
    "    kf_y_train, y_val = y_train.iloc[train_index], y_train.iloc[val_index]    \n",
    "    \n",
    "    MLP_model.fit(kf_X_train,kf_y_train)\n",
    "    y_val_pred = MLP_model.predict(X_val)\n",
    "    print(f\"Model loss: {MLP_model.loss_}\")\n",
    "    print(f\"The MAE is {mean_absolute_error(y_val,y_val_pred)}\")"
   ]
  },
  {
   "cell_type": "markdown",
   "id": "35130291",
   "metadata": {},
   "source": [
    "---\n",
    "Using Neural Networks, directly on the embeddings."
   ]
  },
  {
   "cell_type": "code",
   "execution_count": null,
   "id": "790a542d",
   "metadata": {},
   "outputs": [],
   "source": [
    "## Maybe don't run this if you care about time."
   ]
  },
  {
   "cell_type": "code",
   "execution_count": 199,
   "id": "675dedab",
   "metadata": {},
   "outputs": [],
   "source": [
    "# An input has to be of shape (3,1024), because we have 3 embedded vectors of size 1024.\n",
    "# combined array\n",
    "full_arr = np.dstack((source_arr,refer_arr,trans_arr))\n",
    "\n",
    "# Option 2, make it size (1,2048), by concatenating the arrays. This is what we are using now, according to teacher's indications.\n",
    "full_arr_c = np.concatenate((refer_arr,trans_arr),axis=1)\n"
   ]
  },
  {
   "cell_type": "code",
   "execution_count": 200,
   "id": "eb6a3b3f",
   "metadata": {},
   "outputs": [],
   "source": [
    "X = full_arr_c.copy()\n",
    "y = df1[\"z-score\"].to_numpy()\n",
    "\n",
    "# Train test Split\n",
    "X_train, X_test, y_train, y_test = train_test_split(X, y, test_size=0.1, random_state=42)"
   ]
  },
  {
   "cell_type": "code",
   "execution_count": 201,
   "id": "789c13a4",
   "metadata": {},
   "outputs": [
    {
     "data": {
      "text/plain": [
       "(19533, 2048)"
      ]
     },
     "execution_count": 201,
     "metadata": {},
     "output_type": "execute_result"
    }
   ],
   "source": [
    "X_train.shape"
   ]
  },
  {
   "cell_type": "code",
   "execution_count": 249,
   "id": "6e6ad5a5",
   "metadata": {},
   "outputs": [],
   "source": [
    "model = models.Sequential()\n",
    "\n",
    "model.add(layers.Dense(1024,activation=\"relu\",input_dim=X_train.shape[1]))\n",
    "model.add(layers.Dense(512,activation=\"relu\"))\n",
    "model.add(layers.Dense(128,activation=\"relu\"))\n",
    "model.add(layers.Dense(64,activation=\"relu\"))\n",
    "model.add(layers.Dense(1,activation=\"tanh\"))\n",
    "model.compile(optimizer=keras.optimizers.Adam(lr=0.001),loss=\"mse\",metrics=[\"mae\"])"
   ]
  },
  {
   "cell_type": "code",
   "execution_count": 250,
   "id": "4d278c1a",
   "metadata": {},
   "outputs": [
    {
     "name": "stdout",
     "output_type": "stream",
     "text": [
      "Model: \"sequential_26\"\n",
      "_________________________________________________________________\n",
      "Layer (type)                 Output Shape              Param #   \n",
      "=================================================================\n",
      "dense_55 (Dense)             (None, 1024)              2098176   \n",
      "_________________________________________________________________\n",
      "dense_56 (Dense)             (None, 512)               524800    \n",
      "_________________________________________________________________\n",
      "dense_57 (Dense)             (None, 128)               65664     \n",
      "_________________________________________________________________\n",
      "dense_58 (Dense)             (None, 64)                8256      \n",
      "_________________________________________________________________\n",
      "dense_59 (Dense)             (None, 1)                 65        \n",
      "=================================================================\n",
      "Total params: 2,696,961\n",
      "Trainable params: 2,696,961\n",
      "Non-trainable params: 0\n",
      "_________________________________________________________________\n"
     ]
    }
   ],
   "source": [
    "model.summary()"
   ]
  },
  {
   "cell_type": "code",
   "execution_count": 251,
   "id": "fd92bc7f",
   "metadata": {},
   "outputs": [
    {
     "name": "stdout",
     "output_type": "stream",
     "text": [
      "Epoch 1/10\n",
      "19533/19533 [==============================] - 6s 286us/step - loss: 0.7097 - mae: 0.6724\n",
      "Epoch 2/10\n",
      "19533/19533 [==============================] - 5s 277us/step - loss: 0.6735 - mae: 0.6510\n",
      "Epoch 3/10\n",
      "19533/19533 [==============================] - 5s 279us/step - loss: 0.6501 - mae: 0.6369\n",
      "Epoch 4/10\n",
      "19533/19533 [==============================] - 5s 276us/step - loss: 0.6281 - mae: 0.6248\n",
      "Epoch 5/10\n",
      "19533/19533 [==============================] - 5s 274us/step - loss: 0.6106 - mae: 0.6146\n",
      "Epoch 6/10\n",
      "19533/19533 [==============================] - 6s 282us/step - loss: 0.5865 - mae: 0.6001\n",
      "Epoch 7/10\n",
      "19533/19533 [==============================] - 5s 276us/step - loss: 0.5679 - mae: 0.5883\n",
      "Epoch 8/10\n",
      "19533/19533 [==============================] - 5s 277us/step - loss: 0.5561 - mae: 0.5815\n",
      "Epoch 9/10\n",
      "19533/19533 [==============================] - 5s 276us/step - loss: 0.5380 - mae: 0.5699\n",
      "Epoch 10/10\n",
      "19533/19533 [==============================] - 5s 278us/step - loss: 0.5271 - mae: 0.5634\n",
      "2171/2171 [==============================] - 0s 125us/step\n",
      "This is val MSE: 0.6884871353371689.\n",
      "This the MAE:0.6305865049362183\n"
     ]
    }
   ],
   "source": [
    "# Fit. Batch Size < > Learning Rate\n",
    "\n",
    "model.fit(X_train,y_train,epochs=10,batch_size=128,verbose=1)\n",
    "val_mse,val_mae = model.evaluate(X_test,y_test)\n",
    "print(f\"This is val MSE: {val_mse}.\\nThis the MAE:{val_mae}\")"
   ]
  },
  {
   "cell_type": "code",
   "execution_count": 252,
   "id": "5652db73",
   "metadata": {},
   "outputs": [],
   "source": [
    "test = model.predict(X_test)"
   ]
  },
  {
   "cell_type": "code",
   "execution_count": 253,
   "id": "c784ae4c",
   "metadata": {},
   "outputs": [
    {
     "data": {
      "text/plain": [
       "array([[ 0.25912875],\n",
       "       [ 0.09689508],\n",
       "       [-0.50694126],\n",
       "       ...,\n",
       "       [ 0.3891723 ],\n",
       "       [ 0.18257554],\n",
       "       [ 0.41995084]], dtype=float32)"
      ]
     },
     "execution_count": 253,
     "metadata": {},
     "output_type": "execute_result"
    }
   ],
   "source": [
    "test"
   ]
  },
  {
   "cell_type": "code",
   "execution_count": 254,
   "id": "5b23fdab",
   "metadata": {},
   "outputs": [
    {
     "data": {
      "text/plain": [
       "0.5576136341607313"
      ]
     },
     "execution_count": 254,
     "metadata": {},
     "output_type": "execute_result"
    }
   ],
   "source": [
    "df1[\"z-score\"].corr(pd.Series(model.predict(X).flatten()))\n",
    "# The results are much better, and indicative of a good metric."
   ]
  },
  {
   "cell_type": "code",
   "execution_count": null,
   "id": "ef28ed27",
   "metadata": {},
   "outputs": [],
   "source": []
  },
  {
   "cell_type": "code",
   "execution_count": null,
   "id": "17a4d652",
   "metadata": {},
   "outputs": [],
   "source": []
  },
  {
   "cell_type": "code",
   "execution_count": null,
   "id": "27de6c61",
   "metadata": {},
   "outputs": [],
   "source": []
  },
  {
   "cell_type": "code",
   "execution_count": null,
   "id": "6babba8e",
   "metadata": {},
   "outputs": [],
   "source": []
  }
 ],
 "metadata": {
  "kernelspec": {
   "display_name": "Python 3",
   "language": "python",
   "name": "python3"
  },
  "language_info": {
   "codemirror_mode": {
    "name": "ipython",
    "version": 3
   },
   "file_extension": ".py",
   "mimetype": "text/x-python",
   "name": "python",
   "nbconvert_exporter": "python",
   "pygments_lexer": "ipython3",
   "version": "3.8.8"
  }
 },
 "nbformat": 4,
 "nbformat_minor": 5
}
