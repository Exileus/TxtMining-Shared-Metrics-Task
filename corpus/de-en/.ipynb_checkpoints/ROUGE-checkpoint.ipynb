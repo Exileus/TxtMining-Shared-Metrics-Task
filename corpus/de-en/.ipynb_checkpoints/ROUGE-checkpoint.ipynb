{
 "cells": [
  {
   "cell_type": "markdown",
   "id": "5626a118",
   "metadata": {},
   "source": [
    "# Text Mining Grouo Project\n",
    "## DE-EN Corpus"
   ]
  },
  {
   "cell_type": "markdown",
   "id": "3ad1073c",
   "metadata": {},
   "source": [
    "##### TOC for Implemented Metrics."
   ]
  },
  {
   "cell_type": "markdown",
   "id": "12afa795",
   "metadata": {},
   "source": [
    "---"
   ]
  },
  {
   "cell_type": "code",
   "execution_count": null,
   "id": "cf48c44c",
   "metadata": {},
   "outputs": [],
   "source": [
    "# Necessary Installs.\n",
    "# !pip install rouge"
   ]
  },
  {
   "cell_type": "code",
   "execution_count": 18,
   "id": "5d01d480",
   "metadata": {},
   "outputs": [],
   "source": [
    "# Imports\n",
    "import pandas as pd\n",
    "from collections import Counter\n",
    "from rouge import Rouge"
   ]
  },
  {
   "cell_type": "markdown",
   "id": "7c3d0f0a",
   "metadata": {},
   "source": [
    "Load Dataset"
   ]
  },
  {
   "cell_type": "code",
   "execution_count": 4,
   "id": "3b519fcc",
   "metadata": {},
   "outputs": [],
   "source": [
    "df1 = pd.read_csv(\"scores.csv\")"
   ]
  },
  {
   "cell_type": "code",
   "execution_count": 5,
   "id": "3d7e88e3",
   "metadata": {},
   "outputs": [
    {
     "name": "stdout",
     "output_type": "stream",
     "text": [
      "<class 'pandas.core.frame.DataFrame'>\n",
      "RangeIndex: 21704 entries, 0 to 21703\n",
      "Data columns (total 6 columns):\n",
      " #   Column       Non-Null Count  Dtype  \n",
      "---  ------       --------------  -----  \n",
      " 0   source       21704 non-null  object \n",
      " 1   reference    21704 non-null  object \n",
      " 2   translation  21704 non-null  object \n",
      " 3   z-score      21704 non-null  float64\n",
      " 4   avg-score    21704 non-null  float64\n",
      " 5   annotators   21704 non-null  int64  \n",
      "dtypes: float64(2), int64(1), object(3)\n",
      "memory usage: 1017.5+ KB\n"
     ]
    }
   ],
   "source": [
    "df1.info()"
   ]
  },
  {
   "cell_type": "code",
   "execution_count": 6,
   "id": "fbf88b29",
   "metadata": {},
   "outputs": [
    {
     "data": {
      "text/html": [
       "<div>\n",
       "<style scoped>\n",
       "    .dataframe tbody tr th:only-of-type {\n",
       "        vertical-align: middle;\n",
       "    }\n",
       "\n",
       "    .dataframe tbody tr th {\n",
       "        vertical-align: top;\n",
       "    }\n",
       "\n",
       "    .dataframe thead th {\n",
       "        text-align: right;\n",
       "    }\n",
       "</style>\n",
       "<table border=\"1\" class=\"dataframe\">\n",
       "  <thead>\n",
       "    <tr style=\"text-align: right;\">\n",
       "      <th></th>\n",
       "      <th>source</th>\n",
       "      <th>reference</th>\n",
       "      <th>translation</th>\n",
       "      <th>z-score</th>\n",
       "      <th>avg-score</th>\n",
       "      <th>annotators</th>\n",
       "    </tr>\n",
       "  </thead>\n",
       "  <tbody>\n",
       "    <tr>\n",
       "      <th>0</th>\n",
       "      <td>Ihr Zeitlupentempo maßen sie, als sie vor Spit...</td>\n",
       "      <td>Her timeless pace measures them when they equi...</td>\n",
       "      <td>Their slow speed was measured by researchers o...</td>\n",
       "      <td>-0.345024</td>\n",
       "      <td>76.0</td>\n",
       "      <td>1</td>\n",
       "    </tr>\n",
       "    <tr>\n",
       "      <th>1</th>\n",
       "      <td>Er sagte, dass die Bereiche ruhige Treffpunkte...</td>\n",
       "      <td>He said the areas offer quiet meeting points b...</td>\n",
       "      <td>He said the spaces provided calm meeting point...</td>\n",
       "      <td>0.903800</td>\n",
       "      <td>97.5</td>\n",
       "      <td>2</td>\n",
       "    </tr>\n",
       "    <tr>\n",
       "      <th>2</th>\n",
       "      <td>Für die Geschäftsleute an der B 27 ist es nur ...</td>\n",
       "      <td>For businessmen at the B 27, it's only a small...</td>\n",
       "      <td>This is only a small consolation for businesse...</td>\n",
       "      <td>0.700503</td>\n",
       "      <td>94.0</td>\n",
       "      <td>1</td>\n",
       "    </tr>\n",
       "    <tr>\n",
       "      <th>3</th>\n",
       "      <td>Diese Fähigkeit sei möglicherweise angeboren o...</td>\n",
       "      <td>This ability may be born or developed with gen...</td>\n",
       "      <td>This ability may be innate, or may develop as ...</td>\n",
       "      <td>-1.256572</td>\n",
       "      <td>51.5</td>\n",
       "      <td>2</td>\n",
       "    </tr>\n",
       "    <tr>\n",
       "      <th>4</th>\n",
       "      <td>Weil sie Wassertemperaturen um die sechs Grad ...</td>\n",
       "      <td>Because they prefer water temperatures around ...</td>\n",
       "      <td>They generally only come to the surface in win...</td>\n",
       "      <td>0.293909</td>\n",
       "      <td>87.0</td>\n",
       "      <td>2</td>\n",
       "    </tr>\n",
       "  </tbody>\n",
       "</table>\n",
       "</div>"
      ],
      "text/plain": [
       "                                              source  \\\n",
       "0  Ihr Zeitlupentempo maßen sie, als sie vor Spit...   \n",
       "1  Er sagte, dass die Bereiche ruhige Treffpunkte...   \n",
       "2  Für die Geschäftsleute an der B 27 ist es nur ...   \n",
       "3  Diese Fähigkeit sei möglicherweise angeboren o...   \n",
       "4  Weil sie Wassertemperaturen um die sechs Grad ...   \n",
       "\n",
       "                                           reference  \\\n",
       "0  Her timeless pace measures them when they equi...   \n",
       "1  He said the areas offer quiet meeting points b...   \n",
       "2  For businessmen at the B 27, it's only a small...   \n",
       "3  This ability may be born or developed with gen...   \n",
       "4  Because they prefer water temperatures around ...   \n",
       "\n",
       "                                         translation   z-score  avg-score  \\\n",
       "0  Their slow speed was measured by researchers o... -0.345024       76.0   \n",
       "1  He said the spaces provided calm meeting point...  0.903800       97.5   \n",
       "2  This is only a small consolation for businesse...  0.700503       94.0   \n",
       "3  This ability may be innate, or may develop as ... -1.256572       51.5   \n",
       "4  They generally only come to the surface in win...  0.293909       87.0   \n",
       "\n",
       "   annotators  \n",
       "0           1  \n",
       "1           2  \n",
       "2           1  \n",
       "3           2  \n",
       "4           2  "
      ]
     },
     "execution_count": 6,
     "metadata": {},
     "output_type": "execute_result"
    }
   ],
   "source": [
    "df1.head()"
   ]
  },
  {
   "cell_type": "markdown",
   "id": "05e6027d",
   "metadata": {},
   "source": [
    "---\n",
    "PreProcessing"
   ]
  },
  {
   "cell_type": "code",
   "execution_count": 11,
   "id": "6e4fbfe4",
   "metadata": {},
   "outputs": [],
   "source": [
    "# Pre processing of this set.\n",
    "df = df1.copy()\n",
    "\n",
    "for x in [\"source\",\"reference\",\"translation\"]:\n",
    "    # lowercase.\n",
    "    df[x] = df1[x].str.lower()"
   ]
  },
  {
   "cell_type": "markdown",
   "id": "1d148d9d",
   "metadata": {},
   "source": [
    "---\n",
    "Metrics"
   ]
  },
  {
   "cell_type": "markdown",
   "id": "06e55a4c",
   "metadata": {},
   "source": [
    "Rouge metric as described in\n",
    "\n",
    "https://towardsdatascience.com/the-ultimate-performance-metric-in-nlp-111df6c64460"
   ]
  },
  {
   "cell_type": "code",
   "execution_count": 20,
   "id": "e00b593d",
   "metadata": {},
   "outputs": [],
   "source": [
    "reference = df[\"reference\"][0]\n",
    "model_out = df[\"translation\"][0]"
   ]
  },
  {
   "cell_type": "code",
   "execution_count": 21,
   "id": "92cf3234",
   "metadata": {},
   "outputs": [],
   "source": [
    "rouge = Rouge()"
   ]
  },
  {
   "cell_type": "code",
   "execution_count": 24,
   "id": "e836dc78",
   "metadata": {},
   "outputs": [
    {
     "name": "stdout",
     "output_type": "stream",
     "text": [
      "her timeless pace measures them when they equipped six animals with a broadcaster before spitsbergen.\n",
      "their slow speed was measured by researchers off svalbard, who fitted six animals with a tracker.\n"
     ]
    }
   ],
   "source": [
    "print(reference)\n",
    "print(model_out)"
   ]
  },
  {
   "cell_type": "code",
   "execution_count": 22,
   "id": "0ae7a8ff",
   "metadata": {},
   "outputs": [
    {
     "data": {
      "text/plain": [
       "[{'rouge-1': {'f': 0.2580645111342353, 'p': 0.25, 'r': 0.26666666666666666},\n",
       "  'rouge-2': {'f': 0.20689654673008337, 'p': 0.2, 'r': 0.21428571428571427},\n",
       "  'rouge-l': {'f': 0.2580645111342353, 'p': 0.25, 'r': 0.26666666666666666}}]"
      ]
     },
     "execution_count": 22,
     "metadata": {},
     "output_type": "execute_result"
    }
   ],
   "source": [
    "# The get scores method returns three metrics, F1 score, p precision and recall r.\n",
    "# For each unigram,bigram and Longest sequence.\n",
    "rouge.get_scores(model_out,reference)"
   ]
  },
  {
   "cell_type": "code",
   "execution_count": 59,
   "id": "384540e8",
   "metadata": {},
   "outputs": [],
   "source": [
    "# For the entire model, model_out and reference need to be lists of strings.\n",
    "model_out = df[\"translation\"].to_list()\n",
    "reference = df[\"reference\"].to_list()\n",
    "rouge_scores = rouge.get_scores(model_out,reference)"
   ]
  },
  {
   "cell_type": "code",
   "execution_count": 60,
   "id": "f095d246",
   "metadata": {},
   "outputs": [],
   "source": [
    "# For each of the three scores, output a new column in the df with the f scores.\n",
    "for key in rouge_scores[0].keys():\n",
    "    df[(key+\" score\")] = pd.Series([score[key][\"f\"] for score in rouge_scores])"
   ]
  },
  {
   "cell_type": "markdown",
   "id": "fff82fbe",
   "metadata": {},
   "source": [
    "---\n",
    "### Comparison of Applied Metrics\n",
    "Because the numeric system used for all of these can be different, the best way to compare them is by checking the correlation with the annotator's scores."
   ]
  },
  {
   "cell_type": "code",
   "execution_count": 78,
   "id": "8f575eb4",
   "metadata": {},
   "outputs": [
    {
     "name": "stdout",
     "output_type": "stream",
     "text": [
      "0.27712388715157904\n",
      "0.25796024900539144\n",
      "0.2858468104864439\n"
     ]
    }
   ],
   "source": [
    "# Thankfully, Pandas has a corr method. :)\n",
    "print(df.iloc[:,-3].corr(df.loc[:,\"avg-score\"]))\n",
    "print(df.iloc[:,-2].corr(df.loc[:,\"avg-score\"]))\n",
    "print(df.iloc[:,-1].corr(df.loc[:,\"avg-score\"]))"
   ]
  },
  {
   "cell_type": "code",
   "execution_count": 76,
   "id": "7531388d",
   "metadata": {},
   "outputs": [],
   "source": [
    "## Beautiful."
   ]
  },
  {
   "cell_type": "code",
   "execution_count": null,
   "id": "6b7f1d00",
   "metadata": {},
   "outputs": [],
   "source": []
  },
  {
   "cell_type": "code",
   "execution_count": null,
   "id": "473d5eb4",
   "metadata": {},
   "outputs": [],
   "source": []
  }
 ],
 "metadata": {
  "kernelspec": {
   "display_name": "Python 3",
   "language": "python",
   "name": "python3"
  },
  "language_info": {
   "codemirror_mode": {
    "name": "ipython",
    "version": 3
   },
   "file_extension": ".py",
   "mimetype": "text/x-python",
   "name": "python",
   "nbconvert_exporter": "python",
   "pygments_lexer": "ipython3",
   "version": "3.8.8"
  }
 },
 "nbformat": 4,
 "nbformat_minor": 5
}
