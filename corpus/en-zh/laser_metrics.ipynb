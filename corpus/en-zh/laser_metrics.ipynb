{
 "cells": [
  {
   "cell_type": "markdown",
   "id": "valued-yukon",
   "metadata": {},
   "source": [
    "### Implementation of LASER to the corpus\n",
    "### EN-ZH"
   ]
  },
  {
   "cell_type": "code",
   "execution_count": 1,
   "id": "refined-possible",
   "metadata": {},
   "outputs": [
    {
     "name": "stderr",
     "output_type": "stream",
     "text": [
      "Using TensorFlow backend.\n"
     ]
    }
   ],
   "source": [
    "# Imports\n",
    "import numpy as np\n",
    "from scipy import spatial\n",
    "import pandas as pd\n",
    "from datetime import datetime\n",
    "\n",
    "from sklearn.linear_model import LinearRegression\n",
    "from sklearn.neural_network import MLPRegressor\n",
    "from sklearn.model_selection import train_test_split, KFold\n",
    "from sklearn.metrics import mean_absolute_error\n",
    "from sklearn.preprocessing import StandardScaler\n",
    "\n",
    "import keras\n",
    "from keras import models\n",
    "from keras import layers\n"
   ]
  },
  {
   "cell_type": "markdown",
   "id": "julian-scanning",
   "metadata": {},
   "source": [
    "Load Dataset"
   ]
  },
  {
   "cell_type": "code",
   "execution_count": 2,
   "id": "documented-property",
   "metadata": {},
   "outputs": [],
   "source": [
    "df1 = pd.read_csv(\"scores.csv\")"
   ]
  },
  {
   "cell_type": "code",
   "execution_count": 3,
   "id": "charming-oklahoma",
   "metadata": {},
   "outputs": [
    {
     "name": "stdout",
     "output_type": "stream",
     "text": [
      "<class 'pandas.core.frame.DataFrame'>\n",
      "RangeIndex: 10221 entries, 0 to 10220\n",
      "Data columns (total 6 columns):\n",
      " #   Column       Non-Null Count  Dtype  \n",
      "---  ------       --------------  -----  \n",
      " 0   source       10221 non-null  object \n",
      " 1   reference    10221 non-null  object \n",
      " 2   translation  10221 non-null  object \n",
      " 3   z-score      10221 non-null  float64\n",
      " 4   avg-score    10221 non-null  float64\n",
      " 5   annotators   10221 non-null  int64  \n",
      "dtypes: float64(2), int64(1), object(3)\n",
      "memory usage: 479.2+ KB\n"
     ]
    }
   ],
   "source": [
    "df1.info()"
   ]
  },
  {
   "cell_type": "code",
   "execution_count": 4,
   "id": "stock-stuart",
   "metadata": {},
   "outputs": [
    {
     "data": {
      "text/html": [
       "<div>\n",
       "<style scoped>\n",
       "    .dataframe tbody tr th:only-of-type {\n",
       "        vertical-align: middle;\n",
       "    }\n",
       "\n",
       "    .dataframe tbody tr th {\n",
       "        vertical-align: top;\n",
       "    }\n",
       "\n",
       "    .dataframe thead th {\n",
       "        text-align: right;\n",
       "    }\n",
       "</style>\n",
       "<table border=\"1\" class=\"dataframe\">\n",
       "  <thead>\n",
       "    <tr style=\"text-align: right;\">\n",
       "      <th></th>\n",
       "      <th>source</th>\n",
       "      <th>reference</th>\n",
       "      <th>translation</th>\n",
       "      <th>z-score</th>\n",
       "      <th>avg-score</th>\n",
       "      <th>annotators</th>\n",
       "    </tr>\n",
       "  </thead>\n",
       "  <tbody>\n",
       "    <tr>\n",
       "      <th>0</th>\n",
       "      <td>\"In the GISS model's simulation, Venus' slow s...</td>\n",
       "      <td>GSIS的科学家AnthonyDelGenio在新闻稿中解释说：“在GISS模型的模拟模型中...</td>\n",
       "      <td>戈达德太空研究所科学家安东尼·德尔·杰尼奥在新闻发布会上解释说：“在戈达德太空研究所的模型模...</td>\n",
       "      <td>-1.171867</td>\n",
       "      <td>50.0</td>\n",
       "      <td>1</td>\n",
       "    </tr>\n",
       "    <tr>\n",
       "      <th>1</th>\n",
       "      <td>Ai Yanhan of China in the Women's 4 x 200m Fre...</td>\n",
       "      <td>中国在英国女性4x200mFreestreyWTE中的最后被称为：“中国14岁的孩子从球下降...</td>\n",
       "      <td>参加女子4x200米自由泳接力赛决赛的中国小将艾衍含被这样描述：“那名14岁的中国小姑娘犯了...</td>\n",
       "      <td>-2.255403</td>\n",
       "      <td>26.5</td>\n",
       "      <td>2</td>\n",
       "    </tr>\n",
       "    <tr>\n",
       "      <th>2</th>\n",
       "      <td>Then came 2012, when nothing much went right f...</td>\n",
       "      <td>然后来到2012年，当她和她的队友们没有什么好处。</td>\n",
       "      <td>2012年，她和她的队友都不被看好。</td>\n",
       "      <td>-2.508996</td>\n",
       "      <td>21.0</td>\n",
       "      <td>1</td>\n",
       "    </tr>\n",
       "    <tr>\n",
       "      <th>3</th>\n",
       "      <td>Since last year, Guodian Group has exported a ...</td>\n",
       "      <td>自去年以来，GoudianGroup从南非通过南非港口出口了163套风力发电项目。</td>\n",
       "      <td>自去年以来，国电集团共计有163套风电项目陆续从连云港港出口南非。</td>\n",
       "      <td>-2.416780</td>\n",
       "      <td>23.0</td>\n",
       "      <td>1</td>\n",
       "    </tr>\n",
       "    <tr>\n",
       "      <th>4</th>\n",
       "      <td>Some alleged that the Kempinski hotel simply \"...</td>\n",
       "      <td>一些人指称，Kempinski旅馆只是\"被捕\"，以满足阿拉伯客户的要求。</td>\n",
       "      <td>有人认为凯宾斯基酒店简直是为了满足阿拉伯客户的要求而“卑躬屈膝”。</td>\n",
       "      <td>-1.489676</td>\n",
       "      <td>45.0</td>\n",
       "      <td>7</td>\n",
       "    </tr>\n",
       "  </tbody>\n",
       "</table>\n",
       "</div>"
      ],
      "text/plain": [
       "                                              source  \\\n",
       "0  \"In the GISS model's simulation, Venus' slow s...   \n",
       "1  Ai Yanhan of China in the Women's 4 x 200m Fre...   \n",
       "2  Then came 2012, when nothing much went right f...   \n",
       "3  Since last year, Guodian Group has exported a ...   \n",
       "4  Some alleged that the Kempinski hotel simply \"...   \n",
       "\n",
       "                                           reference  \\\n",
       "0  GSIS的科学家AnthonyDelGenio在新闻稿中解释说：“在GISS模型的模拟模型中...   \n",
       "1  中国在英国女性4x200mFreestreyWTE中的最后被称为：“中国14岁的孩子从球下降...   \n",
       "2                          然后来到2012年，当她和她的队友们没有什么好处。   \n",
       "3          自去年以来，GoudianGroup从南非通过南非港口出口了163套风力发电项目。   \n",
       "4               一些人指称，Kempinski旅馆只是\"被捕\"，以满足阿拉伯客户的要求。   \n",
       "\n",
       "                                         translation   z-score  avg-score  \\\n",
       "0  戈达德太空研究所科学家安东尼·德尔·杰尼奥在新闻发布会上解释说：“在戈达德太空研究所的模型模... -1.171867       50.0   \n",
       "1  参加女子4x200米自由泳接力赛决赛的中国小将艾衍含被这样描述：“那名14岁的中国小姑娘犯了... -2.255403       26.5   \n",
       "2                                 2012年，她和她的队友都不被看好。 -2.508996       21.0   \n",
       "3                  自去年以来，国电集团共计有163套风电项目陆续从连云港港出口南非。 -2.416780       23.0   \n",
       "4                  有人认为凯宾斯基酒店简直是为了满足阿拉伯客户的要求而“卑躬屈膝”。 -1.489676       45.0   \n",
       "\n",
       "   annotators  \n",
       "0           1  \n",
       "1           2  \n",
       "2           1  \n",
       "3           1  \n",
       "4           7  "
      ]
     },
     "execution_count": 4,
     "metadata": {},
     "output_type": "execute_result"
    }
   ],
   "source": [
    "df1.head()"
   ]
  },
  {
   "cell_type": "markdown",
   "id": "heated-extraction",
   "metadata": {},
   "source": [
    "Comparison of LASER embeddings"
   ]
  },
  {
   "cell_type": "code",
   "execution_count": 5,
   "id": "extra-lodge",
   "metadata": {},
   "outputs": [],
   "source": [
    "source_arr = np.load(\"laser.source_embeds.npy\")\n",
    "refer_arr = np.load(\"laser.reference_embeds.npy\")\n",
    "trans_arr = np.load(\"laser.translation_embeds.npy\")"
   ]
  },
  {
   "cell_type": "markdown",
   "id": "objective-mobile",
   "metadata": {},
   "source": [
    "Cosine Similarity"
   ]
  },
  {
   "cell_type": "code",
   "execution_count": 6,
   "id": "shared-comparison",
   "metadata": {},
   "outputs": [],
   "source": [
    "cos_similarity_ref_hyp = []\n",
    "cos_similarity_src_ref = []\n",
    "cos_similarity_src_hyp = []\n",
    "\n",
    "# for each of the cos similarity, put them into lists.\n",
    "for i in range(refer_arr.shape[0]):\n",
    "    cos_similarity_ref_hyp.append((spatial.distance.cosine(refer_arr[i],trans_arr[i])*-1)+1)\n",
    "    cos_similarity_src_ref.append((spatial.distance.cosine(source_arr[i],refer_arr[i])*-1)+1)\n",
    "    cos_similarity_src_hyp.append((spatial.distance.cosine(source_arr[i],trans_arr[i])*-1)+1)\n",
    "\n",
    "\n",
    "# Standardize and transform into series.\n",
    "scaler = StandardScaler()\n",
    "cs_rh = pd.Series(scaler.fit_transform(np.array(cos_similarity_ref_hyp).reshape(-1,1)).flatten(),name=\"cos_sim_ref_hyp\")\n",
    "cs_sr = pd.Series(scaler.fit_transform(np.array(cos_similarity_src_ref).reshape(-1,1)).flatten(),name=\"cos_sim_src_ref\")\n",
    "cs_sh = pd.Series(scaler.fit_transform(np.array(cos_similarity_src_hyp).reshape(-1,1)).flatten(),name=\"cos_sim_src_hyp\")\n",
    "\n"
   ]
  },
  {
   "cell_type": "code",
   "execution_count": 7,
   "id": "severe-marina",
   "metadata": {},
   "outputs": [
    {
     "data": {
      "text/html": [
       "<div>\n",
       "<style scoped>\n",
       "    .dataframe tbody tr th:only-of-type {\n",
       "        vertical-align: middle;\n",
       "    }\n",
       "\n",
       "    .dataframe tbody tr th {\n",
       "        vertical-align: top;\n",
       "    }\n",
       "\n",
       "    .dataframe thead th {\n",
       "        text-align: right;\n",
       "    }\n",
       "</style>\n",
       "<table border=\"1\" class=\"dataframe\">\n",
       "  <thead>\n",
       "    <tr style=\"text-align: right;\">\n",
       "      <th></th>\n",
       "      <th>cos_sim_ref_hyp</th>\n",
       "      <th>cos_sim_src_ref</th>\n",
       "      <th>cos_sim_src_hyp</th>\n",
       "      <th>z-score</th>\n",
       "    </tr>\n",
       "  </thead>\n",
       "  <tbody>\n",
       "    <tr>\n",
       "      <th>0</th>\n",
       "      <td>0.506499</td>\n",
       "      <td>-0.226070</td>\n",
       "      <td>0.134138</td>\n",
       "      <td>-1.171867</td>\n",
       "    </tr>\n",
       "    <tr>\n",
       "      <th>1</th>\n",
       "      <td>-0.000750</td>\n",
       "      <td>0.306927</td>\n",
       "      <td>0.277149</td>\n",
       "      <td>-2.255403</td>\n",
       "    </tr>\n",
       "    <tr>\n",
       "      <th>2</th>\n",
       "      <td>0.283278</td>\n",
       "      <td>-0.423836</td>\n",
       "      <td>-1.636946</td>\n",
       "      <td>-2.508996</td>\n",
       "    </tr>\n",
       "    <tr>\n",
       "      <th>3</th>\n",
       "      <td>-0.167969</td>\n",
       "      <td>-0.195989</td>\n",
       "      <td>0.802346</td>\n",
       "      <td>-2.416780</td>\n",
       "    </tr>\n",
       "    <tr>\n",
       "      <th>4</th>\n",
       "      <td>-0.649535</td>\n",
       "      <td>0.919665</td>\n",
       "      <td>-0.351194</td>\n",
       "      <td>-1.489676</td>\n",
       "    </tr>\n",
       "  </tbody>\n",
       "</table>\n",
       "</div>"
      ],
      "text/plain": [
       "   cos_sim_ref_hyp  cos_sim_src_ref  cos_sim_src_hyp   z-score\n",
       "0         0.506499        -0.226070         0.134138 -1.171867\n",
       "1        -0.000750         0.306927         0.277149 -2.255403\n",
       "2         0.283278        -0.423836        -1.636946 -2.508996\n",
       "3        -0.167969        -0.195989         0.802346 -2.416780\n",
       "4        -0.649535         0.919665        -0.351194 -1.489676"
      ]
     },
     "execution_count": 7,
     "metadata": {},
     "output_type": "execute_result"
    }
   ],
   "source": [
    "cos_df = pd.concat([cs_rh,cs_sr,cs_sh,df1.loc[:,\"z-score\"]],axis=1)\n",
    "cos_df.head()"
   ]
  },
  {
   "cell_type": "code",
   "execution_count": 36,
   "id": "ahead-beast",
   "metadata": {
    "tags": []
   },
   "outputs": [
    {
     "name": "stdout",
     "output_type": "stream",
     "text": [
      "Pairwise Pearson\n"
     ]
    },
    {
     "data": {
      "text/html": [
       "<div>\n",
       "<style scoped>\n",
       "    .dataframe tbody tr th:only-of-type {\n",
       "        vertical-align: middle;\n",
       "    }\n",
       "\n",
       "    .dataframe tbody tr th {\n",
       "        vertical-align: top;\n",
       "    }\n",
       "\n",
       "    .dataframe thead th {\n",
       "        text-align: right;\n",
       "    }\n",
       "</style>\n",
       "<table border=\"1\" class=\"dataframe\">\n",
       "  <thead>\n",
       "    <tr style=\"text-align: right;\">\n",
       "      <th></th>\n",
       "      <th>cos_sim_ref_hyp</th>\n",
       "      <th>cos_sim_src_ref</th>\n",
       "      <th>cos_sim_src_hyp</th>\n",
       "      <th>z-score</th>\n",
       "    </tr>\n",
       "  </thead>\n",
       "  <tbody>\n",
       "    <tr>\n",
       "      <th>cos_sim_ref_hyp</th>\n",
       "      <td>1.000000</td>\n",
       "      <td>0.549882</td>\n",
       "      <td>0.678549</td>\n",
       "      <td>0.409383</td>\n",
       "    </tr>\n",
       "    <tr>\n",
       "      <th>cos_sim_src_ref</th>\n",
       "      <td>0.549882</td>\n",
       "      <td>1.000000</td>\n",
       "      <td>0.644720</td>\n",
       "      <td>0.170944</td>\n",
       "    </tr>\n",
       "    <tr>\n",
       "      <th>cos_sim_src_hyp</th>\n",
       "      <td>0.678549</td>\n",
       "      <td>0.644720</td>\n",
       "      <td>1.000000</td>\n",
       "      <td>0.224158</td>\n",
       "    </tr>\n",
       "    <tr>\n",
       "      <th>z-score</th>\n",
       "      <td>0.409383</td>\n",
       "      <td>0.170944</td>\n",
       "      <td>0.224158</td>\n",
       "      <td>1.000000</td>\n",
       "    </tr>\n",
       "  </tbody>\n",
       "</table>\n",
       "</div>"
      ],
      "text/plain": [
       "                 cos_sim_ref_hyp  cos_sim_src_ref  cos_sim_src_hyp   z-score\n",
       "cos_sim_ref_hyp         1.000000         0.549882         0.678549  0.409383\n",
       "cos_sim_src_ref         0.549882         1.000000         0.644720  0.170944\n",
       "cos_sim_src_hyp         0.678549         0.644720         1.000000  0.224158\n",
       "z-score                 0.409383         0.170944         0.224158  1.000000"
      ]
     },
     "execution_count": 36,
     "metadata": {},
     "output_type": "execute_result"
    }
   ],
   "source": [
    "# Pearson\n",
    "print(\"Pairwise Pearson\")\n",
    "cos_df.corr()"
   ]
  },
  {
   "cell_type": "code",
   "execution_count": 9,
   "id": "exciting-movement",
   "metadata": {},
   "outputs": [
    {
     "name": "stdout",
     "output_type": "stream",
     "text": [
      "Pairwise Kendall\n"
     ]
    },
    {
     "data": {
      "text/html": [
       "<div>\n",
       "<style scoped>\n",
       "    .dataframe tbody tr th:only-of-type {\n",
       "        vertical-align: middle;\n",
       "    }\n",
       "\n",
       "    .dataframe tbody tr th {\n",
       "        vertical-align: top;\n",
       "    }\n",
       "\n",
       "    .dataframe thead th {\n",
       "        text-align: right;\n",
       "    }\n",
       "</style>\n",
       "<table border=\"1\" class=\"dataframe\">\n",
       "  <thead>\n",
       "    <tr style=\"text-align: right;\">\n",
       "      <th></th>\n",
       "      <th>cos_sim_ref_hyp</th>\n",
       "      <th>cos_sim_src_ref</th>\n",
       "      <th>cos_sim_src_hyp</th>\n",
       "      <th>z-score</th>\n",
       "    </tr>\n",
       "  </thead>\n",
       "  <tbody>\n",
       "    <tr>\n",
       "      <th>cos_sim_ref_hyp</th>\n",
       "      <td>1.000000</td>\n",
       "      <td>0.303052</td>\n",
       "      <td>0.457667</td>\n",
       "      <td>0.281366</td>\n",
       "    </tr>\n",
       "    <tr>\n",
       "      <th>cos_sim_src_ref</th>\n",
       "      <td>0.303052</td>\n",
       "      <td>1.000000</td>\n",
       "      <td>0.470356</td>\n",
       "      <td>0.100637</td>\n",
       "    </tr>\n",
       "    <tr>\n",
       "      <th>cos_sim_src_hyp</th>\n",
       "      <td>0.457667</td>\n",
       "      <td>0.470356</td>\n",
       "      <td>1.000000</td>\n",
       "      <td>0.124009</td>\n",
       "    </tr>\n",
       "    <tr>\n",
       "      <th>z-score</th>\n",
       "      <td>0.281366</td>\n",
       "      <td>0.100637</td>\n",
       "      <td>0.124009</td>\n",
       "      <td>1.000000</td>\n",
       "    </tr>\n",
       "  </tbody>\n",
       "</table>\n",
       "</div>"
      ],
      "text/plain": [
       "                 cos_sim_ref_hyp  cos_sim_src_ref  cos_sim_src_hyp   z-score\n",
       "cos_sim_ref_hyp         1.000000         0.303052         0.457667  0.281366\n",
       "cos_sim_src_ref         0.303052         1.000000         0.470356  0.100637\n",
       "cos_sim_src_hyp         0.457667         0.470356         1.000000  0.124009\n",
       "z-score                 0.281366         0.100637         0.124009  1.000000"
      ]
     },
     "execution_count": 9,
     "metadata": {},
     "output_type": "execute_result"
    }
   ],
   "source": [
    "# Kendall\n",
    "print(\"Pairwise Kendall\")\n",
    "cos_df.corr(method=\"kendall\")"
   ]
  },
  {
   "cell_type": "code",
   "execution_count": 10,
   "id": "conceptual-money",
   "metadata": {},
   "outputs": [
    {
     "name": "stdout",
     "output_type": "stream",
     "text": [
      "Mean Absolute Error of cos_sim_ref_hyp in regards to the z-score: 0.7785663920526503\n",
      "Mean Absolute Error of cos_sim_src_ref in regards to the z-score: 0.9397270535360308\n",
      "Mean Absolute Error of cos_sim_src_hyp in regards to the z-score: 0.9254213676156057\n"
     ]
    }
   ],
   "source": [
    "# Mean Absolute Deviation of each of these.\n",
    "for col in cos_df.columns[:3]:\n",
    "    print(f\"Mean Absolute Error of {col} in regards to the z-score: {mean_absolute_error(cos_df[col],cos_df['z-score'])}\")"
   ]
  },
  {
   "cell_type": "markdown",
   "id": "bronze-mandate",
   "metadata": {},
   "source": [
    "---\n",
    "Linear Regression <br>to try and predict avg score based on the cos similarity "
   ]
  },
  {
   "cell_type": "code",
   "execution_count": 11,
   "id": "nasty-jason",
   "metadata": {},
   "outputs": [],
   "source": [
    "X = cos_df.drop(columns='z-score')\n",
    "y = cos_df['z-score']"
   ]
  },
  {
   "cell_type": "code",
   "execution_count": 12,
   "id": "single-anaheim",
   "metadata": {},
   "outputs": [],
   "source": [
    "lin_model = LinearRegression()"
   ]
  },
  {
   "cell_type": "code",
   "execution_count": 13,
   "id": "earned-committee",
   "metadata": {},
   "outputs": [
    {
     "name": "stdout",
     "output_type": "stream",
     "text": [
      "0.7318015561163422\n",
      "0.7078267577059839\n",
      "0.6823247554210009\n",
      "0.7415446409532402\n",
      "0.6582688283043029\n",
      "0.6841192224089204\n",
      "0.6878611778508932\n",
      "0.6571855823984333\n",
      "0.6821971881379517\n",
      "0.6358732738906558\n"
     ]
    }
   ],
   "source": [
    "kf = KFold(n_splits = 10)\n",
    "for train_index, test_index in kf.split(X):\n",
    "    X_train, X_val = X.iloc[train_index], X.iloc[test_index]\n",
    "    y_train, y_val = y.iloc[train_index], y.iloc[test_index]\n",
    "    \n",
    "    lin_model.fit(X_train,y_train)\n",
    "    y_pred = lin_model.predict(X_val)\n",
    "    lin_model_3_mae = mean_absolute_error(y_val,y_pred)\n",
    "    print(lin_model_3_mae)"
   ]
  },
  {
   "cell_type": "code",
   "execution_count": 14,
   "id": "criminal-battery",
   "metadata": {},
   "outputs": [
    {
     "name": "stdout",
     "output_type": "stream",
     "text": [
      "[-0.07425558325657274, 0.44863739230268007, -0.037769510766578744, -0.07451250543866782]\n"
     ]
    }
   ],
   "source": [
    "lin_model_3_par = [lin_model.intercept_]\n",
    "lin_model_3_par.extend([coef for coef in lin_model.coef_])\n",
    "print(lin_model_3_par)"
   ]
  },
  {
   "cell_type": "code",
   "execution_count": 15,
   "id": "renewable-tennis",
   "metadata": {},
   "outputs": [
    {
     "name": "stdout",
     "output_type": "stream",
     "text": [
      "0.4173818446793282 pearson\n",
      "0.2894802208478055 kendall\n"
     ]
    }
   ],
   "source": [
    "# Check the corr of this model. \n",
    "lin_3_pred = cos_df.apply(lambda x: lin_model_3_par[0] + lin_model_3_par[1]*x[0] + lin_model_3_par[2]*x[1] + lin_model_3_par[3]*x[2],axis=1)\n",
    "lin_3_corr_p = lin_3_pred.corr(df1[\"z-score\"], method=\"pearson\")\n",
    "lin_3_corr_k = lin_3_pred.corr(df1[\"z-score\"], method=\"kendall\")\n",
    "print(str(lin_3_corr_p)+\" pearson\")\n",
    "print(str(lin_3_corr_k)+\" kendall\")"
   ]
  },
  {
   "cell_type": "code",
   "execution_count": 16,
   "id": "forward-shoulder",
   "metadata": {},
   "outputs": [],
   "source": [
    "# A model with src_ref and src_hyp only. \n",
    "X = cos_df.drop(columns=['cos_sim_ref_hyp','z-score'])\n",
    "y = cos_df['z-score']"
   ]
  },
  {
   "cell_type": "code",
   "execution_count": 17,
   "id": "interracial-christianity",
   "metadata": {},
   "outputs": [
    {
     "name": "stdout",
     "output_type": "stream",
     "text": [
      "0.8034793625698244\n",
      "0.7561748589369753\n",
      "0.7227276933222807\n",
      "0.7949766138367033\n",
      "0.7106186214155411\n",
      "0.7499394138269524\n",
      "0.7318171319851264\n",
      "0.7405564579943311\n",
      "0.7523008423723003\n",
      "0.7360701835835555\n"
     ]
    }
   ],
   "source": [
    "kf = KFold(n_splits = 10)\n",
    "for train_index, test_index in kf.split(X):\n",
    "    X_train, X_val = X.iloc[train_index], X.iloc[test_index]\n",
    "    y_train, y_val = y.iloc[train_index], y.iloc[test_index]\n",
    "    \n",
    "    lin_model.fit(X_train,y_train)\n",
    "    y_pred = lin_model.predict(X_val)\n",
    "    print(mean_absolute_error(y_val,y_pred))"
   ]
  },
  {
   "cell_type": "code",
   "execution_count": 18,
   "id": "following-sewing",
   "metadata": {},
   "outputs": [
    {
     "data": {
      "text/plain": [
       "array([ 0.07185793, -0.11050848, -0.21701867, ...,  0.19712859,\n",
       "       -0.54550928,  0.18215215])"
      ]
     },
     "execution_count": 18,
     "metadata": {},
     "output_type": "execute_result"
    }
   ],
   "source": [
    "y_pred"
   ]
  },
  {
   "cell_type": "code",
   "execution_count": 19,
   "id": "challenging-flush",
   "metadata": {},
   "outputs": [
    {
     "name": "stdout",
     "output_type": "stream",
     "text": [
      "[-0.08491266375244289, 0.04634152696063723, 0.17725944328727994]\n"
     ]
    }
   ],
   "source": [
    "lin_model_2_par = [lin_model.intercept_]\n",
    "lin_model_2_par.extend([coef for coef in lin_model.coef_])\n",
    "print(lin_model_2_par)"
   ]
  },
  {
   "cell_type": "code",
   "execution_count": 20,
   "id": "outdoor-minutes",
   "metadata": {},
   "outputs": [
    {
     "name": "stdout",
     "output_type": "stream",
     "text": [
      "0.23872130278013967 pearson\n",
      "0.23872130278013967 kendall\n"
     ]
    }
   ],
   "source": [
    "# Check the corr of this model. \n",
    "lin_2_pred = cos_df.apply(lambda x: lin_model_2_par[0] + lin_model_2_par[1]*x[0] + lin_model_2_par[2]*x[1],axis=1)\n",
    "lin_2_corr_p = lin_2_pred.corr(df1[\"z-score\"])\n",
    "lin_2_corr_k = lin_2_pred.corr(df1[\"z-score\"],method=\"kendall\")\n",
    "print(str(lin_2_corr_p)+\" pearson\")\n",
    "print(str(lin_2_corr_p)+\" kendall\")"
   ]
  },
  {
   "cell_type": "markdown",
   "id": "subject-effects",
   "metadata": {},
   "source": [
    "---\n",
    "Using a Neural Network"
   ]
  },
  {
   "cell_type": "code",
   "execution_count": 21,
   "id": "aggregate-preservation",
   "metadata": {},
   "outputs": [],
   "source": [
    "MLP_model = MLPRegressor(hidden_layer_sizes=(2,2),max_iter=250,learning_rate_init=0.0015,solver=\"lbfgs\")"
   ]
  },
  {
   "cell_type": "code",
   "execution_count": 22,
   "id": "cleared-performance",
   "metadata": {},
   "outputs": [],
   "source": [
    "# Train test Split\n",
    "X_train, X_test, y_train, y_test = train_test_split(X, y, test_size=0.1, random_state=42)"
   ]
  },
  {
   "cell_type": "code",
   "execution_count": 23,
   "id": "theoretical-bobby",
   "metadata": {},
   "outputs": [],
   "source": [
    "scaler = StandardScaler().fit(X_train)\n",
    "X_train = scaler.transform(X_train)\n",
    "X_test = scaler.transform(X_test)"
   ]
  },
  {
   "cell_type": "code",
   "execution_count": 24,
   "id": "organizational-blade",
   "metadata": {},
   "outputs": [
    {
     "name": "stdout",
     "output_type": "stream",
     "text": [
      "Model loss: 0.40855744359855206\n",
      "The MAE is 0.7412479970650153\n",
      "Model loss: 0.4145916720302242\n",
      "The MAE is 0.7288228802303076\n",
      "Model loss: 0.4098581552866674\n",
      "The MAE is 0.7533073456775995\n",
      "Model loss: 0.4020278203609589\n",
      "The MAE is 0.7490238051296397\n",
      "Model loss: 0.4033525914424843\n",
      "The MAE is 0.7418247295362148\n"
     ]
    },
    {
     "name": "stderr",
     "output_type": "stream",
     "text": [
      "C:\\Users\\Tiago\\.conda\\envs\\tensorflow_env\\lib\\site-packages\\sklearn\\neural_network\\_multilayer_perceptron.py:500: ConvergenceWarning: lbfgs failed to converge (status=1):\n",
      "STOP: TOTAL NO. of ITERATIONS REACHED LIMIT.\n",
      "\n",
      "Increase the number of iterations (max_iter) or scale the data as shown in:\n",
      "    https://scikit-learn.org/stable/modules/preprocessing.html\n",
      "  self.n_iter_ = _check_optimize_result(\"lbfgs\", opt_res, self.max_iter)\n"
     ]
    }
   ],
   "source": [
    "kf = KFold(5)\n",
    "for train_index, val_index in kf.split(X_train):\n",
    "    kf_X_train, X_val = X_train[train_index], X_train[val_index]\n",
    "    kf_y_train, y_val = y_train.iloc[train_index], y_train.iloc[val_index]    \n",
    "    \n",
    "    MLP_model.fit(kf_X_train,kf_y_train)\n",
    "    y_val_pred = MLP_model.predict(X_val)\n",
    "    print(f\"Model loss: {MLP_model.loss_}\")\n",
    "    print(f\"The MAE is {mean_absolute_error(y_val,y_val_pred)}\")"
   ]
  },
  {
   "cell_type": "markdown",
   "id": "vietnamese-joint",
   "metadata": {},
   "source": [
    "---\n",
    "Using Neural Networks, directly on the embeddings."
   ]
  },
  {
   "cell_type": "code",
   "execution_count": 25,
   "id": "educated-packing",
   "metadata": {},
   "outputs": [],
   "source": [
    "# An input has to be of shape (3,1024), because we have 3 embedded vectors of size 1024.\n",
    "# combined array\n",
    "#full_arr = np.dstack((source_arr,refer_arr,trans_arr))\n",
    "\n",
    "# Option 2, make it size (1,2048), by concatenating the arrays. This is what we are using now, according to teacher's indications.\n",
    "full_arr_c = np.concatenate((refer_arr,trans_arr),axis=1)\n"
   ]
  },
  {
   "cell_type": "code",
   "execution_count": 26,
   "id": "confident-intensity",
   "metadata": {},
   "outputs": [],
   "source": [
    "X = full_arr_c.copy()\n",
    "y = df1[\"z-score\"].to_numpy()\n",
    "\n",
    "# Train test Split\n",
    "X_train, X_test, y_train, y_test = train_test_split(X, y, test_size=0.1, random_state=42)"
   ]
  },
  {
   "cell_type": "code",
   "execution_count": 27,
   "id": "representative-angola",
   "metadata": {},
   "outputs": [
    {
     "data": {
      "text/plain": [
       "(9198, 2048)"
      ]
     },
     "execution_count": 27,
     "metadata": {},
     "output_type": "execute_result"
    }
   ],
   "source": [
    "X_train.shape"
   ]
  },
  {
   "cell_type": "code",
   "execution_count": 28,
   "id": "instructional-grounds",
   "metadata": {},
   "outputs": [],
   "source": [
    "model = models.Sequential()\n",
    "\n",
    "model.add(layers.Dense(1024,activation=\"relu\",input_dim=X_train.shape[1]))\n",
    "model.add(layers.Dense(512,activation=\"relu\"))\n",
    "model.add(layers.Dropout(0.5))\n",
    "model.add(layers.Dense(128,activation=\"relu\"))\n",
    "model.add(layers.Dropout(0.25))\n",
    "model.add(layers.Dense(64,activation=\"relu\"))\n",
    "\n",
    "model.add(layers.Dense(1,activation=\"tanh\"))\n",
    "model.compile(optimizer=keras.optimizers.Adam(lr=0.002),loss=\"mse\",metrics=[\"mae\"])"
   ]
  },
  {
   "cell_type": "code",
   "execution_count": 29,
   "id": "civic-prince",
   "metadata": {},
   "outputs": [
    {
     "name": "stdout",
     "output_type": "stream",
     "text": [
      "Model: \"sequential_1\"\n",
      "_________________________________________________________________\n",
      "Layer (type)                 Output Shape              Param #   \n",
      "=================================================================\n",
      "dense_1 (Dense)              (None, 1024)              2098176   \n",
      "_________________________________________________________________\n",
      "dense_2 (Dense)              (None, 512)               524800    \n",
      "_________________________________________________________________\n",
      "dropout_1 (Dropout)          (None, 512)               0         \n",
      "_________________________________________________________________\n",
      "dense_3 (Dense)              (None, 128)               65664     \n",
      "_________________________________________________________________\n",
      "dropout_2 (Dropout)          (None, 128)               0         \n",
      "_________________________________________________________________\n",
      "dense_4 (Dense)              (None, 64)                8256      \n",
      "_________________________________________________________________\n",
      "dense_5 (Dense)              (None, 1)                 65        \n",
      "=================================================================\n",
      "Total params: 2,696,961\n",
      "Trainable params: 2,696,961\n",
      "Non-trainable params: 0\n",
      "_________________________________________________________________\n"
     ]
    }
   ],
   "source": [
    "model.summary()"
   ]
  },
  {
   "cell_type": "code",
   "execution_count": 30,
   "id": "sunset-shepherd",
   "metadata": {},
   "outputs": [
    {
     "data": {
      "text/plain": [
       "<keras.callbacks.callbacks.History at 0x1d7b96aec88>"
      ]
     },
     "execution_count": 30,
     "metadata": {},
     "output_type": "execute_result"
    }
   ],
   "source": [
    "# Fit. Batch Size < > Learning Rate\n",
    "\n",
    "model.fit(X_train,y_train,epochs=50,batch_size=64,verbose=0)"
   ]
  },
  {
   "cell_type": "code",
   "execution_count": 31,
   "id": "owned-amino",
   "metadata": {},
   "outputs": [
    {
     "name": "stdout",
     "output_type": "stream",
     "text": [
      "1023/1023 [==============================] - 0s 488us/step\n",
      "Test MSE: 0.8380.\n",
      "Test MAE: 0.6916.\n",
      "Pearson correlation between y_val_predicted and actual y_val: 0.3862\n"
     ]
    }
   ],
   "source": [
    "# Evaluation and comparison.\n",
    "test_mse,test_mae = model.evaluate(X_test,y_test)\n",
    "test_corr = np.corrcoef(model.predict(X_test).flatten(),y_test)[0][1]\n",
    "print(f\"Test MSE: {test_mse:.4f}.\\nTest MAE: {test_mae:.4f}.\")\n",
    "print(f\"Pearson correlation between y_val_predicted and actual y_val: {test_corr:.4f}\")"
   ]
  },
  {
   "cell_type": "code",
   "execution_count": 32,
   "id": "warming-roommate",
   "metadata": {},
   "outputs": [
    {
     "name": "stdout",
     "output_type": "stream",
     "text": [
      "Mean Absolute Error of cos_sim_ref_hyp in regards to the z-score: 0.7785663920526503\n",
      "Mean Absolute Error of cos_sim_src_ref in regards to the z-score: 0.9397270535360308\n",
      "Mean Absolute Error of cos_sim_src_hyp in regards to the z-score: 0.9254213676156057\n"
     ]
    }
   ],
   "source": [
    "# For reference, pt.2\n",
    "for col in cos_df.columns[:3]:\n",
    "    print(f\"Mean Absolute Error of {col} in regards to the z-score: {mean_absolute_error(cos_df[col],cos_df['z-score'])}\")"
   ]
  },
  {
   "cell_type": "code",
   "execution_count": 38,
   "id": "awful-patch",
   "metadata": {},
   "outputs": [
    {
     "name": "stdout",
     "output_type": "stream",
     "text": [
      "Pearson correlation of cos_sim\n",
      "cos_sim_ref_hyp    0.409383\n",
      "cos_sim_src_ref    0.170944\n",
      "cos_sim_src_hyp    0.224158\n",
      "z-score            1.000000\n",
      "Name: z-score, dtype: float64\n"
     ]
    }
   ],
   "source": [
    "print(\"Pearson correlation of cos_sim\")\n",
    "print(cos_df.corr().iloc[:,3])"
   ]
  },
  {
   "cell_type": "code",
   "execution_count": 39,
   "id": "covered-toilet",
   "metadata": {},
   "outputs": [
    {
     "name": "stdout",
     "output_type": "stream",
     "text": [
      "Kendall correlation of cos_sim\n",
      "cos_sim_ref_hyp    0.281366\n",
      "cos_sim_src_ref    0.100637\n",
      "cos_sim_src_hyp    0.124009\n",
      "z-score            1.000000\n",
      "Name: z-score, dtype: float64\n"
     ]
    }
   ],
   "source": [
    "print(\"Kendall correlation of cos_sim\")\n",
    "print(cos_df.corr(method=\"kendall\").iloc[:,3])"
   ]
  },
  {
   "cell_type": "code",
   "execution_count": 33,
   "id": "geographic-filing",
   "metadata": {},
   "outputs": [
    {
     "name": "stdout",
     "output_type": "stream",
     "text": [
      "Linear Model with the 3 cos_similarities, pearson: 0.4173818446793282\n",
      "Linear Model with the 3 cos_similarities, kendall: 0.2894802208478055\n",
      "Linear Model with the 2 (src_ref and src_hyp) cos_similarities, pearson: 0.23872130278013967\n",
      "Linear Model with the 2 (src_ref and src_hyp) cos_similarities, kendall: 0.15022675587311157\n"
     ]
    }
   ],
   "source": [
    "# Corr of linear models on cos_sim\n",
    "print(f\"Linear Model with the 3 cos_similarities, pearson: {lin_3_corr_p}\")\n",
    "print(f\"Linear Model with the 3 cos_similarities, kendall: {lin_3_corr_k}\")\n",
    "print(f\"Linear Model with the 2 (src_ref and src_hyp) cos_similarities, pearson: {lin_2_corr_p}\")\n",
    "print(f\"Linear Model with the 2 (src_ref and src_hyp) cos_similarities, kendall: {lin_2_corr_k}\")"
   ]
  },
  {
   "cell_type": "code",
   "execution_count": 34,
   "id": "linear-watershed",
   "metadata": {},
   "outputs": [],
   "source": [
    "# Save Model.\n",
    "model.save(\"en_zh_laser_model__testcorr_{:.4f}_MAE_{:.4f}_time{}.h5\".format(test_corr,test_mae,datetime.now().strftime('%d_%m_%H_%M')\n",
    "))"
   ]
  },
  {
   "cell_type": "code",
   "execution_count": null,
   "id": "spatial-explosion",
   "metadata": {},
   "outputs": [],
   "source": []
  },
  {
   "cell_type": "code",
   "execution_count": null,
   "id": "blank-charm",
   "metadata": {},
   "outputs": [],
   "source": []
  }
 ],
 "metadata": {
  "kernelspec": {
   "display_name": "Python 3",
   "language": "python",
   "name": "python3"
  },
  "language_info": {
   "codemirror_mode": {
    "name": "ipython",
    "version": 3
   },
   "file_extension": ".py",
   "mimetype": "text/x-python",
   "name": "python",
   "nbconvert_exporter": "python",
   "pygments_lexer": "ipython3",
   "version": "3.6.13"
  }
 },
 "nbformat": 4,
 "nbformat_minor": 5
}
