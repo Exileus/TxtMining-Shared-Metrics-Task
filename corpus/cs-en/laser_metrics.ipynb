{
 "cells": [
  {
   "cell_type": "markdown",
   "id": "removed-blake",
   "metadata": {},
   "source": [
    "### Implementation of LASER to the corpus\n",
    "### EN-FI"
   ]
  },
  {
   "cell_type": "code",
   "execution_count": 1,
   "id": "indonesian-henry",
   "metadata": {},
   "outputs": [
    {
     "name": "stderr",
     "output_type": "stream",
     "text": [
      "Using TensorFlow backend.\n"
     ]
    }
   ],
   "source": [
    "# Imports\n",
    "import numpy as np\n",
    "from scipy import spatial\n",
    "import pandas as pd\n",
    "from datetime import datetime\n",
    "\n",
    "from sklearn.linear_model import LinearRegression\n",
    "from sklearn.neural_network import MLPRegressor\n",
    "from sklearn.model_selection import train_test_split, KFold\n",
    "from sklearn.metrics import mean_absolute_error\n",
    "from sklearn.preprocessing import StandardScaler\n",
    "\n",
    "import keras\n",
    "from keras import models\n",
    "from keras import layers\n"
   ]
  },
  {
   "cell_type": "markdown",
   "id": "postal-glass",
   "metadata": {},
   "source": [
    "Load Dataset"
   ]
  },
  {
   "cell_type": "code",
   "execution_count": 2,
   "id": "thrown-reporter",
   "metadata": {},
   "outputs": [],
   "source": [
    "df1 = pd.read_csv(\"scores.csv\")"
   ]
  },
  {
   "cell_type": "code",
   "execution_count": 3,
   "id": "suffering-wallet",
   "metadata": {},
   "outputs": [
    {
     "name": "stdout",
     "output_type": "stream",
     "text": [
      "<class 'pandas.core.frame.DataFrame'>\n",
      "RangeIndex: 6748 entries, 0 to 6747\n",
      "Data columns (total 6 columns):\n",
      " #   Column       Non-Null Count  Dtype  \n",
      "---  ------       --------------  -----  \n",
      " 0   source       6748 non-null   object \n",
      " 1   reference    6748 non-null   object \n",
      " 2   translation  6748 non-null   object \n",
      " 3   z-score      6748 non-null   float64\n",
      " 4   avg-score    6748 non-null   float64\n",
      " 5   annotators   6748 non-null   int64  \n",
      "dtypes: float64(2), int64(1), object(3)\n",
      "memory usage: 316.4+ KB\n"
     ]
    }
   ],
   "source": [
    "df1.info()"
   ]
  },
  {
   "cell_type": "code",
   "execution_count": 4,
   "id": "dried-channels",
   "metadata": {},
   "outputs": [
    {
     "data": {
      "text/html": [
       "<div>\n",
       "<style scoped>\n",
       "    .dataframe tbody tr th:only-of-type {\n",
       "        vertical-align: middle;\n",
       "    }\n",
       "\n",
       "    .dataframe tbody tr th {\n",
       "        vertical-align: top;\n",
       "    }\n",
       "\n",
       "    .dataframe thead th {\n",
       "        text-align: right;\n",
       "    }\n",
       "</style>\n",
       "<table border=\"1\" class=\"dataframe\">\n",
       "  <thead>\n",
       "    <tr style=\"text-align: right;\">\n",
       "      <th></th>\n",
       "      <th>source</th>\n",
       "      <th>reference</th>\n",
       "      <th>translation</th>\n",
       "      <th>z-score</th>\n",
       "      <th>avg-score</th>\n",
       "      <th>annotators</th>\n",
       "    </tr>\n",
       "  </thead>\n",
       "  <tbody>\n",
       "    <tr>\n",
       "      <th>0</th>\n",
       "      <td>You can turn yourself into a pineapple, a dog ...</td>\n",
       "      <td>Voit muuttaa itsesi ananasta, koirasta tai Roy...</td>\n",
       "      <td>Voit muuttaa itsesi ananakseksi, koiraksi tai ...</td>\n",
       "      <td>-0.286195</td>\n",
       "      <td>34.20</td>\n",
       "      <td>5</td>\n",
       "    </tr>\n",
       "    <tr>\n",
       "      <th>1</th>\n",
       "      <td>Also shot were three men: two 29-year-olds and...</td>\n",
       "      <td>Myös ammuttiin kolme miestä: kaksi 29-vuotiait...</td>\n",
       "      <td>Myös kolmea miestä ammuttiin: kahta 29-vuotias...</td>\n",
       "      <td>0.547076</td>\n",
       "      <td>58.40</td>\n",
       "      <td>5</td>\n",
       "    </tr>\n",
       "    <tr>\n",
       "      <th>2</th>\n",
       "      <td>The information is stored at the cash register...</td>\n",
       "      <td>Tiedot tallennetaan kassakoneisiin joka tapauk...</td>\n",
       "      <td>Tiedot kuitenkin tallentuvat kassoilla joka ta...</td>\n",
       "      <td>1.122476</td>\n",
       "      <td>74.60</td>\n",
       "      <td>5</td>\n",
       "    </tr>\n",
       "    <tr>\n",
       "      <th>3</th>\n",
       "      <td>Xinhua says that there were traces of hydrochl...</td>\n",
       "      <td>Xinhua kertoo, että Xinyin näytteestä oli sunn...</td>\n",
       "      <td>Xinhua kertoo, että Xinyin sunnuntaina antamas...</td>\n",
       "      <td>0.383095</td>\n",
       "      <td>53.60</td>\n",
       "      <td>5</td>\n",
       "    </tr>\n",
       "    <tr>\n",
       "      <th>4</th>\n",
       "      <td>MacDonald, who was brought on board CBC's comm...</td>\n",
       "      <td>Voitaisiin kuulla CBD: n kommenttitiimin toimi...</td>\n",
       "      <td>MacDonaldin, joka tuli CBC:n selostajatiimiin ...</td>\n",
       "      <td>-0.493065</td>\n",
       "      <td>32.25</td>\n",
       "      <td>4</td>\n",
       "    </tr>\n",
       "  </tbody>\n",
       "</table>\n",
       "</div>"
      ],
      "text/plain": [
       "                                              source  \\\n",
       "0  You can turn yourself into a pineapple, a dog ...   \n",
       "1  Also shot were three men: two 29-year-olds and...   \n",
       "2  The information is stored at the cash register...   \n",
       "3  Xinhua says that there were traces of hydrochl...   \n",
       "4  MacDonald, who was brought on board CBC's comm...   \n",
       "\n",
       "                                           reference  \\\n",
       "0  Voit muuttaa itsesi ananasta, koirasta tai Roy...   \n",
       "1  Myös ammuttiin kolme miestä: kaksi 29-vuotiait...   \n",
       "2  Tiedot tallennetaan kassakoneisiin joka tapauk...   \n",
       "3  Xinhua kertoo, että Xinyin näytteestä oli sunn...   \n",
       "4  Voitaisiin kuulla CBD: n kommenttitiimin toimi...   \n",
       "\n",
       "                                         translation   z-score  avg-score  \\\n",
       "0  Voit muuttaa itsesi ananakseksi, koiraksi tai ... -0.286195      34.20   \n",
       "1  Myös kolmea miestä ammuttiin: kahta 29-vuotias...  0.547076      58.40   \n",
       "2  Tiedot kuitenkin tallentuvat kassoilla joka ta...  1.122476      74.60   \n",
       "3  Xinhua kertoo, että Xinyin sunnuntaina antamas...  0.383095      53.60   \n",
       "4  MacDonaldin, joka tuli CBC:n selostajatiimiin ... -0.493065      32.25   \n",
       "\n",
       "   annotators  \n",
       "0           5  \n",
       "1           5  \n",
       "2           5  \n",
       "3           5  \n",
       "4           4  "
      ]
     },
     "execution_count": 4,
     "metadata": {},
     "output_type": "execute_result"
    }
   ],
   "source": [
    "df1.head()"
   ]
  },
  {
   "cell_type": "markdown",
   "id": "central-bahrain",
   "metadata": {},
   "source": [
    "Comparison of LASER embeddings"
   ]
  },
  {
   "cell_type": "code",
   "execution_count": 5,
   "id": "completed-survivor",
   "metadata": {},
   "outputs": [],
   "source": [
    "source_arr = np.load(\"laser.source_embeds.npy\")\n",
    "refer_arr = np.load(\"laser.reference_embeds.npy\")\n",
    "trans_arr = np.load(\"laser.translation_embeds.npy\")"
   ]
  },
  {
   "cell_type": "markdown",
   "id": "intensive-ballot",
   "metadata": {},
   "source": [
    "Cosine Similarity"
   ]
  },
  {
   "cell_type": "code",
   "execution_count": 6,
   "id": "israeli-bridges",
   "metadata": {},
   "outputs": [],
   "source": [
    "cos_similarity_ref_hyp = []\n",
    "cos_similarity_src_ref = []\n",
    "cos_similarity_src_hyp = []\n",
    "\n",
    "# for each of the cos similarity, put them into lists.\n",
    "for i in range(refer_arr.shape[0]):\n",
    "    cos_similarity_ref_hyp.append((spatial.distance.cosine(refer_arr[i],trans_arr[i])*-1)+1)\n",
    "    cos_similarity_src_ref.append((spatial.distance.cosine(source_arr[i],refer_arr[i])*-1)+1)\n",
    "    cos_similarity_src_hyp.append((spatial.distance.cosine(source_arr[i],trans_arr[i])*-1)+1)\n",
    "\n",
    "\n",
    "# Standardize and transform into series.\n",
    "scaler = StandardScaler()\n",
    "cs_rh = pd.Series(scaler.fit_transform(np.array(cos_similarity_ref_hyp).reshape(-1,1)).flatten(),name=\"cos_sim_ref_hyp\")\n",
    "cs_sr = pd.Series(scaler.fit_transform(np.array(cos_similarity_src_ref).reshape(-1,1)).flatten(),name=\"cos_sim_src_ref\")\n",
    "cs_sh = pd.Series(scaler.fit_transform(np.array(cos_similarity_src_hyp).reshape(-1,1)).flatten(),name=\"cos_sim_src_hyp\")\n",
    "\n"
   ]
  },
  {
   "cell_type": "code",
   "execution_count": 7,
   "id": "caring-antarctica",
   "metadata": {},
   "outputs": [
    {
     "data": {
      "text/html": [
       "<div>\n",
       "<style scoped>\n",
       "    .dataframe tbody tr th:only-of-type {\n",
       "        vertical-align: middle;\n",
       "    }\n",
       "\n",
       "    .dataframe tbody tr th {\n",
       "        vertical-align: top;\n",
       "    }\n",
       "\n",
       "    .dataframe thead th {\n",
       "        text-align: right;\n",
       "    }\n",
       "</style>\n",
       "<table border=\"1\" class=\"dataframe\">\n",
       "  <thead>\n",
       "    <tr style=\"text-align: right;\">\n",
       "      <th></th>\n",
       "      <th>cos_sim_ref_hyp</th>\n",
       "      <th>cos_sim_src_ref</th>\n",
       "      <th>cos_sim_src_hyp</th>\n",
       "      <th>z-score</th>\n",
       "    </tr>\n",
       "  </thead>\n",
       "  <tbody>\n",
       "    <tr>\n",
       "      <th>0</th>\n",
       "      <td>0.477108</td>\n",
       "      <td>0.201864</td>\n",
       "      <td>0.526518</td>\n",
       "      <td>-0.286195</td>\n",
       "    </tr>\n",
       "    <tr>\n",
       "      <th>1</th>\n",
       "      <td>1.095012</td>\n",
       "      <td>0.719836</td>\n",
       "      <td>0.963557</td>\n",
       "      <td>0.547076</td>\n",
       "    </tr>\n",
       "    <tr>\n",
       "      <th>2</th>\n",
       "      <td>0.163880</td>\n",
       "      <td>0.209093</td>\n",
       "      <td>-1.019948</td>\n",
       "      <td>1.122476</td>\n",
       "    </tr>\n",
       "    <tr>\n",
       "      <th>3</th>\n",
       "      <td>0.608808</td>\n",
       "      <td>-0.279303</td>\n",
       "      <td>-0.384327</td>\n",
       "      <td>0.383095</td>\n",
       "    </tr>\n",
       "    <tr>\n",
       "      <th>4</th>\n",
       "      <td>-0.166370</td>\n",
       "      <td>0.129337</td>\n",
       "      <td>0.289500</td>\n",
       "      <td>-0.493065</td>\n",
       "    </tr>\n",
       "  </tbody>\n",
       "</table>\n",
       "</div>"
      ],
      "text/plain": [
       "   cos_sim_ref_hyp  cos_sim_src_ref  cos_sim_src_hyp   z-score\n",
       "0         0.477108         0.201864         0.526518 -0.286195\n",
       "1         1.095012         0.719836         0.963557  0.547076\n",
       "2         0.163880         0.209093        -1.019948  1.122476\n",
       "3         0.608808        -0.279303        -0.384327  0.383095\n",
       "4        -0.166370         0.129337         0.289500 -0.493065"
      ]
     },
     "execution_count": 7,
     "metadata": {},
     "output_type": "execute_result"
    }
   ],
   "source": [
    "cos_df = pd.concat([cs_rh,cs_sr,cs_sh,df1.loc[:,\"z-score\"]],axis=1)\n",
    "cos_df.head()"
   ]
  },
  {
   "cell_type": "code",
   "execution_count": 8,
   "id": "familiar-revision",
   "metadata": {
    "tags": []
   },
   "outputs": [
    {
     "name": "stdout",
     "output_type": "stream",
     "text": [
      "Pairwise Pearson\n"
     ]
    },
    {
     "data": {
      "text/html": [
       "<div>\n",
       "<style scoped>\n",
       "    .dataframe tbody tr th:only-of-type {\n",
       "        vertical-align: middle;\n",
       "    }\n",
       "\n",
       "    .dataframe tbody tr th {\n",
       "        vertical-align: top;\n",
       "    }\n",
       "\n",
       "    .dataframe thead th {\n",
       "        text-align: right;\n",
       "    }\n",
       "</style>\n",
       "<table border=\"1\" class=\"dataframe\">\n",
       "  <thead>\n",
       "    <tr style=\"text-align: right;\">\n",
       "      <th></th>\n",
       "      <th>cos_sim_ref_hyp</th>\n",
       "      <th>cos_sim_src_ref</th>\n",
       "      <th>cos_sim_src_hyp</th>\n",
       "      <th>z-score</th>\n",
       "    </tr>\n",
       "  </thead>\n",
       "  <tbody>\n",
       "    <tr>\n",
       "      <th>cos_sim_ref_hyp</th>\n",
       "      <td>1.000000</td>\n",
       "      <td>0.845841</td>\n",
       "      <td>0.424134</td>\n",
       "      <td>0.580044</td>\n",
       "    </tr>\n",
       "    <tr>\n",
       "      <th>cos_sim_src_ref</th>\n",
       "      <td>0.845841</td>\n",
       "      <td>1.000000</td>\n",
       "      <td>0.411307</td>\n",
       "      <td>0.473789</td>\n",
       "    </tr>\n",
       "    <tr>\n",
       "      <th>cos_sim_src_hyp</th>\n",
       "      <td>0.424134</td>\n",
       "      <td>0.411307</td>\n",
       "      <td>1.000000</td>\n",
       "      <td>0.120887</td>\n",
       "    </tr>\n",
       "    <tr>\n",
       "      <th>z-score</th>\n",
       "      <td>0.580044</td>\n",
       "      <td>0.473789</td>\n",
       "      <td>0.120887</td>\n",
       "      <td>1.000000</td>\n",
       "    </tr>\n",
       "  </tbody>\n",
       "</table>\n",
       "</div>"
      ],
      "text/plain": [
       "                 cos_sim_ref_hyp  cos_sim_src_ref  cos_sim_src_hyp   z-score\n",
       "cos_sim_ref_hyp         1.000000         0.845841         0.424134  0.580044\n",
       "cos_sim_src_ref         0.845841         1.000000         0.411307  0.473789\n",
       "cos_sim_src_hyp         0.424134         0.411307         1.000000  0.120887\n",
       "z-score                 0.580044         0.473789         0.120887  1.000000"
      ]
     },
     "execution_count": 8,
     "metadata": {},
     "output_type": "execute_result"
    }
   ],
   "source": [
    "# Pearson\n",
    "print(\"Pairwise Pearson\")\n",
    "cos_df.corr()"
   ]
  },
  {
   "cell_type": "code",
   "execution_count": 9,
   "id": "regular-constant",
   "metadata": {},
   "outputs": [
    {
     "name": "stdout",
     "output_type": "stream",
     "text": [
      "Pairwise Kendall\n"
     ]
    },
    {
     "data": {
      "text/html": [
       "<div>\n",
       "<style scoped>\n",
       "    .dataframe tbody tr th:only-of-type {\n",
       "        vertical-align: middle;\n",
       "    }\n",
       "\n",
       "    .dataframe tbody tr th {\n",
       "        vertical-align: top;\n",
       "    }\n",
       "\n",
       "    .dataframe thead th {\n",
       "        text-align: right;\n",
       "    }\n",
       "</style>\n",
       "<table border=\"1\" class=\"dataframe\">\n",
       "  <thead>\n",
       "    <tr style=\"text-align: right;\">\n",
       "      <th></th>\n",
       "      <th>cos_sim_ref_hyp</th>\n",
       "      <th>cos_sim_src_ref</th>\n",
       "      <th>cos_sim_src_hyp</th>\n",
       "      <th>z-score</th>\n",
       "    </tr>\n",
       "  </thead>\n",
       "  <tbody>\n",
       "    <tr>\n",
       "      <th>cos_sim_ref_hyp</th>\n",
       "      <td>1.000000</td>\n",
       "      <td>0.496232</td>\n",
       "      <td>0.426147</td>\n",
       "      <td>0.396893</td>\n",
       "    </tr>\n",
       "    <tr>\n",
       "      <th>cos_sim_src_ref</th>\n",
       "      <td>0.496232</td>\n",
       "      <td>1.000000</td>\n",
       "      <td>0.415437</td>\n",
       "      <td>0.285051</td>\n",
       "    </tr>\n",
       "    <tr>\n",
       "      <th>cos_sim_src_hyp</th>\n",
       "      <td>0.426147</td>\n",
       "      <td>0.415437</td>\n",
       "      <td>1.000000</td>\n",
       "      <td>0.090363</td>\n",
       "    </tr>\n",
       "    <tr>\n",
       "      <th>z-score</th>\n",
       "      <td>0.396893</td>\n",
       "      <td>0.285051</td>\n",
       "      <td>0.090363</td>\n",
       "      <td>1.000000</td>\n",
       "    </tr>\n",
       "  </tbody>\n",
       "</table>\n",
       "</div>"
      ],
      "text/plain": [
       "                 cos_sim_ref_hyp  cos_sim_src_ref  cos_sim_src_hyp   z-score\n",
       "cos_sim_ref_hyp         1.000000         0.496232         0.426147  0.396893\n",
       "cos_sim_src_ref         0.496232         1.000000         0.415437  0.285051\n",
       "cos_sim_src_hyp         0.426147         0.415437         1.000000  0.090363\n",
       "z-score                 0.396893         0.285051         0.090363  1.000000"
      ]
     },
     "execution_count": 9,
     "metadata": {},
     "output_type": "execute_result"
    }
   ],
   "source": [
    "# Kendall\n",
    "print(\"Pairwise Kendall\")\n",
    "cos_df.corr(method=\"kendall\")"
   ]
  },
  {
   "cell_type": "code",
   "execution_count": 10,
   "id": "bearing-plasma",
   "metadata": {},
   "outputs": [
    {
     "name": "stdout",
     "output_type": "stream",
     "text": [
      "Mean Absolute Error of cos_sim_ref_hyp in regards to the z-score: 0.6917964800619091\n",
      "Mean Absolute Error of cos_sim_src_ref in regards to the z-score: 0.7733002483540644\n",
      "Mean Absolute Error of cos_sim_src_hyp in regards to the z-score: 0.9760511145354878\n"
     ]
    }
   ],
   "source": [
    "# Mean Absolute Deviation of each of these.\n",
    "for col in cos_df.columns[:3]:\n",
    "    print(f\"Mean Absolute Error of {col} in regards to the z-score: {mean_absolute_error(cos_df[col],cos_df['z-score'])}\")"
   ]
  },
  {
   "cell_type": "markdown",
   "id": "widespread-elder",
   "metadata": {},
   "source": [
    "---\n",
    "Linear Regression <br>to try and predict avg score based on the cos similarity "
   ]
  },
  {
   "cell_type": "code",
   "execution_count": 11,
   "id": "cosmetic-insulation",
   "metadata": {},
   "outputs": [],
   "source": [
    "X = cos_df.drop(columns='z-score')\n",
    "y = cos_df['z-score']"
   ]
  },
  {
   "cell_type": "code",
   "execution_count": 12,
   "id": "precious-identity",
   "metadata": {},
   "outputs": [],
   "source": [
    "lin_model = LinearRegression()"
   ]
  },
  {
   "cell_type": "code",
   "execution_count": 13,
   "id": "fuzzy-resistance",
   "metadata": {},
   "outputs": [
    {
     "name": "stdout",
     "output_type": "stream",
     "text": [
      "0.6468149724838524\n",
      "0.5216359161669204\n",
      "0.5891346545590176\n",
      "0.5811340058834468\n",
      "0.5058610726747285\n",
      "0.6333172450476015\n",
      "0.6290470524901891\n",
      "0.6102779526848207\n",
      "0.604387008203543\n",
      "0.5502845073983063\n"
     ]
    }
   ],
   "source": [
    "kf = KFold(n_splits = 10)\n",
    "for train_index, test_index in kf.split(X):\n",
    "    X_train, X_val = X.iloc[train_index], X.iloc[test_index]\n",
    "    y_train, y_val = y.iloc[train_index], y.iloc[test_index]\n",
    "    \n",
    "    lin_model.fit(X_train,y_train)\n",
    "    y_pred = lin_model.predict(X_val)\n",
    "    lin_model_3_mae = mean_absolute_error(y_val,y_pred)\n",
    "    print(lin_model_3_mae)"
   ]
  },
  {
   "cell_type": "code",
   "execution_count": 14,
   "id": "dated-savage",
   "metadata": {},
   "outputs": [
    {
     "name": "stdout",
     "output_type": "stream",
     "text": [
      "[-0.12910357677916118, 0.6033789040394587, -0.03223887391205409, -0.12863824289315037]\n"
     ]
    }
   ],
   "source": [
    "lin_model_3_par = [lin_model.intercept_]\n",
    "lin_model_3_par.extend([coef for coef in lin_model.coef_])\n",
    "print(lin_model_3_par)"
   ]
  },
  {
   "cell_type": "code",
   "execution_count": 15,
   "id": "unsigned-bottle",
   "metadata": {},
   "outputs": [
    {
     "name": "stdout",
     "output_type": "stream",
     "text": [
      "0.5964671629760575 pearson\n",
      "0.4175936670826609 kendall\n"
     ]
    }
   ],
   "source": [
    "# Check the corr of this model. \n",
    "lin_3_pred = cos_df.apply(lambda x: lin_model_3_par[0] + lin_model_3_par[1]*x[0] + lin_model_3_par[2]*x[1] + lin_model_3_par[3]*x[2],axis=1)\n",
    "lin_3_corr_p = lin_3_pred.corr(df1[\"z-score\"], method=\"pearson\")\n",
    "lin_3_corr_k = lin_3_pred.corr(df1[\"z-score\"], method=\"kendall\")\n",
    "print(str(lin_3_corr_p)+\" pearson\")\n",
    "print(str(lin_3_corr_k)+\" kendall\")"
   ]
  },
  {
   "cell_type": "code",
   "execution_count": 16,
   "id": "portable-bread",
   "metadata": {},
   "outputs": [],
   "source": [
    "# A model with src_ref and src_hyp only. \n",
    "X = cos_df.drop(columns=['cos_sim_ref_hyp','z-score'])\n",
    "y = cos_df['z-score']"
   ]
  },
  {
   "cell_type": "code",
   "execution_count": 17,
   "id": "following-guide",
   "metadata": {},
   "outputs": [
    {
     "name": "stdout",
     "output_type": "stream",
     "text": [
      "0.7050738881793724\n",
      "0.555527514567338\n",
      "0.6281727759117081\n",
      "0.6279054469972988\n",
      "0.5632306713185548\n",
      "0.6283650135244989\n",
      "0.6881284006574842\n",
      "0.6807746537623373\n",
      "0.6675518484751372\n",
      "0.5884071146266736\n"
     ]
    }
   ],
   "source": [
    "kf = KFold(n_splits = 10)\n",
    "for train_index, test_index in kf.split(X):\n",
    "    X_train, X_val = X.iloc[train_index], X.iloc[test_index]\n",
    "    y_train, y_val = y.iloc[train_index], y.iloc[test_index]\n",
    "    \n",
    "    lin_model.fit(X_train,y_train)\n",
    "    y_pred = lin_model.predict(X_val)\n",
    "    print(mean_absolute_error(y_val,y_pred))"
   ]
  },
  {
   "cell_type": "code",
   "execution_count": 18,
   "id": "stupid-citizenship",
   "metadata": {},
   "outputs": [
    {
     "data": {
      "text/plain": [
       "array([-1.35867745e-01, -7.49542407e-01,  5.75584852e-02, -6.14337038e-01,\n",
       "        1.99056500e-01,  1.49862276e-01, -1.34404671e-01, -2.18168492e-01,\n",
       "       -2.74559980e-02, -1.37366406e+00, -5.86309862e-01,  5.38773912e-02,\n",
       "        3.47617470e-02, -4.16060472e-01, -1.73565166e-02, -5.23431664e-02,\n",
       "        7.05609163e-02,  2.15281024e-01,  5.12335711e-03,  2.33288897e-02,\n",
       "       -3.16280503e-01, -1.40422029e-01,  1.42377211e-01,  1.32901871e-01,\n",
       "       -1.26015190e-01,  2.22110656e-01, -3.66982295e-01,  1.02114820e-01,\n",
       "        6.25822506e-02, -5.92147077e-01,  2.82625365e-01,  1.99466035e-01,\n",
       "       -5.72518350e-02,  2.18319290e-01, -1.37853419e-01, -1.21254384e-01,\n",
       "        1.05134856e-01,  2.03434995e-02,  6.78040110e-02, -2.65909374e-01,\n",
       "       -1.99589275e-01, -1.75841720e-01,  1.88132933e-01,  6.00034354e-02,\n",
       "       -5.18864424e-01,  1.08209975e-01,  1.27406164e-01, -2.73179516e-02,\n",
       "        1.00146652e-01, -3.25212911e-01,  1.94734530e-01, -3.43042808e-01,\n",
       "        2.42561631e-01, -1.39095706e-01, -1.09708131e-01,  1.49400767e-01,\n",
       "        8.09663278e-02,  3.78290311e-02, -6.50510794e-03,  2.23836624e-01,\n",
       "        8.13010212e-03,  2.26972327e-01,  2.74346845e-02, -7.18536356e-02,\n",
       "       -1.29187864e-01,  1.73026574e-01,  9.52790799e-02,  2.50386520e-01,\n",
       "        1.29556592e-01,  7.87652011e-03,  3.98018213e-02,  3.51428686e-04,\n",
       "       -1.62615540e-01,  1.13534348e-01,  2.08232038e-01,  2.63465604e-01,\n",
       "       -1.75992521e-01, -3.93324631e-01,  3.46671010e-02,  1.22431600e-01,\n",
       "        9.32267469e-02,  1.76182072e-01,  2.22345474e-01,  6.02758564e-03,\n",
       "        1.37656758e-01,  5.90986443e-02, -3.20647398e-01,  3.44276073e-02,\n",
       "        2.64689083e-02, -2.31468482e-02,  1.83118954e-01, -1.97226051e-01,\n",
       "        2.73788129e-01, -1.25586938e-01,  2.09370953e-01,  5.30551443e-02,\n",
       "       -2.52455995e-02,  1.48265522e-01, -2.81984934e-02, -8.86132345e-01,\n",
       "       -1.35152485e-02,  2.06608797e-01, -2.58364556e-02,  8.12391844e-02,\n",
       "        3.29517956e-01,  2.38192467e-01,  1.69493914e-01, -1.42769048e-01,\n",
       "        1.54633555e-01,  1.56314783e-01,  1.55644110e-01,  1.66022306e-01,\n",
       "        8.14713246e-02, -5.75560436e-01,  1.97810783e-02,  1.84717079e-02,\n",
       "       -3.76706134e-02,  5.17295648e-02,  3.50879933e-02,  8.30704781e-02,\n",
       "        1.50694269e-01,  2.55961501e-01,  1.99246177e-01,  2.07475048e-01,\n",
       "       -5.92467337e-02,  1.50283408e-03,  3.19734259e-01, -9.19640904e-03,\n",
       "       -6.92275211e-02,  1.19960484e-01,  5.99593782e-02,  2.02701181e-01,\n",
       "       -1.97702144e-02,  6.79096045e-03,  1.94108655e-01,  3.78530126e-02,\n",
       "        1.43902896e-01, -2.57638920e-01,  3.19767085e-01,  1.97561615e-01,\n",
       "        3.75225534e-01, -1.71068814e-02, -6.73895671e-01,  8.80783179e-02,\n",
       "        2.36901746e-01, -3.07863609e-01, -1.81858072e-01,  3.87528193e-02,\n",
       "        1.03271724e-01, -3.13233041e-02,  6.68070955e-02,  2.59386293e-01,\n",
       "        9.79833664e-02,  1.00613229e-01, -5.73814521e-02,  2.50833684e-01,\n",
       "        2.57294395e-01,  1.10222757e-01, -3.82233864e-02, -5.22454736e-01,\n",
       "        9.68059580e-02,  1.90616725e-02,  8.93037418e-02,  1.61777484e-01,\n",
       "        3.70557462e-01, -2.35135727e-01,  2.58812394e-01, -4.91256521e-01,\n",
       "        9.71956054e-02, -1.04193284e-01,  9.02129996e-02, -1.72639324e-01,\n",
       "        2.05123292e-01, -2.13743551e-02, -3.21177683e-01, -3.74332570e-01,\n",
       "        3.09653685e-02, -2.10882744e-01, -1.22190474e-01, -8.19815827e-03,\n",
       "        1.21745532e-01, -5.47553214e-02, -7.35578223e-02,  9.28327219e-03,\n",
       "        8.72983060e-02,  1.01228258e-01,  1.98558095e-01,  1.53971654e-01,\n",
       "       -7.98178749e-02, -9.40469930e-02,  4.36340719e-02,  8.92247213e-02,\n",
       "        5.86873355e-01, -1.04529358e-01,  9.42753585e-02, -1.41490106e-01,\n",
       "        1.94691250e-01,  1.60780922e-01, -2.54539568e-01,  1.71632085e-01,\n",
       "        7.25400544e-02,  1.30573700e-01,  1.62921565e-01,  2.78461978e-01,\n",
       "        4.12870723e-02,  1.70281976e-01,  1.93841896e-02,  1.39508494e-02,\n",
       "        1.32295935e-01,  2.27648448e-01,  2.01847350e-01, -1.10328974e-01,\n",
       "        2.62755688e-01, -1.86405767e-01,  1.32084647e-01, -1.87817528e-01,\n",
       "        1.35254372e-01,  1.18839963e-01,  2.08568617e-01,  5.47813641e-02,\n",
       "       -2.52636536e-02,  2.17204690e-01,  2.51334460e-01, -2.23586610e-01,\n",
       "       -3.62805290e-02, -1.94044410e-01,  1.01750844e-01, -3.88158459e-02,\n",
       "        3.14274031e-02,  2.11989665e-01, -1.53394394e-01, -3.23105372e-01,\n",
       "        2.30412204e-01, -7.23155880e-02,  1.74843370e-01,  2.37167814e-01,\n",
       "        9.85768460e-02,  2.97574738e-01,  1.17047277e-01,  1.94336214e-02,\n",
       "       -1.88462012e-01,  2.66022327e-01,  8.88322994e-02,  1.64830781e-01,\n",
       "        6.08426874e-02,  1.30003023e-01,  4.30046952e-02, -2.77757361e-01,\n",
       "       -1.04370170e-01, -1.25038502e-01,  1.20166671e-01,  2.18817833e-02,\n",
       "        6.88361382e-02,  1.93427191e-01,  7.83317489e-02,  1.55838037e-01,\n",
       "        7.97453962e-02, -1.03863081e-03,  1.67097308e-01, -1.42454961e-01,\n",
       "        1.83585997e-01,  1.50732907e-01,  1.30966982e-02, -1.26418595e-01,\n",
       "        2.01717817e-01,  1.09205732e-01,  6.19735388e-02, -2.44671659e-02,\n",
       "        9.23577304e-02, -3.99128015e-02,  1.42590691e-01, -2.00833938e-03,\n",
       "       -1.01760582e-01,  2.02843714e-01, -2.50908783e-02,  1.49742918e-01,\n",
       "        1.14034666e-01,  3.07954536e-02, -1.05122288e-01,  1.02897324e-01,\n",
       "        1.37153653e-01,  1.40964895e-01,  2.90766010e-01, -8.45666530e-01,\n",
       "       -9.74482491e-02,  1.97172550e-01, -5.39145571e-02,  1.31960874e-01,\n",
       "        5.89877478e-02,  3.86736110e-02,  6.79941105e-02,  6.66816433e-02,\n",
       "       -4.30792254e-02, -8.59066061e-01,  2.00881305e-01,  2.40972264e-01,\n",
       "        8.54487385e-02, -2.88246129e-01,  1.58878204e-01,  4.29386556e-02,\n",
       "        1.86823135e-01,  6.23609667e-02, -8.22825809e-02,  9.42635955e-02,\n",
       "       -8.98959100e-02, -3.78684031e-02, -1.18240614e-01,  2.02930047e-01,\n",
       "       -1.62905712e-02, -4.15540863e-02,  1.10622193e-01,  1.76840206e-01,\n",
       "       -5.51929720e-01,  2.27245947e-01,  3.99824792e-01, -1.96541592e-01,\n",
       "       -4.53323692e-01,  1.08977380e-01,  9.75946969e-02, -2.93519223e-01,\n",
       "       -1.10315384e-01, -3.09161656e-01,  1.09652205e-01,  6.94369180e-02,\n",
       "        1.54917281e-02, -5.00557504e-02,  2.26300354e-01, -3.54833708e-02,\n",
       "        1.78138591e-01,  1.05134631e-01,  2.53051146e-01, -2.28195474e-01,\n",
       "        3.09103361e-01, -5.68001277e-01,  4.37356414e-02, -2.15818928e-01,\n",
       "       -1.67439632e-01,  1.02524156e-01, -1.45433885e-01,  1.28757454e-01,\n",
       "        1.07573436e-01,  1.55793788e-01,  2.47563922e-01,  1.54229678e-01,\n",
       "        1.79690216e-01,  6.92787265e-02,  1.10826916e-01,  2.08358790e-01,\n",
       "        9.07225834e-02,  2.05913810e-01,  2.03451210e-01, -3.24626358e-01,\n",
       "        2.62250554e-01, -2.20644915e-02,  1.72499185e-02, -3.89795250e-01,\n",
       "       -1.27391485e-03,  1.48206889e-01, -9.24393158e-02,  8.19079110e-02,\n",
       "        4.74852771e-02,  2.25358880e-02, -4.25452271e-01, -9.83522878e-02,\n",
       "        9.94397656e-02, -2.51289619e-01,  9.32320223e-02, -1.99752799e-02,\n",
       "        1.21105025e-01,  1.88257214e-01,  6.49212990e-02, -3.04523996e-01,\n",
       "        1.74411804e-01, -3.10850607e-01, -9.24330685e-02,  9.76372840e-02,\n",
       "        1.04597630e-01,  1.89535398e-01,  1.25249605e-01,  1.56645177e-01,\n",
       "        3.24614976e-01,  2.21251444e-01,  4.38105315e-02,  1.28945152e-01,\n",
       "       -5.29537948e-02,  6.73750649e-02,  1.48920085e-01,  6.34613454e-02,\n",
       "       -7.44631337e-01, -2.31945304e-01, -1.74403834e-01,  2.00043908e-01,\n",
       "        7.34415682e-02, -1.21267258e-01,  3.95698438e-02,  2.99933191e-02,\n",
       "       -5.33162607e-03,  1.51667020e-01,  1.90987821e-02,  9.13122952e-02,\n",
       "        1.39561727e-01,  5.56768695e-02,  1.22167257e-02,  2.01002646e-01,\n",
       "        1.10078803e-01,  2.15140331e-01,  2.20456721e-01,  1.78783175e-01,\n",
       "        2.09192584e-01, -2.33593826e-01,  9.15933698e-02, -6.75989847e-02,\n",
       "        1.71093386e-01,  2.39727375e-01,  1.16284857e-01, -1.89986688e-01,\n",
       "       -2.63278406e-02,  1.70440529e-03,  1.04661843e-02,  2.50223179e-01,\n",
       "       -2.11714049e-01,  2.22641283e-01, -3.17973861e-02,  2.48292803e-01,\n",
       "       -2.17724139e-02, -3.55714741e-01,  7.06679972e-02,  1.14057609e-01,\n",
       "        2.28106940e-01,  9.00375525e-02,  8.64931528e-02,  8.71673550e-02,\n",
       "        1.60449546e-01, -2.04366549e-01,  2.72324994e-01,  9.05182698e-02,\n",
       "       -1.01045823e+00,  1.45317786e-01,  2.72629452e-01, -1.25214609e-01,\n",
       "       -1.74904717e-01,  2.27768255e-02,  2.18673964e-01,  1.68576264e-01,\n",
       "       -1.39185206e-01, -6.79342939e-03,  1.82220096e-01, -3.50722714e-01,\n",
       "       -4.30036721e-02,  1.21898703e-01,  2.33154281e-02,  4.61324608e-02,\n",
       "       -6.21980647e-02, -8.20526031e-02,  2.07692318e-01,  2.16067602e-01,\n",
       "        1.17278713e-01,  1.54829244e-01,  9.11519341e-02, -1.26218363e-01,\n",
       "       -6.45135878e-03,  9.05646405e-02,  1.83945081e-01, -2.05437084e-01,\n",
       "        6.06359337e-02,  1.20519192e-01,  6.88494622e-02,  2.55001770e-02,\n",
       "        2.57205474e-01,  4.30154443e-02,  2.29175891e-01,  2.59902786e-01,\n",
       "       -1.07513740e-01,  2.52730021e-02, -1.56264837e-02, -1.80851762e-01,\n",
       "        1.82009461e-01, -1.53816035e-01, -7.17868996e-02,  5.14783542e-02,\n",
       "        7.17339064e-02, -5.64747765e-02, -3.87860301e-01, -2.18864047e-01,\n",
       "       -5.43116275e-01, -8.35086790e-02,  1.07279302e-01, -1.56482865e-01,\n",
       "       -2.56723232e-02, -1.70273150e-01, -2.29415236e-01,  2.21250016e-01,\n",
       "        9.53842243e-03, -1.14662311e-01,  2.38389263e-01,  1.05594993e-01,\n",
       "        7.98118747e-03,  1.26711853e-01, -1.22592283e-01,  6.06925466e-02,\n",
       "       -1.86570407e-01,  3.04830362e-01, -2.36734920e-01,  1.75193718e-01,\n",
       "        2.08930797e-01,  2.25662617e-01, -8.74711054e-01,  4.71294290e-02,\n",
       "        1.70945077e-01, -6.34908404e-01,  1.20038957e-01,  1.26337766e-03,\n",
       "        4.59258651e-03, -2.36026236e-01,  1.15330486e-01,  2.67337377e-01,\n",
       "        1.59453841e-01,  2.75916550e-01,  1.28516230e-01, -8.73477342e-02,\n",
       "       -1.67414580e-01, -1.67794517e-01,  1.03971242e-01,  1.22372112e-01,\n",
       "       -1.95396435e-01, -1.81271623e-02,  2.18274727e-01,  2.85081049e-01,\n",
       "        8.75779318e-02, -1.60865980e-01, -2.26587025e-02,  1.75803934e-01,\n",
       "        5.69775071e-02,  6.31957280e-02, -6.95196093e-01,  3.41752480e-01,\n",
       "       -1.00177245e-01,  7.09212049e-02,  1.26332230e-01,  1.41607275e-01,\n",
       "        1.92057905e-01,  1.75417321e-01, -2.42603216e-02,  7.13347791e-02,\n",
       "        1.00411204e-01,  1.78795465e-01,  2.15419247e-01,  7.00478759e-02,\n",
       "        1.97518011e-01,  1.76011892e-01, -7.98746768e-02, -4.47512672e-01,\n",
       "       -1.99268199e-01,  7.68877611e-03, -6.76598414e-02,  7.92919290e-02,\n",
       "       -1.85061979e-01,  4.08701002e-02,  1.48323501e-01, -3.22303821e-02,\n",
       "       -3.13941853e-01,  1.47578511e-01, -2.73060917e-01,  9.27463942e-03,\n",
       "        4.83202151e-02,  2.09371824e-01, -5.31741828e-02,  1.80321010e-01,\n",
       "        1.69806366e-01, -9.93197908e-02,  1.72607327e-01, -6.83208868e-02,\n",
       "        1.71953497e-01,  1.08601841e-01,  1.41165120e-01,  2.71295087e-01,\n",
       "        3.96401472e-01,  1.27594383e-01, -1.75711488e-01,  2.79692731e-02,\n",
       "       -1.23755596e-01, -3.95599946e-02, -4.15212336e-02,  4.92948485e-02,\n",
       "        2.19323800e-01,  7.68423960e-02,  2.68819365e-01, -1.85525889e-01,\n",
       "        7.50705984e-03, -2.07772231e-01,  1.76120424e-01, -1.09126607e-01,\n",
       "       -2.28417023e-01, -4.06423338e-02, -1.17880663e-01,  2.86474234e-02,\n",
       "        4.73807377e-03,  9.34273579e-02,  2.23657734e-01,  7.08313584e-02,\n",
       "        2.13174498e-01,  1.75231359e-01,  6.73021176e-03, -2.38681319e-01,\n",
       "       -4.40973790e-01, -3.92775551e-02, -3.15563507e-01,  1.88486540e-01,\n",
       "        1.81861662e-01, -1.84062687e-01,  6.36632106e-02,  1.23045458e-01,\n",
       "        2.43290179e-01, -2.32137899e-01,  1.19944961e-01,  3.45037733e-03,\n",
       "       -9.56491554e-02, -5.20429481e-02, -2.89089177e-03,  2.43550618e-01,\n",
       "        2.32753033e-02,  3.05677482e-02, -6.94121062e-01,  1.00672511e-01,\n",
       "        4.60497551e-02, -6.44010833e-02,  2.34206533e-01,  2.07636095e-01,\n",
       "        1.57752178e-01,  1.94495505e-01,  2.76250735e-01,  3.53641130e-02,\n",
       "       -6.14709715e-02, -3.08364411e-01,  1.98535948e-02, -2.85301310e-01,\n",
       "        8.11352731e-02,  8.89905706e-03,  1.11196573e-01,  3.16299483e-01,\n",
       "       -8.30502664e-02,  5.18916174e-02,  1.96202300e-01,  1.05209455e-01,\n",
       "        8.98401882e-02, -1.36844064e-01, -2.10860781e-01,  1.40843689e-01,\n",
       "        2.96154818e-01,  9.69347313e-02, -6.47772411e-02,  2.27772729e-02,\n",
       "        2.09650707e-01,  1.65409938e-01,  1.51240986e-01, -6.37236730e-02,\n",
       "       -1.63512452e-01,  6.51408301e-02,  1.97492036e-02, -3.49732456e-02,\n",
       "        1.61620815e-01,  1.32152174e-01,  1.29035374e-01,  1.98420050e-01,\n",
       "        2.17978865e-01,  1.98343861e-01,  2.18404448e-01,  1.15444131e-01,\n",
       "        2.20612095e-01,  2.66029431e-01,  1.56824312e-01, -3.12219660e-01,\n",
       "        6.34614855e-02,  2.33013712e-01])"
      ]
     },
     "execution_count": 18,
     "metadata": {},
     "output_type": "execute_result"
    }
   ],
   "source": [
    "y_pred"
   ]
  },
  {
   "cell_type": "code",
   "execution_count": 19,
   "id": "married-pressure",
   "metadata": {},
   "outputs": [
    {
     "name": "stdout",
     "output_type": "stream",
     "text": [
      "[-0.12420079734183924, 0.46567598768565377, -0.08263205778532721]\n"
     ]
    }
   ],
   "source": [
    "lin_model_2_par = [lin_model.intercept_]\n",
    "lin_model_2_par.extend([coef for coef in lin_model.coef_])\n",
    "print(lin_model_2_par)"
   ]
  },
  {
   "cell_type": "code",
   "execution_count": 20,
   "id": "superior-congress",
   "metadata": {},
   "outputs": [
    {
     "name": "stdout",
     "output_type": "stream",
     "text": [
      "0.579973394417236 pearson\n",
      "0.579973394417236 kendall\n"
     ]
    }
   ],
   "source": [
    "# Check the corr of this model. \n",
    "lin_2_pred = cos_df.apply(lambda x: lin_model_2_par[0] + lin_model_2_par[1]*x[0] + lin_model_2_par[2]*x[1],axis=1)\n",
    "lin_2_corr_p = lin_2_pred.corr(df1[\"z-score\"])\n",
    "lin_2_corr_k = lin_2_pred.corr(df1[\"z-score\"],method=\"kendall\")\n",
    "print(str(lin_2_corr_p)+\" pearson\")\n",
    "print(str(lin_2_corr_p)+\" kendall\")"
   ]
  },
  {
   "cell_type": "markdown",
   "id": "medium-pollution",
   "metadata": {},
   "source": [
    "---\n",
    "Using a Neural Network"
   ]
  },
  {
   "cell_type": "code",
   "execution_count": 21,
   "id": "checked-coalition",
   "metadata": {},
   "outputs": [],
   "source": [
    "MLP_model = MLPRegressor(hidden_layer_sizes=(2,2),max_iter=250,learning_rate_init=0.0015,solver=\"lbfgs\")"
   ]
  },
  {
   "cell_type": "code",
   "execution_count": 22,
   "id": "nutritional-twist",
   "metadata": {},
   "outputs": [],
   "source": [
    "# Train test Split\n",
    "X_train, X_test, y_train, y_test = train_test_split(X, y, test_size=0.1, random_state=42)"
   ]
  },
  {
   "cell_type": "code",
   "execution_count": 23,
   "id": "disabled-screening",
   "metadata": {},
   "outputs": [],
   "source": [
    "scaler = StandardScaler().fit(X_train)\n",
    "X_train = scaler.transform(X_train)\n",
    "X_test = scaler.transform(X_test)"
   ]
  },
  {
   "cell_type": "code",
   "execution_count": 24,
   "id": "finished-chance",
   "metadata": {},
   "outputs": [
    {
     "name": "stdout",
     "output_type": "stream",
     "text": [
      "Model loss: 0.29345538877037475\n",
      "The MAE is 0.6305805977262839\n",
      "Model loss: 0.3917660954954603\n",
      "The MAE is 0.7369247136040338\n",
      "Model loss: 0.28602705696677616\n",
      "The MAE is 0.6089573017716251\n",
      "Model loss: 0.291571739540215\n",
      "The MAE is 0.5898337554168828\n",
      "Model loss: 0.2972188243189721\n",
      "The MAE is 0.6101514771694931\n"
     ]
    }
   ],
   "source": [
    "kf = KFold(5)\n",
    "for train_index, val_index in kf.split(X_train):\n",
    "    kf_X_train, X_val = X_train[train_index], X_train[val_index]\n",
    "    kf_y_train, y_val = y_train.iloc[train_index], y_train.iloc[val_index]    \n",
    "    \n",
    "    MLP_model.fit(kf_X_train,kf_y_train)\n",
    "    y_val_pred = MLP_model.predict(X_val)\n",
    "    print(f\"Model loss: {MLP_model.loss_}\")\n",
    "    print(f\"The MAE is {mean_absolute_error(y_val,y_val_pred)}\")"
   ]
  },
  {
   "cell_type": "markdown",
   "id": "cognitive-married",
   "metadata": {},
   "source": [
    "---\n",
    "Using Neural Networks, directly on the embeddings."
   ]
  },
  {
   "cell_type": "code",
   "execution_count": 25,
   "id": "protecting-hormone",
   "metadata": {},
   "outputs": [],
   "source": [
    "# An input has to be of shape (3,1024), because we have 3 embedded vectors of size 1024.\n",
    "# combined array\n",
    "#full_arr = np.dstack((source_arr,refer_arr,trans_arr))\n",
    "\n",
    "# Option 2, make it size (1,2048), by concatenating the arrays. This is what we are using now, according to teacher's indications.\n",
    "full_arr_c = np.concatenate((refer_arr,trans_arr),axis=1)\n"
   ]
  },
  {
   "cell_type": "code",
   "execution_count": 26,
   "id": "charitable-roman",
   "metadata": {},
   "outputs": [],
   "source": [
    "X = full_arr_c.copy()\n",
    "y = df1[\"z-score\"].to_numpy()\n",
    "\n",
    "# Train test Split\n",
    "X_train, X_test, y_train, y_test = train_test_split(X, y, test_size=0.1, random_state=42)"
   ]
  },
  {
   "cell_type": "code",
   "execution_count": 27,
   "id": "little-tongue",
   "metadata": {},
   "outputs": [
    {
     "data": {
      "text/plain": [
       "(6073, 2048)"
      ]
     },
     "execution_count": 27,
     "metadata": {},
     "output_type": "execute_result"
    }
   ],
   "source": [
    "X_train.shape"
   ]
  },
  {
   "cell_type": "code",
   "execution_count": 28,
   "id": "complimentary-westminster",
   "metadata": {},
   "outputs": [],
   "source": [
    "model = models.Sequential()\n",
    "\n",
    "model.add(layers.Dense(1024,activation=\"relu\",input_dim=X_train.shape[1]))\n",
    "model.add(layers.Dense(512,activation=\"relu\"))\n",
    "model.add(layers.Dropout(0.5))\n",
    "model.add(layers.Dense(128,activation=\"relu\"))\n",
    "model.add(layers.Dropout(0.25))\n",
    "model.add(layers.Dense(64,activation=\"relu\"))\n",
    "\n",
    "model.add(layers.Dense(1,activation=\"tanh\"))\n",
    "model.compile(optimizer=keras.optimizers.Adam(lr=0.002),loss=\"mse\",metrics=[\"mae\"])"
   ]
  },
  {
   "cell_type": "code",
   "execution_count": 29,
   "id": "canadian-anthony",
   "metadata": {},
   "outputs": [
    {
     "name": "stdout",
     "output_type": "stream",
     "text": [
      "Model: \"sequential_1\"\n",
      "_________________________________________________________________\n",
      "Layer (type)                 Output Shape              Param #   \n",
      "=================================================================\n",
      "dense_1 (Dense)              (None, 1024)              2098176   \n",
      "_________________________________________________________________\n",
      "dense_2 (Dense)              (None, 512)               524800    \n",
      "_________________________________________________________________\n",
      "dropout_1 (Dropout)          (None, 512)               0         \n",
      "_________________________________________________________________\n",
      "dense_3 (Dense)              (None, 128)               65664     \n",
      "_________________________________________________________________\n",
      "dropout_2 (Dropout)          (None, 128)               0         \n",
      "_________________________________________________________________\n",
      "dense_4 (Dense)              (None, 64)                8256      \n",
      "_________________________________________________________________\n",
      "dense_5 (Dense)              (None, 1)                 65        \n",
      "=================================================================\n",
      "Total params: 2,696,961\n",
      "Trainable params: 2,696,961\n",
      "Non-trainable params: 0\n",
      "_________________________________________________________________\n"
     ]
    }
   ],
   "source": [
    "model.summary()"
   ]
  },
  {
   "cell_type": "code",
   "execution_count": 30,
   "id": "electric-sarah",
   "metadata": {},
   "outputs": [
    {
     "data": {
      "text/plain": [
       "<keras.callbacks.callbacks.History at 0x1ff85aa6b70>"
      ]
     },
     "execution_count": 30,
     "metadata": {},
     "output_type": "execute_result"
    }
   ],
   "source": [
    "# Fit. Batch Size < > Learning Rate\n",
    "\n",
    "model.fit(X_train,y_train,epochs=50,batch_size=64,verbose=0)"
   ]
  },
  {
   "cell_type": "code",
   "execution_count": 31,
   "id": "institutional-therapy",
   "metadata": {},
   "outputs": [
    {
     "name": "stdout",
     "output_type": "stream",
     "text": [
      "675/675 [==============================] - 0s 238us/step\n",
      "Test MSE: 0.6503.\n",
      "Test MAE: 0.6510.\n",
      "Pearson correlation between y_val_predicted and actual y_val: 0.5006\n"
     ]
    }
   ],
   "source": [
    "# Evaluation and comparison.\n",
    "test_mse,test_mae = model.evaluate(X_test,y_test)\n",
    "test_corr = np.corrcoef(model.predict(X_test).flatten(),y_test)[0][1]\n",
    "print(f\"Test MSE: {test_mse:.4f}.\\nTest MAE: {test_mae:.4f}.\")\n",
    "print(f\"Pearson correlation between y_val_predicted and actual y_val: {test_corr:.4f}\")"
   ]
  },
  {
   "cell_type": "code",
   "execution_count": 32,
   "id": "inclusive-spoke",
   "metadata": {},
   "outputs": [
    {
     "name": "stdout",
     "output_type": "stream",
     "text": [
      "Mean Absolute Error of cos_sim_ref_hyp in regards to the z-score: 0.6917964800619091\n",
      "Mean Absolute Error of cos_sim_src_ref in regards to the z-score: 0.7733002483540644\n",
      "Mean Absolute Error of cos_sim_src_hyp in regards to the z-score: 0.9760511145354878\n"
     ]
    }
   ],
   "source": [
    "# For reference, pt.2\n",
    "for col in cos_df.columns[:3]:\n",
    "    print(f\"Mean Absolute Error of {col} in regards to the z-score: {mean_absolute_error(cos_df[col],cos_df['z-score'])}\")"
   ]
  },
  {
   "cell_type": "code",
   "execution_count": 33,
   "id": "senior-contemporary",
   "metadata": {},
   "outputs": [
    {
     "name": "stdout",
     "output_type": "stream",
     "text": [
      "Pearson correlation of cos_sim\n",
      "cos_sim_ref_hyp    0.580044\n",
      "cos_sim_src_ref    0.473789\n",
      "cos_sim_src_hyp    0.120887\n",
      "z-score            1.000000\n",
      "Name: z-score, dtype: float64\n"
     ]
    }
   ],
   "source": [
    "print(\"Pearson correlation of cos_sim\")\n",
    "print(cos_df.corr().iloc[:,3])"
   ]
  },
  {
   "cell_type": "code",
   "execution_count": 34,
   "id": "cardiac-roommate",
   "metadata": {},
   "outputs": [
    {
     "name": "stdout",
     "output_type": "stream",
     "text": [
      "Kendall correlation of cos_sim\n",
      "cos_sim_ref_hyp    0.396893\n",
      "cos_sim_src_ref    0.285051\n",
      "cos_sim_src_hyp    0.090363\n",
      "z-score            1.000000\n",
      "Name: z-score, dtype: float64\n"
     ]
    }
   ],
   "source": [
    "print(\"Kendall correlation of cos_sim\")\n",
    "print(cos_df.corr(method=\"kendall\").iloc[:,3])"
   ]
  },
  {
   "cell_type": "code",
   "execution_count": 35,
   "id": "caroline-weapon",
   "metadata": {},
   "outputs": [
    {
     "name": "stdout",
     "output_type": "stream",
     "text": [
      "Linear Model with the 3 cos_similarities, pearson: 0.5964671629760575\n",
      "Linear Model with the 3 cos_similarities, kendall: 0.4175936670826609\n",
      "Linear Model with the 2 (src_ref and src_hyp) cos_similarities, pearson: 0.579973394417236\n",
      "Linear Model with the 2 (src_ref and src_hyp) cos_similarities, kendall: 0.3942370453509555\n"
     ]
    }
   ],
   "source": [
    "# Corr of linear models on cos_sim\n",
    "print(f\"Linear Model with the 3 cos_similarities, pearson: {lin_3_corr_p}\")\n",
    "print(f\"Linear Model with the 3 cos_similarities, kendall: {lin_3_corr_k}\")\n",
    "print(f\"Linear Model with the 2 (src_ref and src_hyp) cos_similarities, pearson: {lin_2_corr_p}\")\n",
    "print(f\"Linear Model with the 2 (src_ref and src_hyp) cos_similarities, kendall: {lin_2_corr_k}\")"
   ]
  },
  {
   "cell_type": "code",
   "execution_count": 36,
   "id": "thrown-keeping",
   "metadata": {},
   "outputs": [],
   "source": [
    "# Save Model.\n",
    "model.save(\"en_fi_laser_model__testcorr_{:.4f}_MAE_{:.4f}_time{}.h5\".format(test_corr,test_mae,datetime.now().strftime('%d_%m_%H_%M')\n",
    "))"
   ]
  },
  {
   "cell_type": "code",
   "execution_count": null,
   "id": "healthy-aruba",
   "metadata": {},
   "outputs": [],
   "source": []
  },
  {
   "cell_type": "code",
   "execution_count": null,
   "id": "short-constraint",
   "metadata": {},
   "outputs": [],
   "source": []
  }
 ],
 "metadata": {
  "kernelspec": {
   "display_name": "Python 3",
   "language": "python",
   "name": "python3"
  },
  "language_info": {
   "codemirror_mode": {
    "name": "ipython",
    "version": 3
   },
   "file_extension": ".py",
   "mimetype": "text/x-python",
   "name": "python",
   "nbconvert_exporter": "python",
   "pygments_lexer": "ipython3",
   "version": "3.6.13"
  }
 },
 "nbformat": 4,
 "nbformat_minor": 5
}
