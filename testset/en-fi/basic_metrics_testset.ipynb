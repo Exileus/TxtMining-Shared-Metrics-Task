{
 "cells": [
  {
   "cell_type": "markdown",
   "id": "postal-commons",
   "metadata": {},
   "source": [
    "# Text Mining Group Project\n",
    "## EN-FI Corpus"
   ]
  },
  {
   "cell_type": "markdown",
   "id": "express-klein",
   "metadata": {},
   "source": [
    "##### Notebook for the production of the test CSV."
   ]
  },
  {
   "cell_type": "markdown",
   "id": "bright-numbers",
   "metadata": {},
   "source": [
    "---"
   ]
  },
  {
   "cell_type": "code",
   "execution_count": 1,
   "id": "proved-reserve",
   "metadata": {},
   "outputs": [],
   "source": [
    "# Imports\n",
    "import pandas as pd\n",
    "import numpy as np\n",
    "from collections import Counter\n",
    "from rouge import Rouge\n",
    "import string\n",
    "from nltk.translate import chrf_score\n",
    "from nltk.tokenize import word_tokenize\n",
    "from sklearn.preprocessing import StandardScaler"
   ]
  },
  {
   "cell_type": "code",
   "execution_count": 2,
   "id": "large-tower",
   "metadata": {},
   "outputs": [],
   "source": [
    "# Choose the best metric here.\n",
    "best_metric = \"chrf_b1_n110\""
   ]
  },
  {
   "cell_type": "markdown",
   "id": "pharmaceutical-intelligence",
   "metadata": {},
   "source": [
    "Load Dataset"
   ]
  },
  {
   "cell_type": "code",
   "execution_count": 3,
   "id": "proved-compromise",
   "metadata": {},
   "outputs": [],
   "source": [
    "df1 = pd.read_csv(\"scores.csv\")"
   ]
  },
  {
   "cell_type": "code",
   "execution_count": 4,
   "id": "destroyed-crash",
   "metadata": {},
   "outputs": [
    {
     "name": "stdout",
     "output_type": "stream",
     "text": [
      "<class 'pandas.core.frame.DataFrame'>\n",
      "RangeIndex: 8097 entries, 0 to 8096\n",
      "Data columns (total 3 columns):\n",
      " #   Column       Non-Null Count  Dtype \n",
      "---  ------       --------------  ----- \n",
      " 0   source       8097 non-null   object\n",
      " 1   reference    8097 non-null   object\n",
      " 2   translation  8097 non-null   object\n",
      "dtypes: object(3)\n",
      "memory usage: 189.9+ KB\n"
     ]
    }
   ],
   "source": [
    "df1.info()"
   ]
  },
  {
   "cell_type": "code",
   "execution_count": 5,
   "id": "variable-tongue",
   "metadata": {},
   "outputs": [
    {
     "data": {
      "text/html": [
       "<div>\n",
       "<style scoped>\n",
       "    .dataframe tbody tr th:only-of-type {\n",
       "        vertical-align: middle;\n",
       "    }\n",
       "\n",
       "    .dataframe tbody tr th {\n",
       "        vertical-align: top;\n",
       "    }\n",
       "\n",
       "    .dataframe thead th {\n",
       "        text-align: right;\n",
       "    }\n",
       "</style>\n",
       "<table border=\"1\" class=\"dataframe\">\n",
       "  <thead>\n",
       "    <tr style=\"text-align: right;\">\n",
       "      <th></th>\n",
       "      <th>source</th>\n",
       "      <th>reference</th>\n",
       "      <th>translation</th>\n",
       "    </tr>\n",
       "  </thead>\n",
       "  <tbody>\n",
       "    <tr>\n",
       "      <th>0</th>\n",
       "      <td>One local resident who did not wish to be name...</td>\n",
       "      <td>Eräs paikallinen asukas, joka ei halunnut nime...</td>\n",
       "      <td>Toisen nimettömänä pysyttelevän asukkaan mukaa...</td>\n",
       "    </tr>\n",
       "    <tr>\n",
       "      <th>1</th>\n",
       "      <td>Still, she clings to a chant she's committed t...</td>\n",
       "      <td>Silti hän takertuu chant hän on sitoutunut mui...</td>\n",
       "      <td>Silti hän luottaa edelleen iskulauseeseen, jon...</td>\n",
       "    </tr>\n",
       "    <tr>\n",
       "      <th>2</th>\n",
       "      <td>I don't want to be asked, 'What were you doing...</td>\n",
       "      <td>En halua, että minulta kysytään: \"Mitä te teit...</td>\n",
       "      <td>En halua, että kenenkään tarvitsee kysyä minul...</td>\n",
       "    </tr>\n",
       "    <tr>\n",
       "      <th>3</th>\n",
       "      <td>\"I wouldn't say it was a lie – that's a pretty...</td>\n",
       "      <td>\"En sanoisi, että se oli valhe - se on aika ro...</td>\n",
       "      <td>En sanoisi, että se oli valhe, se on aika kova...</td>\n",
       "    </tr>\n",
       "    <tr>\n",
       "      <th>4</th>\n",
       "      <td>Kari Kola took part in the opening ceremony of...</td>\n",
       "      <td>Kari Kola osallistui valon vuoden avajaisiin v...</td>\n",
       "      <td>Kari Kola oli mukana Valon teemavuoden avajais...</td>\n",
       "    </tr>\n",
       "  </tbody>\n",
       "</table>\n",
       "</div>"
      ],
      "text/plain": [
       "                                              source  \\\n",
       "0  One local resident who did not wish to be name...   \n",
       "1  Still, she clings to a chant she's committed t...   \n",
       "2  I don't want to be asked, 'What were you doing...   \n",
       "3  \"I wouldn't say it was a lie – that's a pretty...   \n",
       "4  Kari Kola took part in the opening ceremony of...   \n",
       "\n",
       "                                           reference  \\\n",
       "0  Eräs paikallinen asukas, joka ei halunnut nime...   \n",
       "1  Silti hän takertuu chant hän on sitoutunut mui...   \n",
       "2  En halua, että minulta kysytään: \"Mitä te teit...   \n",
       "3  \"En sanoisi, että se oli valhe - se on aika ro...   \n",
       "4  Kari Kola osallistui valon vuoden avajaisiin v...   \n",
       "\n",
       "                                         translation  \n",
       "0  Toisen nimettömänä pysyttelevän asukkaan mukaa...  \n",
       "1  Silti hän luottaa edelleen iskulauseeseen, jon...  \n",
       "2  En halua, että kenenkään tarvitsee kysyä minul...  \n",
       "3  En sanoisi, että se oli valhe, se on aika kova...  \n",
       "4  Kari Kola oli mukana Valon teemavuoden avajais...  "
      ]
     },
     "execution_count": 5,
     "metadata": {},
     "output_type": "execute_result"
    }
   ],
   "source": [
    "df1.head()"
   ]
  },
  {
   "cell_type": "markdown",
   "id": "formal-mathematics",
   "metadata": {},
   "source": [
    "---\n",
    "### PreProcessing"
   ]
  },
  {
   "cell_type": "code",
   "execution_count": 6,
   "id": "hollow-cooper",
   "metadata": {},
   "outputs": [
    {
     "name": "stdout",
     "output_type": "stream",
     "text": [
      "source\n",
      "Bad idx: []\n",
      "reference\n",
      "Bad idx: []\n",
      "translation\n",
      "Bad idx: []\n"
     ]
    }
   ],
   "source": [
    "# Check for empty or sparse reference / translation, and drop them.\n",
    "for column in [\"source\",\"reference\",\"translation\"]:\n",
    "    print(column)\n",
    "    bad_idx = [idx for idx in np.where(df1[column].str.len()<=2)[0]]\n",
    "    if bad_idx != []:\n",
    "        print(df1.iloc[bad_idx])\n",
    "    print(f\"Bad idx: {bad_idx}\")\n",
    "#    df1 = df1.drop(index=bad_idx)"
   ]
  },
  {
   "cell_type": "code",
   "execution_count": 7,
   "id": "subject-pasta",
   "metadata": {},
   "outputs": [],
   "source": [
    "# Create two dataframes. One is unprocessed, the other is preprocessed to remove punctuation and be lowercased.\n",
    "df_u = df1.copy()\n",
    "df_p = df1.copy()\n",
    "\n",
    "for x in [\"source\",\"reference\",\"translation\"]:\n",
    "    # lowercase.\n",
    "    df_p[x] = df1[x].str.lower()\n",
    "    # Remove punct.\n",
    "    df_p[x] = df1[x].map(lambda s: s.translate(str.maketrans(\"\",\"\",string.punctuation))\n",
    "                           .lower()\n",
    "                          )\n",
    "    \n",
    "df_dict = {\"df_u\":df_u,\"df_p\":df_p}"
   ]
  },
  {
   "cell_type": "code",
   "execution_count": 8,
   "id": "rotary-joseph",
   "metadata": {},
   "outputs": [],
   "source": [
    "## Initialize a scaler for later.\n",
    "scaler = StandardScaler()"
   ]
  },
  {
   "cell_type": "markdown",
   "id": "skilled-motor",
   "metadata": {},
   "source": [
    "---\n",
    "### Metrics"
   ]
  },
  {
   "cell_type": "markdown",
   "id": "physical-shirt",
   "metadata": {},
   "source": [
    "--- \n",
    "Bleu Metric"
   ]
  },
  {
   "cell_type": "code",
   "execution_count": 9,
   "id": "norman-soldier",
   "metadata": {},
   "outputs": [],
   "source": [
    "def my_first_BLEU(reference,translation):\n",
    "    \"\"\"\n",
    "    Expects lists of strings for both reference and translation.\n",
    "    Returns the score \n",
    "    \"\"\"\n",
    "    \n",
    "    # Let word be every unique word in the translation.\n",
    "    # Can be done by setting up a Counter object.\n",
    "    t_c = Counter(word_tokenize(translation))\n",
    "    words = sorted(t_c)\n",
    "    \n",
    "    refs_c = Counter(word_tokenize(reference))\n",
    "    \n",
    "    # Let Covered be the minimum amt of times a word appears in the reference, compared to R(w).\n",
    "    # Let D(word) be how many times a unique word appears in the candidate translation.\n",
    "    # Let R(word) be the largest numer of times the word appears in any one reference.\n",
    "    \n",
    "    covered = 0\n",
    "    \n",
    "    for word in words:\n",
    "        covered += min(t_c[word],refs_c[word])\n",
    "\n",
    "    \n",
    "\n",
    "    # Let total be the number of words in translation.\n",
    "    total = sum(t_c.values())\n",
    "    \n",
    "    BLEU_score = covered / total\n",
    "    \n",
    "    return BLEU_score\n"
   ]
  },
  {
   "cell_type": "code",
   "execution_count": 10,
   "id": "copyrighted-former",
   "metadata": {},
   "outputs": [],
   "source": [
    "bleu_scores_list = [\"basic bleu\"]\n",
    "\n",
    "for df in list(df_dict.values()):\n",
    "    for key in bleu_scores_list:\n",
    "        # Apply the function to get a column of the scores.\n",
    "        df[(key+\" score\")] = df.apply(lambda row: my_first_BLEU(row[\"reference\"],row[\"translation\"]),axis=1)\n",
    "        # Also add a z score column.\n",
    "        df[(key+ \"_zscore\")] = scaler.fit_transform(df[(key+\" score\")].to_numpy().reshape(-1,1)).flatten()"
   ]
  },
  {
   "cell_type": "markdown",
   "id": "potential-truck",
   "metadata": {},
   "source": [
    "---\n",
    "Rouge metric as described in\n",
    "\n",
    "https://towardsdatascience.com/the-ultimate-performance-metric-in-nlp-111df6c64460\n",
    "\n",
    "And\n",
    "https://pypi.org/project/rouge-metric/"
   ]
  },
  {
   "cell_type": "code",
   "execution_count": 11,
   "id": "resident-singapore",
   "metadata": {},
   "outputs": [],
   "source": [
    "rouge = Rouge()"
   ]
  },
  {
   "cell_type": "code",
   "execution_count": 12,
   "id": "outside-killing",
   "metadata": {},
   "outputs": [
    {
     "data": {
      "text/plain": [
       "[{'rouge-1': {'f': 0.09999999505000023,\n",
       "   'p': 0.1111111111111111,\n",
       "   'r': 0.09090909090909091},\n",
       "  'rouge-2': {'f': 0.05263157400277054,\n",
       "   'p': 0.058823529411764705,\n",
       "   'r': 0.047619047619047616},\n",
       "  'rouge-l': {'f': 0.1025640975936886,\n",
       "   'p': 0.1111111111111111,\n",
       "   'r': 0.09523809523809523}}]"
      ]
     },
     "execution_count": 12,
     "metadata": {},
     "output_type": "execute_result"
    }
   ],
   "source": [
    "# Example Cell\n",
    "model_out = df1[\"translation\"][0]\n",
    "reference = df1[\"reference\"][0]\n",
    "# The get scores method returns three metrics, F1 score, p precision and recall r.\n",
    "# For each unigram,bigram and Longest sequence.\n",
    "rouge.get_scores(model_out,reference)"
   ]
  },
  {
   "cell_type": "code",
   "execution_count": 13,
   "id": "floral-manual",
   "metadata": {},
   "outputs": [],
   "source": [
    "# Get scores.\n",
    "# For every df considered;\n",
    "for df in list(df_dict.values()):\n",
    "    # For the entire model, model_out and reference need to be lists of strings.\n",
    "    model_out = df[\"translation\"].to_list()\n",
    "    reference = df[\"reference\"].to_list()\n",
    "    rouge_scores = rouge.get_scores(model_out,reference)\n",
    "    # For each of the scores calculated, output a new column in the df with the f1 scores.\n",
    "    for key in rouge_scores[0].keys():\n",
    "        df[(key+\" score\")] = pd.Series([score[key][\"f\"] for score in rouge_scores])\n",
    "        # Also add a z score column.\n",
    "        df[(key+ \"_zscore\")] = scaler.fit_transform(df[(key+\" score\")].to_numpy().reshape(-1,1)).flatten()"
   ]
  },
  {
   "cell_type": "markdown",
   "id": "vietnamese-combine",
   "metadata": {},
   "source": [
    "---\n",
    "#### chrF metric\n",
    "\n",
    "Check the paper here: https://www.aclweb.org/anthology/W15-3049.pdf\n",
    "\n",
    "The general formula for the CHRF score is:\n",
    "\n",
    "`CHRFBeta = (1 + Beta**2) * ((chrP * chrR) / (Beta**2*chrP + chrR))`\n",
    "\n",
    "where:\n",
    "* chrP is the percentage of n-grams in the hypothesis which have a counterpart in the reference.\n",
    "* chrR is the percentage of character n-grams in the reference which are also present in the hypothesis.\n",
    "* Beta is a parameter which assigns beta times more importance to recall than to precision (if beta == 1, they have the same importance)."
   ]
  },
  {
   "cell_type": "code",
   "execution_count": 14,
   "id": "reverse-turning",
   "metadata": {},
   "outputs": [
    {
     "data": {
      "text/html": [
       "<div>\n",
       "<style scoped>\n",
       "    .dataframe tbody tr th:only-of-type {\n",
       "        vertical-align: middle;\n",
       "    }\n",
       "\n",
       "    .dataframe tbody tr th {\n",
       "        vertical-align: top;\n",
       "    }\n",
       "\n",
       "    .dataframe thead th {\n",
       "        text-align: right;\n",
       "    }\n",
       "</style>\n",
       "<table border=\"1\" class=\"dataframe\">\n",
       "  <thead>\n",
       "    <tr style=\"text-align: right;\">\n",
       "      <th></th>\n",
       "      <th>chrf_b1_n16</th>\n",
       "      <th>chrf_b3_n16</th>\n",
       "      <th>chrf_b1_n110</th>\n",
       "      <th>chrf_b3_n110</th>\n",
       "      <th>chrf_b1_n26</th>\n",
       "      <th>chrf_b3_n26</th>\n",
       "      <th>chrf_b1_n210</th>\n",
       "      <th>chrf_b3_n210</th>\n",
       "    </tr>\n",
       "  </thead>\n",
       "  <tbody>\n",
       "    <tr>\n",
       "      <th>0</th>\n",
       "      <td>0.317356</td>\n",
       "      <td>0.294147</td>\n",
       "      <td>0.207913</td>\n",
       "      <td>0.192650</td>\n",
       "      <td>0.221429</td>\n",
       "      <td>0.205138</td>\n",
       "      <td>0.142460</td>\n",
       "      <td>0.131924</td>\n",
       "    </tr>\n",
       "    <tr>\n",
       "      <th>1</th>\n",
       "      <td>0.506854</td>\n",
       "      <td>0.481985</td>\n",
       "      <td>0.403381</td>\n",
       "      <td>0.383304</td>\n",
       "      <td>0.444014</td>\n",
       "      <td>0.422069</td>\n",
       "      <td>0.356973</td>\n",
       "      <td>0.339053</td>\n",
       "    </tr>\n",
       "    <tr>\n",
       "      <th>2</th>\n",
       "      <td>0.424447</td>\n",
       "      <td>0.455123</td>\n",
       "      <td>0.278711</td>\n",
       "      <td>0.298956</td>\n",
       "      <td>0.341532</td>\n",
       "      <td>0.366419</td>\n",
       "      <td>0.216454</td>\n",
       "      <td>0.232324</td>\n",
       "    </tr>\n",
       "    <tr>\n",
       "      <th>3</th>\n",
       "      <td>0.841195</td>\n",
       "      <td>0.824519</td>\n",
       "      <td>0.779825</td>\n",
       "      <td>0.763583</td>\n",
       "      <td>0.818958</td>\n",
       "      <td>0.802507</td>\n",
       "      <td>0.760652</td>\n",
       "      <td>0.744584</td>\n",
       "    </tr>\n",
       "    <tr>\n",
       "      <th>4</th>\n",
       "      <td>0.596405</td>\n",
       "      <td>0.685343</td>\n",
       "      <td>0.464651</td>\n",
       "      <td>0.535068</td>\n",
       "      <td>0.547381</td>\n",
       "      <td>0.629671</td>\n",
       "      <td>0.422775</td>\n",
       "      <td>0.487442</td>\n",
       "    </tr>\n",
       "    <tr>\n",
       "      <th>...</th>\n",
       "      <td>...</td>\n",
       "      <td>...</td>\n",
       "      <td>...</td>\n",
       "      <td>...</td>\n",
       "      <td>...</td>\n",
       "      <td>...</td>\n",
       "      <td>...</td>\n",
       "      <td>...</td>\n",
       "    </tr>\n",
       "    <tr>\n",
       "      <th>8092</th>\n",
       "      <td>0.474875</td>\n",
       "      <td>0.477859</td>\n",
       "      <td>0.371363</td>\n",
       "      <td>0.373721</td>\n",
       "      <td>0.409850</td>\n",
       "      <td>0.412441</td>\n",
       "      <td>0.323736</td>\n",
       "      <td>0.325806</td>\n",
       "    </tr>\n",
       "    <tr>\n",
       "      <th>8093</th>\n",
       "      <td>0.349700</td>\n",
       "      <td>0.352721</td>\n",
       "      <td>0.224179</td>\n",
       "      <td>0.226119</td>\n",
       "      <td>0.247299</td>\n",
       "      <td>0.249445</td>\n",
       "      <td>0.153343</td>\n",
       "      <td>0.154677</td>\n",
       "    </tr>\n",
       "    <tr>\n",
       "      <th>8094</th>\n",
       "      <td>0.730910</td>\n",
       "      <td>0.728619</td>\n",
       "      <td>0.635082</td>\n",
       "      <td>0.633066</td>\n",
       "      <td>0.693309</td>\n",
       "      <td>0.691125</td>\n",
       "      <td>0.603545</td>\n",
       "      <td>0.601619</td>\n",
       "    </tr>\n",
       "    <tr>\n",
       "      <th>8095</th>\n",
       "      <td>0.381664</td>\n",
       "      <td>0.399414</td>\n",
       "      <td>0.264957</td>\n",
       "      <td>0.277371</td>\n",
       "      <td>0.290908</td>\n",
       "      <td>0.304540</td>\n",
       "      <td>0.201570</td>\n",
       "      <td>0.211102</td>\n",
       "    </tr>\n",
       "    <tr>\n",
       "      <th>8096</th>\n",
       "      <td>0.240692</td>\n",
       "      <td>0.183853</td>\n",
       "      <td>0.155460</td>\n",
       "      <td>0.118562</td>\n",
       "      <td>0.170798</td>\n",
       "      <td>0.129944</td>\n",
       "      <td>0.107160</td>\n",
       "      <td>0.081358</td>\n",
       "    </tr>\n",
       "  </tbody>\n",
       "</table>\n",
       "<p>8097 rows × 8 columns</p>\n",
       "</div>"
      ],
      "text/plain": [
       "      chrf_b1_n16  chrf_b3_n16  chrf_b1_n110  chrf_b3_n110  chrf_b1_n26  \\\n",
       "0        0.317356     0.294147      0.207913      0.192650     0.221429   \n",
       "1        0.506854     0.481985      0.403381      0.383304     0.444014   \n",
       "2        0.424447     0.455123      0.278711      0.298956     0.341532   \n",
       "3        0.841195     0.824519      0.779825      0.763583     0.818958   \n",
       "4        0.596405     0.685343      0.464651      0.535068     0.547381   \n",
       "...           ...          ...           ...           ...          ...   \n",
       "8092     0.474875     0.477859      0.371363      0.373721     0.409850   \n",
       "8093     0.349700     0.352721      0.224179      0.226119     0.247299   \n",
       "8094     0.730910     0.728619      0.635082      0.633066     0.693309   \n",
       "8095     0.381664     0.399414      0.264957      0.277371     0.290908   \n",
       "8096     0.240692     0.183853      0.155460      0.118562     0.170798   \n",
       "\n",
       "      chrf_b3_n26  chrf_b1_n210  chrf_b3_n210  \n",
       "0        0.205138      0.142460      0.131924  \n",
       "1        0.422069      0.356973      0.339053  \n",
       "2        0.366419      0.216454      0.232324  \n",
       "3        0.802507      0.760652      0.744584  \n",
       "4        0.629671      0.422775      0.487442  \n",
       "...           ...           ...           ...  \n",
       "8092     0.412441      0.323736      0.325806  \n",
       "8093     0.249445      0.153343      0.154677  \n",
       "8094     0.691125      0.603545      0.601619  \n",
       "8095     0.304540      0.201570      0.211102  \n",
       "8096     0.129944      0.107160      0.081358  \n",
       "\n",
       "[8097 rows x 8 columns]"
      ]
     },
     "execution_count": 14,
     "metadata": {},
     "output_type": "execute_result"
    }
   ],
   "source": [
    "# The default n-gram values are min == 1, max == 6. \n",
    "# The default beta is 3.\n",
    "\n",
    "# Moreover, it is worthwhile to mention chrf uses its own tokenization with whitespaces.\n",
    "# Note: this takes a few minutes to run.\n",
    "min_len = [1,2]\n",
    "max_len = [6,10]\n",
    "beta = [1,3]\n",
    "\n",
    "for df in list(df_dict.values()):\n",
    "    chrf_scores=[]\n",
    "    for min_l in min_len:\n",
    "        for max_l in max_len:\n",
    "            for b in beta:\n",
    "                append_str = \"chrf_b\" + str(b) + \"_n\" + str(min_l) + str(max_l)\n",
    "                chrf_scores.append(append_str)\n",
    "                df[append_str] = df.apply(lambda row: chrf_score.sentence_chrf(row[\"reference\"],row[\"translation\"],min_len=min_l,max_len=max_l,beta=b),axis=1)\n",
    "                # Also add a z score column.\n",
    "                df[(append_str+ \"_zscore\")] = scaler.fit_transform(df[append_str].to_numpy().reshape(-1,1)).flatten()\n",
    "\n",
    "df_p.loc[:,chrf_scores]"
   ]
  },
  {
   "cell_type": "markdown",
   "id": "covered-orleans",
   "metadata": {},
   "source": [
    "---\n",
    "### Producing the testset CSV\n",
    "Given the produced scores, choose the ones to apply to the CSV."
   ]
  },
  {
   "cell_type": "code",
   "execution_count": 15,
   "id": "endless-silence",
   "metadata": {},
   "outputs": [],
   "source": [
    "# We can use either the zscore or the non-standardized scores. \n",
    "# Also note either df_u or df_p choice.\n",
    "df1[\"metric\"]=df_u[best_metric+\"_zscore\"]"
   ]
  },
  {
   "cell_type": "code",
   "execution_count": 16,
   "id": "worthy-liechtenstein",
   "metadata": {},
   "outputs": [
    {
     "data": {
      "text/html": [
       "<div>\n",
       "<style scoped>\n",
       "    .dataframe tbody tr th:only-of-type {\n",
       "        vertical-align: middle;\n",
       "    }\n",
       "\n",
       "    .dataframe tbody tr th {\n",
       "        vertical-align: top;\n",
       "    }\n",
       "\n",
       "    .dataframe thead th {\n",
       "        text-align: right;\n",
       "    }\n",
       "</style>\n",
       "<table border=\"1\" class=\"dataframe\">\n",
       "  <thead>\n",
       "    <tr style=\"text-align: right;\">\n",
       "      <th></th>\n",
       "      <th>source</th>\n",
       "      <th>reference</th>\n",
       "      <th>translation</th>\n",
       "      <th>metric</th>\n",
       "    </tr>\n",
       "  </thead>\n",
       "  <tbody>\n",
       "    <tr>\n",
       "      <th>0</th>\n",
       "      <td>One local resident who did not wish to be name...</td>\n",
       "      <td>Eräs paikallinen asukas, joka ei halunnut nime...</td>\n",
       "      <td>Toisen nimettömänä pysyttelevän asukkaan mukaa...</td>\n",
       "      <td>-1.111693</td>\n",
       "    </tr>\n",
       "    <tr>\n",
       "      <th>1</th>\n",
       "      <td>Still, she clings to a chant she's committed t...</td>\n",
       "      <td>Silti hän takertuu chant hän on sitoutunut mui...</td>\n",
       "      <td>Silti hän luottaa edelleen iskulauseeseen, jon...</td>\n",
       "      <td>0.159216</td>\n",
       "    </tr>\n",
       "    <tr>\n",
       "      <th>2</th>\n",
       "      <td>I don't want to be asked, 'What were you doing...</td>\n",
       "      <td>En halua, että minulta kysytään: \"Mitä te teit...</td>\n",
       "      <td>En halua, että kenenkään tarvitsee kysyä minul...</td>\n",
       "      <td>-0.623668</td>\n",
       "    </tr>\n",
       "    <tr>\n",
       "      <th>3</th>\n",
       "      <td>\"I wouldn't say it was a lie – that's a pretty...</td>\n",
       "      <td>\"En sanoisi, että se oli valhe - se on aika ro...</td>\n",
       "      <td>En sanoisi, että se oli valhe, se on aika kova...</td>\n",
       "      <td>1.807800</td>\n",
       "    </tr>\n",
       "    <tr>\n",
       "      <th>4</th>\n",
       "      <td>Kari Kola took part in the opening ceremony of...</td>\n",
       "      <td>Kari Kola osallistui valon vuoden avajaisiin v...</td>\n",
       "      <td>Kari Kola oli mukana Valon teemavuoden avajais...</td>\n",
       "      <td>0.599592</td>\n",
       "    </tr>\n",
       "  </tbody>\n",
       "</table>\n",
       "</div>"
      ],
      "text/plain": [
       "                                              source  \\\n",
       "0  One local resident who did not wish to be name...   \n",
       "1  Still, she clings to a chant she's committed t...   \n",
       "2  I don't want to be asked, 'What were you doing...   \n",
       "3  \"I wouldn't say it was a lie – that's a pretty...   \n",
       "4  Kari Kola took part in the opening ceremony of...   \n",
       "\n",
       "                                           reference  \\\n",
       "0  Eräs paikallinen asukas, joka ei halunnut nime...   \n",
       "1  Silti hän takertuu chant hän on sitoutunut mui...   \n",
       "2  En halua, että minulta kysytään: \"Mitä te teit...   \n",
       "3  \"En sanoisi, että se oli valhe - se on aika ro...   \n",
       "4  Kari Kola osallistui valon vuoden avajaisiin v...   \n",
       "\n",
       "                                         translation    metric  \n",
       "0  Toisen nimettömänä pysyttelevän asukkaan mukaa... -1.111693  \n",
       "1  Silti hän luottaa edelleen iskulauseeseen, jon...  0.159216  \n",
       "2  En halua, että kenenkään tarvitsee kysyä minul... -0.623668  \n",
       "3  En sanoisi, että se oli valhe, se on aika kova...  1.807800  \n",
       "4  Kari Kola oli mukana Valon teemavuoden avajais...  0.599592  "
      ]
     },
     "execution_count": 16,
     "metadata": {},
     "output_type": "execute_result"
    }
   ],
   "source": [
    "df1.head()"
   ]
  },
  {
   "cell_type": "code",
   "execution_count": 17,
   "id": "bulgarian-viewer",
   "metadata": {},
   "outputs": [],
   "source": [
    "df1.to_csv(\"scores.csv\",index=False)"
   ]
  },
  {
   "cell_type": "code",
   "execution_count": null,
   "id": "herbal-bedroom",
   "metadata": {},
   "outputs": [],
   "source": []
  }
 ],
 "metadata": {
  "kernelspec": {
   "display_name": "Python 3",
   "language": "python",
   "name": "python3"
  },
  "language_info": {
   "codemirror_mode": {
    "name": "ipython",
    "version": 3
   },
   "file_extension": ".py",
   "mimetype": "text/x-python",
   "name": "python",
   "nbconvert_exporter": "python",
   "pygments_lexer": "ipython3",
   "version": "3.6.13"
  }
 },
 "nbformat": 4,
 "nbformat_minor": 5
}
