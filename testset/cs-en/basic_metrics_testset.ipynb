{
 "cells": [
  {
   "cell_type": "markdown",
   "id": "special-gateway",
   "metadata": {},
   "source": [
    "# Text Mining Group Project\n",
    "## CS-EN Corpus"
   ]
  },
  {
   "cell_type": "markdown",
   "id": "contrary-nebraska",
   "metadata": {},
   "source": [
    "##### Notebook for the production of the test CSV."
   ]
  },
  {
   "cell_type": "markdown",
   "id": "angry-allocation",
   "metadata": {},
   "source": [
    "---"
   ]
  },
  {
   "cell_type": "code",
   "execution_count": 1,
   "id": "large-mediterranean",
   "metadata": {},
   "outputs": [],
   "source": [
    "# Imports\n",
    "import pandas as pd\n",
    "import numpy as np\n",
    "from collections import Counter\n",
    "from rouge import Rouge\n",
    "import string\n",
    "from nltk.translate import chrf_score\n",
    "from nltk.tokenize import word_tokenize\n",
    "from sklearn.preprocessing import StandardScaler"
   ]
  },
  {
   "cell_type": "code",
   "execution_count": 2,
   "id": "czech-defendant",
   "metadata": {},
   "outputs": [],
   "source": [
    "# Choose the best metric here.\n",
    "best_metric = \"chrf_b3_n210\""
   ]
  },
  {
   "cell_type": "markdown",
   "id": "global-limitation",
   "metadata": {},
   "source": [
    "Load Dataset"
   ]
  },
  {
   "cell_type": "code",
   "execution_count": 3,
   "id": "willing-concentrate",
   "metadata": {},
   "outputs": [],
   "source": [
    "df1 = pd.read_csv(\"scores.csv\")"
   ]
  },
  {
   "cell_type": "code",
   "execution_count": 4,
   "id": "gentle-batman",
   "metadata": {},
   "outputs": [
    {
     "name": "stdout",
     "output_type": "stream",
     "text": [
      "<class 'pandas.core.frame.DataFrame'>\n",
      "RangeIndex: 8732 entries, 0 to 8731\n",
      "Data columns (total 3 columns):\n",
      " #   Column       Non-Null Count  Dtype \n",
      "---  ------       --------------  ----- \n",
      " 0   source       8732 non-null   object\n",
      " 1   reference    8732 non-null   object\n",
      " 2   translation  8732 non-null   object\n",
      "dtypes: object(3)\n",
      "memory usage: 204.8+ KB\n"
     ]
    }
   ],
   "source": [
    "df1.info()"
   ]
  },
  {
   "cell_type": "code",
   "execution_count": 5,
   "id": "arctic-verification",
   "metadata": {},
   "outputs": [
    {
     "data": {
      "text/html": [
       "<div>\n",
       "<style scoped>\n",
       "    .dataframe tbody tr th:only-of-type {\n",
       "        vertical-align: middle;\n",
       "    }\n",
       "\n",
       "    .dataframe tbody tr th {\n",
       "        vertical-align: top;\n",
       "    }\n",
       "\n",
       "    .dataframe thead th {\n",
       "        text-align: right;\n",
       "    }\n",
       "</style>\n",
       "<table border=\"1\" class=\"dataframe\">\n",
       "  <thead>\n",
       "    <tr style=\"text-align: right;\">\n",
       "      <th></th>\n",
       "      <th>source</th>\n",
       "      <th>reference</th>\n",
       "      <th>translation</th>\n",
       "    </tr>\n",
       "  </thead>\n",
       "  <tbody>\n",
       "    <tr>\n",
       "      <th>0</th>\n",
       "      <td>Památník, důstojné pietní místo, stojí vůlí dě...</td>\n",
       "      <td>The monument, a dignified piecemeal place, sta...</td>\n",
       "      <td>The memorial, a solemn place of commemoration,...</td>\n",
       "    </tr>\n",
       "    <tr>\n",
       "      <th>1</th>\n",
       "      <td>Pracovník centra Čang Č-čung sdělil agentuře N...</td>\n",
       "      <td>Centre worker Zhang Zu-chung told the New Chin...</td>\n",
       "      <td>Centre worker Chang Chi-Chung told New China t...</td>\n",
       "    </tr>\n",
       "    <tr>\n",
       "      <th>2</th>\n",
       "      <td>Veterináři nicméně odeberou namátkové vzorky v...</td>\n",
       "      <td>However, veterinarians take random samples of ...</td>\n",
       "      <td>However, veterinarians are taking samples of e...</td>\n",
       "    </tr>\n",
       "    <tr>\n",
       "      <th>3</th>\n",
       "      <td>Uživatel @TheePharoah jí neustále retweetoval ...</td>\n",
       "      <td>User @ TheePharoah constantly retweeted her po...</td>\n",
       "      <td>A user with the handle @TheePharoah was being ...</td>\n",
       "    </tr>\n",
       "    <tr>\n",
       "      <th>4</th>\n",
       "      <td>Lucii bylo tehdy pouhých 19 let a rozhodně net...</td>\n",
       "      <td>Lucia was only 19 at the time and certainly ha...</td>\n",
       "      <td>At that time, Lucie was only 19 years old, and...</td>\n",
       "    </tr>\n",
       "  </tbody>\n",
       "</table>\n",
       "</div>"
      ],
      "text/plain": [
       "                                              source  \\\n",
       "0  Památník, důstojné pietní místo, stojí vůlí dě...   \n",
       "1  Pracovník centra Čang Č-čung sdělil agentuře N...   \n",
       "2  Veterináři nicméně odeberou namátkové vzorky v...   \n",
       "3  Uživatel @TheePharoah jí neustále retweetoval ...   \n",
       "4  Lucii bylo tehdy pouhých 19 let a rozhodně net...   \n",
       "\n",
       "                                           reference  \\\n",
       "0  The monument, a dignified piecemeal place, sta...   \n",
       "1  Centre worker Zhang Zu-chung told the New Chin...   \n",
       "2  However, veterinarians take random samples of ...   \n",
       "3  User @ TheePharoah constantly retweeted her po...   \n",
       "4  Lucia was only 19 at the time and certainly ha...   \n",
       "\n",
       "                                         translation  \n",
       "0  The memorial, a solemn place of commemoration,...  \n",
       "1  Centre worker Chang Chi-Chung told New China t...  \n",
       "2  However, veterinarians are taking samples of e...  \n",
       "3  A user with the handle @TheePharoah was being ...  \n",
       "4  At that time, Lucie was only 19 years old, and...  "
      ]
     },
     "execution_count": 5,
     "metadata": {},
     "output_type": "execute_result"
    }
   ],
   "source": [
    "df1.head()"
   ]
  },
  {
   "cell_type": "markdown",
   "id": "israeli-cream",
   "metadata": {},
   "source": [
    "---\n",
    "### PreProcessing"
   ]
  },
  {
   "cell_type": "code",
   "execution_count": 6,
   "id": "entire-valuable",
   "metadata": {},
   "outputs": [
    {
     "name": "stdout",
     "output_type": "stream",
     "text": [
      "source\n",
      "Bad idx: []\n",
      "reference\n",
      "Bad idx: []\n",
      "translation\n",
      "Bad idx: []\n"
     ]
    }
   ],
   "source": [
    "# Check for empty or sparse reference / translation, and drop them.\n",
    "for column in [\"source\",\"reference\",\"translation\"]:\n",
    "    print(column)\n",
    "    bad_idx = [idx for idx in np.where(df1[column].str.len()<=2)[0]]\n",
    "    if bad_idx != []:\n",
    "        print(df1.iloc[bad_idx])\n",
    "    print(f\"Bad idx: {bad_idx}\")\n",
    "#    df1 = df1.drop(index=bad_idx)"
   ]
  },
  {
   "cell_type": "code",
   "execution_count": 7,
   "id": "worthy-count",
   "metadata": {},
   "outputs": [],
   "source": [
    "# Create two dataframes. One is unprocessed, the other is preprocessed to remove punctuation and be lowercased.\n",
    "df_u = df1.copy()\n",
    "df_p = df1.copy()\n",
    "\n",
    "for x in [\"source\",\"reference\",\"translation\"]:\n",
    "    # lowercase.\n",
    "    df_p[x] = df1[x].str.lower()\n",
    "    # Remove punct.\n",
    "    df_p[x] = df1[x].map(lambda s: s.translate(str.maketrans(\"\",\"\",string.punctuation))\n",
    "                           .lower()\n",
    "                          )\n",
    "    \n",
    "df_dict = {\"df_u\":df_u,\"df_p\":df_p}"
   ]
  },
  {
   "cell_type": "code",
   "execution_count": 8,
   "id": "applied-indie",
   "metadata": {},
   "outputs": [],
   "source": [
    "## Initialize a scaler for later.\n",
    "scaler = StandardScaler()"
   ]
  },
  {
   "cell_type": "markdown",
   "id": "opposed-football",
   "metadata": {},
   "source": [
    "---\n",
    "### Metrics"
   ]
  },
  {
   "cell_type": "markdown",
   "id": "ongoing-baltimore",
   "metadata": {},
   "source": [
    "--- \n",
    "Bleu Metric"
   ]
  },
  {
   "cell_type": "code",
   "execution_count": 9,
   "id": "challenging-phenomenon",
   "metadata": {},
   "outputs": [],
   "source": [
    "def my_first_BLEU(reference,translation):\n",
    "    \"\"\"\n",
    "    Expects lists of strings for both reference and translation.\n",
    "    Returns the score \n",
    "    \"\"\"\n",
    "    \n",
    "    # Let word be every unique word in the translation.\n",
    "    # Can be done by setting up a Counter object.\n",
    "    t_c = Counter(word_tokenize(translation))\n",
    "    words = sorted(t_c)\n",
    "    \n",
    "    refs_c = Counter(word_tokenize(reference))\n",
    "    \n",
    "    # Let Covered be the minimum amt of times a word appears in the reference, compared to R(w).\n",
    "    # Let D(word) be how many times a unique word appears in the candidate translation.\n",
    "    # Let R(word) be the largest numer of times the word appears in any one reference.\n",
    "    \n",
    "    covered = 0\n",
    "    \n",
    "    for word in words:\n",
    "        covered += min(t_c[word],refs_c[word])\n",
    "\n",
    "    \n",
    "\n",
    "    # Let total be the number of words in translation.\n",
    "    total = sum(t_c.values())\n",
    "    \n",
    "    BLEU_score = covered / total\n",
    "    \n",
    "    return BLEU_score\n"
   ]
  },
  {
   "cell_type": "code",
   "execution_count": 10,
   "id": "waiting-disposition",
   "metadata": {},
   "outputs": [],
   "source": [
    "bleu_scores_list = [\"basic bleu\"]\n",
    "\n",
    "for df in list(df_dict.values()):\n",
    "    for key in bleu_scores_list:\n",
    "        # Apply the function to get a column of the scores.\n",
    "        df[(key+\" score\")] = df.apply(lambda row: my_first_BLEU(row[\"reference\"],row[\"translation\"]),axis=1)\n",
    "        # Also add a z score column.\n",
    "        df[(key+ \"_zscore\")] = scaler.fit_transform(df[(key+\" score\")].to_numpy().reshape(-1,1)).flatten()"
   ]
  },
  {
   "cell_type": "markdown",
   "id": "heavy-breakdown",
   "metadata": {},
   "source": [
    "---\n",
    "Rouge metric as described in\n",
    "\n",
    "https://towardsdatascience.com/the-ultimate-performance-metric-in-nlp-111df6c64460\n",
    "\n",
    "And\n",
    "https://pypi.org/project/rouge-metric/"
   ]
  },
  {
   "cell_type": "code",
   "execution_count": 11,
   "id": "behavioral-deposit",
   "metadata": {},
   "outputs": [],
   "source": [
    "rouge = Rouge()"
   ]
  },
  {
   "cell_type": "code",
   "execution_count": 12,
   "id": "recent-maple",
   "metadata": {},
   "outputs": [
    {
     "data": {
      "text/plain": [
       "[{'rouge-1': {'f': 0.5063291089889441,\n",
       "   'p': 0.45454545454545453,\n",
       "   'r': 0.5714285714285714},\n",
       "  'rouge-2': {'f': 0.31168830675662007,\n",
       "   'p': 0.27906976744186046,\n",
       "   'r': 0.35294117647058826},\n",
       "  'rouge-l': {'f': 0.4745762662223499, 'p': 0.4375, 'r': 0.5185185185185185}}]"
      ]
     },
     "execution_count": 12,
     "metadata": {},
     "output_type": "execute_result"
    }
   ],
   "source": [
    "# Example Cell\n",
    "model_out = df1[\"translation\"][0]\n",
    "reference = df1[\"reference\"][0]\n",
    "# The get scores method returns three metrics, F1 score, p precision and recall r.\n",
    "# For each unigram,bigram and Longest sequence.\n",
    "rouge.get_scores(model_out,reference)"
   ]
  },
  {
   "cell_type": "code",
   "execution_count": 13,
   "id": "hired-preliminary",
   "metadata": {},
   "outputs": [],
   "source": [
    "# Get scores.\n",
    "# For every df considered;\n",
    "for df in list(df_dict.values()):\n",
    "    # For the entire model, model_out and reference need to be lists of strings.\n",
    "    model_out = df[\"translation\"].to_list()\n",
    "    reference = df[\"reference\"].to_list()\n",
    "    rouge_scores = rouge.get_scores(model_out,reference)\n",
    "    # For each of the scores calculated, output a new column in the df with the f1 scores.\n",
    "    for key in rouge_scores[0].keys():\n",
    "        df[(key+\" score\")] = pd.Series([score[key][\"f\"] for score in rouge_scores])\n",
    "        # Also add a z score column.\n",
    "        df[(key+ \"_zscore\")] = scaler.fit_transform(df[(key+\" score\")].to_numpy().reshape(-1,1)).flatten()"
   ]
  },
  {
   "cell_type": "markdown",
   "id": "adopted-clearing",
   "metadata": {},
   "source": [
    "---\n",
    "#### chrF metric\n",
    "\n",
    "Check the paper here: https://www.aclweb.org/anthology/W15-3049.pdf\n",
    "\n",
    "The general formula for the CHRF score is:\n",
    "\n",
    "`CHRFBeta = (1 + Beta**2) * ((chrP * chrR) / (Beta**2*chrP + chrR))`\n",
    "\n",
    "where:\n",
    "* chrP is the percentage of n-grams in the hypothesis which have a counterpart in the reference.\n",
    "* chrR is the percentage of character n-grams in the reference which are also present in the hypothesis.\n",
    "* Beta is a parameter which assigns beta times more importance to recall than to precision (if beta == 1, they have the same importance)."
   ]
  },
  {
   "cell_type": "code",
   "execution_count": 14,
   "id": "numerous-evaluation",
   "metadata": {},
   "outputs": [
    {
     "data": {
      "text/html": [
       "<div>\n",
       "<style scoped>\n",
       "    .dataframe tbody tr th:only-of-type {\n",
       "        vertical-align: middle;\n",
       "    }\n",
       "\n",
       "    .dataframe tbody tr th {\n",
       "        vertical-align: top;\n",
       "    }\n",
       "\n",
       "    .dataframe thead th {\n",
       "        text-align: right;\n",
       "    }\n",
       "</style>\n",
       "<table border=\"1\" class=\"dataframe\">\n",
       "  <thead>\n",
       "    <tr style=\"text-align: right;\">\n",
       "      <th></th>\n",
       "      <th>chrf_b1_n16</th>\n",
       "      <th>chrf_b3_n16</th>\n",
       "      <th>chrf_b1_n110</th>\n",
       "      <th>chrf_b3_n110</th>\n",
       "      <th>chrf_b1_n26</th>\n",
       "      <th>chrf_b3_n26</th>\n",
       "      <th>chrf_b1_n210</th>\n",
       "      <th>chrf_b3_n210</th>\n",
       "    </tr>\n",
       "  </thead>\n",
       "  <tbody>\n",
       "    <tr>\n",
       "      <th>0</th>\n",
       "      <td>0.513695</td>\n",
       "      <td>0.550590</td>\n",
       "      <td>0.413642</td>\n",
       "      <td>0.443609</td>\n",
       "      <td>0.444058</td>\n",
       "      <td>0.476093</td>\n",
       "      <td>0.363838</td>\n",
       "      <td>0.390335</td>\n",
       "    </tr>\n",
       "    <tr>\n",
       "      <th>1</th>\n",
       "      <td>0.443837</td>\n",
       "      <td>0.383930</td>\n",
       "      <td>0.301782</td>\n",
       "      <td>0.260798</td>\n",
       "      <td>0.377413</td>\n",
       "      <td>0.326119</td>\n",
       "      <td>0.249096</td>\n",
       "      <td>0.214999</td>\n",
       "    </tr>\n",
       "    <tr>\n",
       "      <th>2</th>\n",
       "      <td>0.671901</td>\n",
       "      <td>0.682680</td>\n",
       "      <td>0.580977</td>\n",
       "      <td>0.590386</td>\n",
       "      <td>0.617980</td>\n",
       "      <td>0.627931</td>\n",
       "      <td>0.540919</td>\n",
       "      <td>0.549716</td>\n",
       "    </tr>\n",
       "    <tr>\n",
       "      <th>3</th>\n",
       "      <td>0.528299</td>\n",
       "      <td>0.611271</td>\n",
       "      <td>0.428828</td>\n",
       "      <td>0.498227</td>\n",
       "      <td>0.473303</td>\n",
       "      <td>0.548619</td>\n",
       "      <td>0.387223</td>\n",
       "      <td>0.450860</td>\n",
       "    </tr>\n",
       "    <tr>\n",
       "      <th>4</th>\n",
       "      <td>0.366369</td>\n",
       "      <td>0.389491</td>\n",
       "      <td>0.237257</td>\n",
       "      <td>0.252321</td>\n",
       "      <td>0.267457</td>\n",
       "      <td>0.284548</td>\n",
       "      <td>0.167960</td>\n",
       "      <td>0.178778</td>\n",
       "    </tr>\n",
       "    <tr>\n",
       "      <th>...</th>\n",
       "      <td>...</td>\n",
       "      <td>...</td>\n",
       "      <td>...</td>\n",
       "      <td>...</td>\n",
       "      <td>...</td>\n",
       "      <td>...</td>\n",
       "      <td>...</td>\n",
       "      <td>...</td>\n",
       "    </tr>\n",
       "    <tr>\n",
       "      <th>8727</th>\n",
       "      <td>0.520054</td>\n",
       "      <td>0.472033</td>\n",
       "      <td>0.414769</td>\n",
       "      <td>0.376144</td>\n",
       "      <td>0.461353</td>\n",
       "      <td>0.418565</td>\n",
       "      <td>0.370459</td>\n",
       "      <td>0.335785</td>\n",
       "    </tr>\n",
       "    <tr>\n",
       "      <th>8728</th>\n",
       "      <td>0.427781</td>\n",
       "      <td>0.466538</td>\n",
       "      <td>0.256669</td>\n",
       "      <td>0.279923</td>\n",
       "      <td>0.340788</td>\n",
       "      <td>0.372612</td>\n",
       "      <td>0.189327</td>\n",
       "      <td>0.207007</td>\n",
       "    </tr>\n",
       "    <tr>\n",
       "      <th>8729</th>\n",
       "      <td>0.504643</td>\n",
       "      <td>0.527508</td>\n",
       "      <td>0.382432</td>\n",
       "      <td>0.399887</td>\n",
       "      <td>0.431762</td>\n",
       "      <td>0.451417</td>\n",
       "      <td>0.328363</td>\n",
       "      <td>0.343434</td>\n",
       "    </tr>\n",
       "    <tr>\n",
       "      <th>8730</th>\n",
       "      <td>0.574556</td>\n",
       "      <td>0.557397</td>\n",
       "      <td>0.475562</td>\n",
       "      <td>0.461196</td>\n",
       "      <td>0.516740</td>\n",
       "      <td>0.501229</td>\n",
       "      <td>0.432442</td>\n",
       "      <td>0.419303</td>\n",
       "    </tr>\n",
       "    <tr>\n",
       "      <th>8731</th>\n",
       "      <td>0.687014</td>\n",
       "      <td>0.667993</td>\n",
       "      <td>0.606249</td>\n",
       "      <td>0.588753</td>\n",
       "      <td>0.653630</td>\n",
       "      <td>0.635290</td>\n",
       "      <td>0.578729</td>\n",
       "      <td>0.561780</td>\n",
       "    </tr>\n",
       "  </tbody>\n",
       "</table>\n",
       "<p>8732 rows × 8 columns</p>\n",
       "</div>"
      ],
      "text/plain": [
       "      chrf_b1_n16  chrf_b3_n16  chrf_b1_n110  chrf_b3_n110  chrf_b1_n26  \\\n",
       "0        0.513695     0.550590      0.413642      0.443609     0.444058   \n",
       "1        0.443837     0.383930      0.301782      0.260798     0.377413   \n",
       "2        0.671901     0.682680      0.580977      0.590386     0.617980   \n",
       "3        0.528299     0.611271      0.428828      0.498227     0.473303   \n",
       "4        0.366369     0.389491      0.237257      0.252321     0.267457   \n",
       "...           ...          ...           ...           ...          ...   \n",
       "8727     0.520054     0.472033      0.414769      0.376144     0.461353   \n",
       "8728     0.427781     0.466538      0.256669      0.279923     0.340788   \n",
       "8729     0.504643     0.527508      0.382432      0.399887     0.431762   \n",
       "8730     0.574556     0.557397      0.475562      0.461196     0.516740   \n",
       "8731     0.687014     0.667993      0.606249      0.588753     0.653630   \n",
       "\n",
       "      chrf_b3_n26  chrf_b1_n210  chrf_b3_n210  \n",
       "0        0.476093      0.363838      0.390335  \n",
       "1        0.326119      0.249096      0.214999  \n",
       "2        0.627931      0.540919      0.549716  \n",
       "3        0.548619      0.387223      0.450860  \n",
       "4        0.284548      0.167960      0.178778  \n",
       "...           ...           ...           ...  \n",
       "8727     0.418565      0.370459      0.335785  \n",
       "8728     0.372612      0.189327      0.207007  \n",
       "8729     0.451417      0.328363      0.343434  \n",
       "8730     0.501229      0.432442      0.419303  \n",
       "8731     0.635290      0.578729      0.561780  \n",
       "\n",
       "[8732 rows x 8 columns]"
      ]
     },
     "execution_count": 14,
     "metadata": {},
     "output_type": "execute_result"
    }
   ],
   "source": [
    "# The default n-gram values are min == 1, max == 6. \n",
    "# The default beta is 3.\n",
    "\n",
    "# Moreover, it is worthwhile to mention chrf uses its own tokenization with whitespaces.\n",
    "# Note: this takes a few minutes to run.\n",
    "min_len = [1,2]\n",
    "max_len = [6,10]\n",
    "beta = [1,3]\n",
    "\n",
    "for df in list(df_dict.values()):\n",
    "    chrf_scores=[]\n",
    "    for min_l in min_len:\n",
    "        for max_l in max_len:\n",
    "            for b in beta:\n",
    "                append_str = \"chrf_b\" + str(b) + \"_n\" + str(min_l) + str(max_l)\n",
    "                chrf_scores.append(append_str)\n",
    "                df[append_str] = df.apply(lambda row: chrf_score.sentence_chrf(row[\"reference\"],row[\"translation\"],min_len=min_l,max_len=max_l,beta=b),axis=1)\n",
    "                # Also add a z score column.\n",
    "                df[(append_str+ \"_zscore\")] = scaler.fit_transform(df[append_str].to_numpy().reshape(-1,1)).flatten()\n",
    "\n",
    "df_p.loc[:,chrf_scores]"
   ]
  },
  {
   "cell_type": "markdown",
   "id": "changed-dynamics",
   "metadata": {},
   "source": [
    "---\n",
    "### Producing the testset CSV\n",
    "Given the produced scores, choose the ones to apply to the CSV."
   ]
  },
  {
   "cell_type": "code",
   "execution_count": 15,
   "id": "weird-minneapolis",
   "metadata": {},
   "outputs": [],
   "source": [
    "# We can use either the zscore or the non-standardized scores. \n",
    "# Also note either df_u or df_p choice.\n",
    "df1[\"metric\"]=df_u[best_metric+\"_zscore\"]"
   ]
  },
  {
   "cell_type": "code",
   "execution_count": 16,
   "id": "eleven-tactics",
   "metadata": {},
   "outputs": [
    {
     "data": {
      "text/html": [
       "<div>\n",
       "<style scoped>\n",
       "    .dataframe tbody tr th:only-of-type {\n",
       "        vertical-align: middle;\n",
       "    }\n",
       "\n",
       "    .dataframe tbody tr th {\n",
       "        vertical-align: top;\n",
       "    }\n",
       "\n",
       "    .dataframe thead th {\n",
       "        text-align: right;\n",
       "    }\n",
       "</style>\n",
       "<table border=\"1\" class=\"dataframe\">\n",
       "  <thead>\n",
       "    <tr style=\"text-align: right;\">\n",
       "      <th></th>\n",
       "      <th>source</th>\n",
       "      <th>reference</th>\n",
       "      <th>translation</th>\n",
       "      <th>metric</th>\n",
       "    </tr>\n",
       "  </thead>\n",
       "  <tbody>\n",
       "    <tr>\n",
       "      <th>0</th>\n",
       "      <td>Památník, důstojné pietní místo, stojí vůlí dě...</td>\n",
       "      <td>The monument, a dignified piecemeal place, sta...</td>\n",
       "      <td>The memorial, a solemn place of commemoration,...</td>\n",
       "      <td>-0.078726</td>\n",
       "    </tr>\n",
       "    <tr>\n",
       "      <th>1</th>\n",
       "      <td>Pracovník centra Čang Č-čung sdělil agentuře N...</td>\n",
       "      <td>Centre worker Zhang Zu-chung told the New Chin...</td>\n",
       "      <td>Centre worker Chang Chi-Chung told New China t...</td>\n",
       "      <td>-1.070484</td>\n",
       "    </tr>\n",
       "    <tr>\n",
       "      <th>2</th>\n",
       "      <td>Veterináři nicméně odeberou namátkové vzorky v...</td>\n",
       "      <td>However, veterinarians take random samples of ...</td>\n",
       "      <td>However, veterinarians are taking samples of e...</td>\n",
       "      <td>0.807269</td>\n",
       "    </tr>\n",
       "    <tr>\n",
       "      <th>3</th>\n",
       "      <td>Uživatel @TheePharoah jí neustále retweetoval ...</td>\n",
       "      <td>User @ TheePharoah constantly retweeted her po...</td>\n",
       "      <td>A user with the handle @TheePharoah was being ...</td>\n",
       "      <td>0.186006</td>\n",
       "    </tr>\n",
       "    <tr>\n",
       "      <th>4</th>\n",
       "      <td>Lucii bylo tehdy pouhých 19 let a rozhodně net...</td>\n",
       "      <td>Lucia was only 19 at the time and certainly ha...</td>\n",
       "      <td>At that time, Lucie was only 19 years old, and...</td>\n",
       "      <td>-1.236303</td>\n",
       "    </tr>\n",
       "  </tbody>\n",
       "</table>\n",
       "</div>"
      ],
      "text/plain": [
       "                                              source  \\\n",
       "0  Památník, důstojné pietní místo, stojí vůlí dě...   \n",
       "1  Pracovník centra Čang Č-čung sdělil agentuře N...   \n",
       "2  Veterináři nicméně odeberou namátkové vzorky v...   \n",
       "3  Uživatel @TheePharoah jí neustále retweetoval ...   \n",
       "4  Lucii bylo tehdy pouhých 19 let a rozhodně net...   \n",
       "\n",
       "                                           reference  \\\n",
       "0  The monument, a dignified piecemeal place, sta...   \n",
       "1  Centre worker Zhang Zu-chung told the New Chin...   \n",
       "2  However, veterinarians take random samples of ...   \n",
       "3  User @ TheePharoah constantly retweeted her po...   \n",
       "4  Lucia was only 19 at the time and certainly ha...   \n",
       "\n",
       "                                         translation    metric  \n",
       "0  The memorial, a solemn place of commemoration,... -0.078726  \n",
       "1  Centre worker Chang Chi-Chung told New China t... -1.070484  \n",
       "2  However, veterinarians are taking samples of e...  0.807269  \n",
       "3  A user with the handle @TheePharoah was being ...  0.186006  \n",
       "4  At that time, Lucie was only 19 years old, and... -1.236303  "
      ]
     },
     "execution_count": 16,
     "metadata": {},
     "output_type": "execute_result"
    }
   ],
   "source": [
    "df1.head()"
   ]
  },
  {
   "cell_type": "code",
   "execution_count": 18,
   "id": "spiritual-suffering",
   "metadata": {},
   "outputs": [],
   "source": [
    "df1.to_csv(\"scores.csv\",index=False)"
   ]
  }
 ],
 "metadata": {
  "kernelspec": {
   "display_name": "Python 3",
   "language": "python",
   "name": "python3"
  },
  "language_info": {
   "codemirror_mode": {
    "name": "ipython",
    "version": 3
   },
   "file_extension": ".py",
   "mimetype": "text/x-python",
   "name": "python",
   "nbconvert_exporter": "python",
   "pygments_lexer": "ipython3",
   "version": "3.6.13"
  }
 },
 "nbformat": 4,
 "nbformat_minor": 5
}
