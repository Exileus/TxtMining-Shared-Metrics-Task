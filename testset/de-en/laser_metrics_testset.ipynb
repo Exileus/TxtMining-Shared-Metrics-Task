{
 "cells": [
  {
   "cell_type": "markdown",
   "id": "domestic-collar",
   "metadata": {},
   "source": [
    "Implementation of LASER to the corpus"
   ]
  },
  {
   "cell_type": "code",
   "execution_count": 1,
   "id": "automotive-interference",
   "metadata": {},
   "outputs": [
    {
     "name": "stderr",
     "output_type": "stream",
     "text": [
      "Using TensorFlow backend.\n"
     ]
    }
   ],
   "source": [
    "# Imports\n",
    "import numpy as np\n",
    "from scipy import spatial\n",
    "import numpy as np\n",
    "import pandas as pd\n",
    "import time\n",
    "\n",
    "from sklearn.linear_model import LinearRegression\n",
    "from sklearn.neural_network import MLPRegressor\n",
    "from sklearn.model_selection import train_test_split, KFold\n",
    "from sklearn.metrics import mean_absolute_error\n",
    "from sklearn.preprocessing import StandardScaler\n",
    "\n",
    "import keras\n",
    "from keras import models\n",
    "from keras import layers\n"
   ]
  },
  {
   "cell_type": "code",
   "execution_count": 2,
   "id": "divided-drama",
   "metadata": {},
   "outputs": [],
   "source": [
    "# Parameters\n",
    "\n",
    "# laser model to use\n",
    "laser_model = \"de_en_laser_model__testcorr_0.3574_MAE_0.6445_time28_05_14_10.h5\""
   ]
  },
  {
   "cell_type": "markdown",
   "id": "ruled-leave",
   "metadata": {},
   "source": [
    "Load Dataset"
   ]
  },
  {
   "cell_type": "code",
   "execution_count": 3,
   "id": "joined-tower",
   "metadata": {},
   "outputs": [],
   "source": [
    "df1 = pd.read_csv(\"scores.csv\")"
   ]
  },
  {
   "cell_type": "code",
   "execution_count": 4,
   "id": "welcome-movie",
   "metadata": {},
   "outputs": [
    {
     "name": "stdout",
     "output_type": "stream",
     "text": [
      "<class 'pandas.core.frame.DataFrame'>\n",
      "RangeIndex: 28404 entries, 0 to 28403\n",
      "Data columns (total 5 columns):\n",
      " #   Column       Non-Null Count  Dtype  \n",
      "---  ------       --------------  -----  \n",
      " 0   Unnamed: 0   28404 non-null  int64  \n",
      " 1   source       28404 non-null  object \n",
      " 2   reference    28404 non-null  object \n",
      " 3   translation  28404 non-null  object \n",
      " 4   metric       28404 non-null  float64\n",
      "dtypes: float64(1), int64(1), object(3)\n",
      "memory usage: 1.1+ MB\n"
     ]
    }
   ],
   "source": [
    "df1.info()"
   ]
  },
  {
   "cell_type": "code",
   "execution_count": 5,
   "id": "large-romance",
   "metadata": {},
   "outputs": [
    {
     "data": {
      "text/html": [
       "<div>\n",
       "<style scoped>\n",
       "    .dataframe tbody tr th:only-of-type {\n",
       "        vertical-align: middle;\n",
       "    }\n",
       "\n",
       "    .dataframe tbody tr th {\n",
       "        vertical-align: top;\n",
       "    }\n",
       "\n",
       "    .dataframe thead th {\n",
       "        text-align: right;\n",
       "    }\n",
       "</style>\n",
       "<table border=\"1\" class=\"dataframe\">\n",
       "  <thead>\n",
       "    <tr style=\"text-align: right;\">\n",
       "      <th></th>\n",
       "      <th>Unnamed: 0</th>\n",
       "      <th>source</th>\n",
       "      <th>reference</th>\n",
       "      <th>translation</th>\n",
       "      <th>metric</th>\n",
       "    </tr>\n",
       "  </thead>\n",
       "  <tbody>\n",
       "    <tr>\n",
       "      <th>0</th>\n",
       "      <td>0</td>\n",
       "      <td>Das Publikum ist fast gleichmäßig zwischen Sch...</td>\n",
       "      <td>The audience is almost evenly split between bl...</td>\n",
       "      <td>The audience is almost evenly split between bl...</td>\n",
       "      <td>2.764301</td>\n",
       "    </tr>\n",
       "    <tr>\n",
       "      <th>1</th>\n",
       "      <td>1</td>\n",
       "      <td>Du kannst ihre Energie durch den Bildschirm sp...</td>\n",
       "      <td>You can feel their energy through the screen. \"\"</td>\n",
       "      <td>You can feel her energy through the screen.\"</td>\n",
       "      <td>1.287924</td>\n",
       "    </tr>\n",
       "    <tr>\n",
       "      <th>2</th>\n",
       "      <td>2</td>\n",
       "      <td>Da die Adresse unbekannt ist, wird die Mithilf...</td>\n",
       "      <td>As the address is unknown, the help of the pop...</td>\n",
       "      <td>As the address is unknown, the assistance of t...</td>\n",
       "      <td>1.499944</td>\n",
       "    </tr>\n",
       "    <tr>\n",
       "      <th>3</th>\n",
       "      <td>3</td>\n",
       "      <td>Arsenal-Manager Arsene Wenger, dessen Verein i...</td>\n",
       "      <td>Arsenal manager Arsene Wenger, whose club is o...</td>\n",
       "      <td>Arsenal manager Arsene Wenger, whose club is o...</td>\n",
       "      <td>2.764301</td>\n",
       "    </tr>\n",
       "    <tr>\n",
       "      <th>4</th>\n",
       "      <td>4</td>\n",
       "      <td>Landwirtschaftsminister im Interview - Wie sch...</td>\n",
       "      <td>Agriculture Minister in the interview - How do...</td>\n",
       "      <td>Minister of Agriculture in interview – How do ...</td>\n",
       "      <td>0.204494</td>\n",
       "    </tr>\n",
       "  </tbody>\n",
       "</table>\n",
       "</div>"
      ],
      "text/plain": [
       "   Unnamed: 0                                             source  \\\n",
       "0           0  Das Publikum ist fast gleichmäßig zwischen Sch...   \n",
       "1           1  Du kannst ihre Energie durch den Bildschirm sp...   \n",
       "2           2  Da die Adresse unbekannt ist, wird die Mithilf...   \n",
       "3           3  Arsenal-Manager Arsene Wenger, dessen Verein i...   \n",
       "4           4  Landwirtschaftsminister im Interview - Wie sch...   \n",
       "\n",
       "                                           reference  \\\n",
       "0  The audience is almost evenly split between bl...   \n",
       "1   You can feel their energy through the screen. \"\"   \n",
       "2  As the address is unknown, the help of the pop...   \n",
       "3  Arsenal manager Arsene Wenger, whose club is o...   \n",
       "4  Agriculture Minister in the interview - How do...   \n",
       "\n",
       "                                         translation    metric  \n",
       "0  The audience is almost evenly split between bl...  2.764301  \n",
       "1       You can feel her energy through the screen.\"  1.287924  \n",
       "2  As the address is unknown, the assistance of t...  1.499944  \n",
       "3  Arsenal manager Arsene Wenger, whose club is o...  2.764301  \n",
       "4  Minister of Agriculture in interview – How do ...  0.204494  "
      ]
     },
     "execution_count": 5,
     "metadata": {},
     "output_type": "execute_result"
    }
   ],
   "source": [
    "df1.head()"
   ]
  },
  {
   "cell_type": "code",
   "execution_count": 6,
   "id": "cubic-croatia",
   "metadata": {},
   "outputs": [],
   "source": [
    "# For this one, we need to drop the unnamed column 0\n",
    "# df1 = df1.drop(labels=\"Unnamed: 0\",axis=1)"
   ]
  },
  {
   "cell_type": "code",
   "execution_count": 7,
   "id": "steady-orleans",
   "metadata": {},
   "outputs": [
    {
     "name": "stdout",
     "output_type": "stream",
     "text": [
      "source\n",
      "Bad idx: []\n",
      "reference\n",
      "Bad idx: []\n",
      "translation\n",
      "Bad idx: []\n"
     ]
    }
   ],
   "source": [
    "# Verification\n",
    "# Check for empty or sparse reference / translation, and drop them.\n",
    "for column in [\"source\",\"reference\",\"translation\"]:\n",
    "    print(column)\n",
    "    bad_idx = [idx for idx in np.where(df1[column].str.len()<=2)[0]]\n",
    "    if bad_idx != []:\n",
    "        print(df1.iloc[bad_idx])\n",
    "    print(f\"Bad idx: {bad_idx}\")\n",
    "#    df1 = df1.drop(index=bad_idx)"
   ]
  },
  {
   "cell_type": "markdown",
   "id": "continental-cleaning",
   "metadata": {},
   "source": [
    "Loading LASER embeddings"
   ]
  },
  {
   "cell_type": "code",
   "execution_count": 8,
   "id": "continental-reporter",
   "metadata": {},
   "outputs": [],
   "source": [
    "source_arr = np.load(\"laser.source_embeds.npy\")\n",
    "refer_arr = np.load(\"laser.reference_embeds.npy\")\n",
    "trans_arr = np.load(\"laser.translation_embeds.npy\")"
   ]
  },
  {
   "cell_type": "markdown",
   "id": "scenic-certificate",
   "metadata": {},
   "source": [
    "Cosine Similarity"
   ]
  },
  {
   "cell_type": "code",
   "execution_count": 9,
   "id": "musical-jurisdiction",
   "metadata": {},
   "outputs": [],
   "source": [
    "cos_similarity_ref_hyp = []\n",
    "cos_similarity_src_ref = []\n",
    "cos_similarity_src_hyp = []\n",
    "\n",
    "# for each of the cos similarity, put them into lists.\n",
    "for i in range(refer_arr.shape[0]):\n",
    "    cos_similarity_ref_hyp.append((spatial.distance.cosine(refer_arr[i],trans_arr[i])*-1)+1)\n",
    "    cos_similarity_src_ref.append((spatial.distance.cosine(source_arr[i],refer_arr[i])*-1)+1)\n",
    "    cos_similarity_src_hyp.append((spatial.distance.cosine(source_arr[i],trans_arr[i])*-1)+1)\n",
    "\n",
    "\n",
    "# Standardize and transform into series.\n",
    "scaler = StandardScaler()\n",
    "cs_rh = pd.Series(scaler.fit_transform(np.array(cos_similarity_ref_hyp).reshape(-1,1)).flatten(),name=\"cos_sim_ref_hyp\")\n",
    "cs_sr = pd.Series(scaler.fit_transform(np.array(cos_similarity_src_ref).reshape(-1,1)).flatten(),name=\"cos_sim_src_ref\")\n",
    "cs_sh = pd.Series(scaler.fit_transform(np.array(cos_similarity_src_hyp).reshape(-1,1)).flatten(),name=\"cos_sim_src_hyp\")\n",
    "\n"
   ]
  },
  {
   "cell_type": "code",
   "execution_count": 10,
   "id": "appointed-surface",
   "metadata": {},
   "outputs": [
    {
     "data": {
      "text/html": [
       "<div>\n",
       "<style scoped>\n",
       "    .dataframe tbody tr th:only-of-type {\n",
       "        vertical-align: middle;\n",
       "    }\n",
       "\n",
       "    .dataframe tbody tr th {\n",
       "        vertical-align: top;\n",
       "    }\n",
       "\n",
       "    .dataframe thead th {\n",
       "        text-align: right;\n",
       "    }\n",
       "</style>\n",
       "<table border=\"1\" class=\"dataframe\">\n",
       "  <thead>\n",
       "    <tr style=\"text-align: right;\">\n",
       "      <th></th>\n",
       "      <th>cos_sim_ref_hyp</th>\n",
       "      <th>cos_sim_src_ref</th>\n",
       "      <th>cos_sim_src_hyp</th>\n",
       "    </tr>\n",
       "  </thead>\n",
       "  <tbody>\n",
       "    <tr>\n",
       "      <th>0</th>\n",
       "      <td>1.375766</td>\n",
       "      <td>0.261304</td>\n",
       "      <td>0.401669</td>\n",
       "    </tr>\n",
       "    <tr>\n",
       "      <th>1</th>\n",
       "      <td>0.892460</td>\n",
       "      <td>0.253938</td>\n",
       "      <td>0.403947</td>\n",
       "    </tr>\n",
       "    <tr>\n",
       "      <th>2</th>\n",
       "      <td>1.288441</td>\n",
       "      <td>0.166684</td>\n",
       "      <td>0.304615</td>\n",
       "    </tr>\n",
       "    <tr>\n",
       "      <th>3</th>\n",
       "      <td>1.375768</td>\n",
       "      <td>0.773871</td>\n",
       "      <td>0.924371</td>\n",
       "    </tr>\n",
       "    <tr>\n",
       "      <th>4</th>\n",
       "      <td>0.270158</td>\n",
       "      <td>0.789520</td>\n",
       "      <td>0.451771</td>\n",
       "    </tr>\n",
       "    <tr>\n",
       "      <th>...</th>\n",
       "      <td>...</td>\n",
       "      <td>...</td>\n",
       "      <td>...</td>\n",
       "    </tr>\n",
       "    <tr>\n",
       "      <th>28399</th>\n",
       "      <td>0.451945</td>\n",
       "      <td>0.500903</td>\n",
       "      <td>0.528470</td>\n",
       "    </tr>\n",
       "    <tr>\n",
       "      <th>28400</th>\n",
       "      <td>-0.248215</td>\n",
       "      <td>-0.059200</td>\n",
       "      <td>0.336520</td>\n",
       "    </tr>\n",
       "    <tr>\n",
       "      <th>28401</th>\n",
       "      <td>0.498707</td>\n",
       "      <td>0.841823</td>\n",
       "      <td>0.864680</td>\n",
       "    </tr>\n",
       "    <tr>\n",
       "      <th>28402</th>\n",
       "      <td>-2.303439</td>\n",
       "      <td>-0.935509</td>\n",
       "      <td>-1.079092</td>\n",
       "    </tr>\n",
       "    <tr>\n",
       "      <th>28403</th>\n",
       "      <td>-0.853436</td>\n",
       "      <td>-0.102089</td>\n",
       "      <td>0.238755</td>\n",
       "    </tr>\n",
       "  </tbody>\n",
       "</table>\n",
       "<p>28404 rows × 3 columns</p>\n",
       "</div>"
      ],
      "text/plain": [
       "       cos_sim_ref_hyp  cos_sim_src_ref  cos_sim_src_hyp\n",
       "0             1.375766         0.261304         0.401669\n",
       "1             0.892460         0.253938         0.403947\n",
       "2             1.288441         0.166684         0.304615\n",
       "3             1.375768         0.773871         0.924371\n",
       "4             0.270158         0.789520         0.451771\n",
       "...                ...              ...              ...\n",
       "28399         0.451945         0.500903         0.528470\n",
       "28400        -0.248215        -0.059200         0.336520\n",
       "28401         0.498707         0.841823         0.864680\n",
       "28402        -2.303439        -0.935509        -1.079092\n",
       "28403        -0.853436        -0.102089         0.238755\n",
       "\n",
       "[28404 rows x 3 columns]"
      ]
     },
     "execution_count": 10,
     "metadata": {},
     "output_type": "execute_result"
    }
   ],
   "source": [
    "# Z scores of Cosine Similarity.\n",
    "cos_df = pd.concat([cs_rh,cs_sr,cs_sh],axis=1)\n",
    "cos_df"
   ]
  },
  {
   "cell_type": "markdown",
   "id": "southwest-ocean",
   "metadata": {},
   "source": [
    "---\n",
    "Using Neural Networks, directly on the embeddings."
   ]
  },
  {
   "cell_type": "code",
   "execution_count": 11,
   "id": "unauthorized-muslim",
   "metadata": {},
   "outputs": [],
   "source": [
    "# Loading the model.\n",
    "model = keras.models.load_model(laser_model)"
   ]
  },
  {
   "cell_type": "code",
   "execution_count": 12,
   "id": "compact-operations",
   "metadata": {},
   "outputs": [
    {
     "name": "stdout",
     "output_type": "stream",
     "text": [
      "Model: \"sequential_1\"\n",
      "_________________________________________________________________\n",
      "Layer (type)                 Output Shape              Param #   \n",
      "=================================================================\n",
      "dense_1 (Dense)              (None, 1024)              2098176   \n",
      "_________________________________________________________________\n",
      "dense_2 (Dense)              (None, 512)               524800    \n",
      "_________________________________________________________________\n",
      "dropout_1 (Dropout)          (None, 512)               0         \n",
      "_________________________________________________________________\n",
      "dense_3 (Dense)              (None, 128)               65664     \n",
      "_________________________________________________________________\n",
      "dropout_2 (Dropout)          (None, 128)               0         \n",
      "_________________________________________________________________\n",
      "dense_4 (Dense)              (None, 64)                8256      \n",
      "_________________________________________________________________\n",
      "dense_5 (Dense)              (None, 1)                 65        \n",
      "=================================================================\n",
      "Total params: 2,696,961\n",
      "Trainable params: 2,696,961\n",
      "Non-trainable params: 0\n",
      "_________________________________________________________________\n"
     ]
    }
   ],
   "source": [
    "model.summary()"
   ]
  },
  {
   "cell_type": "code",
   "execution_count": 13,
   "id": "wicked-lodging",
   "metadata": {},
   "outputs": [],
   "source": [
    "# Prepare the input layer.\n",
    "full_arr_c = np.concatenate((refer_arr,trans_arr),axis=1)\n",
    "X = full_arr_c.copy()"
   ]
  },
  {
   "cell_type": "code",
   "execution_count": 14,
   "id": "subjective-template",
   "metadata": {},
   "outputs": [],
   "source": [
    "df1[\"metric\"] = model.predict(X)"
   ]
  },
  {
   "cell_type": "code",
   "execution_count": 16,
   "id": "ordered-experience",
   "metadata": {},
   "outputs": [],
   "source": [
    "df1.to_csv(\"scores.csv\",index=False)"
   ]
  },
  {
   "cell_type": "code",
   "execution_count": null,
   "id": "contrary-emerald",
   "metadata": {},
   "outputs": [],
   "source": []
  }
 ],
 "metadata": {
  "kernelspec": {
   "display_name": "Python 3",
   "language": "python",
   "name": "python3"
  },
  "language_info": {
   "codemirror_mode": {
    "name": "ipython",
    "version": 3
   },
   "file_extension": ".py",
   "mimetype": "text/x-python",
   "name": "python",
   "nbconvert_exporter": "python",
   "pygments_lexer": "ipython3",
   "version": "3.6.13"
  }
 },
 "nbformat": 4,
 "nbformat_minor": 5
}
