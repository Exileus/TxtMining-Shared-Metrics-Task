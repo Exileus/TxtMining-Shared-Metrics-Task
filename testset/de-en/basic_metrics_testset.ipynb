{
 "cells": [
  {
   "cell_type": "markdown",
   "id": "internal-hurricane",
   "metadata": {},
   "source": [
    "# Text Mining Group Project\n",
    "## DE-EN Corpus"
   ]
  },
  {
   "cell_type": "markdown",
   "id": "chemical-aaron",
   "metadata": {},
   "source": [
    "##### Notebook for the production of the test CSV."
   ]
  },
  {
   "cell_type": "markdown",
   "id": "searching-extraction",
   "metadata": {},
   "source": [
    "---"
   ]
  },
  {
   "cell_type": "code",
   "execution_count": 4,
   "id": "nasty-directive",
   "metadata": {},
   "outputs": [],
   "source": [
    "# Imports\n",
    "import pandas as pd\n",
    "from collections import Counter\n",
    "from rouge import Rouge\n",
    "import string\n",
    "from nltk.translate import chrf_score\n",
    "from nltk.tokenize import word_tokenize\n",
    "from sklearn.preprocessing import StandardScaler"
   ]
  },
  {
   "cell_type": "markdown",
   "id": "integral-steering",
   "metadata": {},
   "source": [
    "---\n",
    "For reference, these are the results of basic metrics from the training set.\n",
    "\n",
    "<img src=\"train_scores.png\" width=\"450\" height=\"400\">"
   ]
  },
  {
   "cell_type": "code",
   "execution_count": 17,
   "id": "endless-quarterly",
   "metadata": {},
   "outputs": [],
   "source": [
    "# Choose the best metric here.\n",
    "best_metric = \"chrf_b3_n210\""
   ]
  },
  {
   "cell_type": "markdown",
   "id": "friendly-beast",
   "metadata": {},
   "source": [
    "Load Dataset"
   ]
  },
  {
   "cell_type": "code",
   "execution_count": 5,
   "id": "current-literacy",
   "metadata": {},
   "outputs": [],
   "source": [
    "df1 = pd.read_csv(\"scores.csv\")"
   ]
  },
  {
   "cell_type": "code",
   "execution_count": 6,
   "id": "affecting-child",
   "metadata": {},
   "outputs": [
    {
     "name": "stdout",
     "output_type": "stream",
     "text": [
      "<class 'pandas.core.frame.DataFrame'>\n",
      "RangeIndex: 28404 entries, 0 to 28403\n",
      "Data columns (total 3 columns):\n",
      " #   Column       Non-Null Count  Dtype \n",
      "---  ------       --------------  ----- \n",
      " 0   source       28404 non-null  object\n",
      " 1   reference    28404 non-null  object\n",
      " 2   translation  28404 non-null  object\n",
      "dtypes: object(3)\n",
      "memory usage: 665.8+ KB\n"
     ]
    }
   ],
   "source": [
    "df1.info()"
   ]
  },
  {
   "cell_type": "code",
   "execution_count": 7,
   "id": "married-instrument",
   "metadata": {},
   "outputs": [
    {
     "data": {
      "text/html": [
       "<div>\n",
       "<style scoped>\n",
       "    .dataframe tbody tr th:only-of-type {\n",
       "        vertical-align: middle;\n",
       "    }\n",
       "\n",
       "    .dataframe tbody tr th {\n",
       "        vertical-align: top;\n",
       "    }\n",
       "\n",
       "    .dataframe thead th {\n",
       "        text-align: right;\n",
       "    }\n",
       "</style>\n",
       "<table border=\"1\" class=\"dataframe\">\n",
       "  <thead>\n",
       "    <tr style=\"text-align: right;\">\n",
       "      <th></th>\n",
       "      <th>source</th>\n",
       "      <th>reference</th>\n",
       "      <th>translation</th>\n",
       "    </tr>\n",
       "  </thead>\n",
       "  <tbody>\n",
       "    <tr>\n",
       "      <th>0</th>\n",
       "      <td>Das Publikum ist fast gleichmäßig zwischen Sch...</td>\n",
       "      <td>The audience is almost evenly split between bl...</td>\n",
       "      <td>The audience is almost evenly split between bl...</td>\n",
       "    </tr>\n",
       "    <tr>\n",
       "      <th>1</th>\n",
       "      <td>Du kannst ihre Energie durch den Bildschirm sp...</td>\n",
       "      <td>You can feel their energy through the screen. \"\"</td>\n",
       "      <td>You can feel her energy through the screen.\"</td>\n",
       "    </tr>\n",
       "    <tr>\n",
       "      <th>2</th>\n",
       "      <td>Da die Adresse unbekannt ist, wird die Mithilf...</td>\n",
       "      <td>As the address is unknown, the help of the pop...</td>\n",
       "      <td>As the address is unknown, the assistance of t...</td>\n",
       "    </tr>\n",
       "    <tr>\n",
       "      <th>3</th>\n",
       "      <td>Arsenal-Manager Arsene Wenger, dessen Verein i...</td>\n",
       "      <td>Arsenal manager Arsene Wenger, whose club is o...</td>\n",
       "      <td>Arsenal manager Arsene Wenger, whose club is o...</td>\n",
       "    </tr>\n",
       "    <tr>\n",
       "      <th>4</th>\n",
       "      <td>Landwirtschaftsminister im Interview - Wie sch...</td>\n",
       "      <td>Agriculture Minister in the interview - How do...</td>\n",
       "      <td>Minister of Agriculture in interview – How do ...</td>\n",
       "    </tr>\n",
       "  </tbody>\n",
       "</table>\n",
       "</div>"
      ],
      "text/plain": [
       "                                              source  \\\n",
       "0  Das Publikum ist fast gleichmäßig zwischen Sch...   \n",
       "1  Du kannst ihre Energie durch den Bildschirm sp...   \n",
       "2  Da die Adresse unbekannt ist, wird die Mithilf...   \n",
       "3  Arsenal-Manager Arsene Wenger, dessen Verein i...   \n",
       "4  Landwirtschaftsminister im Interview - Wie sch...   \n",
       "\n",
       "                                           reference  \\\n",
       "0  The audience is almost evenly split between bl...   \n",
       "1   You can feel their energy through the screen. \"\"   \n",
       "2  As the address is unknown, the help of the pop...   \n",
       "3  Arsenal manager Arsene Wenger, whose club is o...   \n",
       "4  Agriculture Minister in the interview - How do...   \n",
       "\n",
       "                                         translation  \n",
       "0  The audience is almost evenly split between bl...  \n",
       "1       You can feel her energy through the screen.\"  \n",
       "2  As the address is unknown, the assistance of t...  \n",
       "3  Arsenal manager Arsene Wenger, whose club is o...  \n",
       "4  Minister of Agriculture in interview – How do ...  "
      ]
     },
     "execution_count": 7,
     "metadata": {},
     "output_type": "execute_result"
    }
   ],
   "source": [
    "df1.head()"
   ]
  },
  {
   "cell_type": "markdown",
   "id": "duplicate-yukon",
   "metadata": {},
   "source": [
    "---\n",
    "### PreProcessing"
   ]
  },
  {
   "cell_type": "code",
   "execution_count": 8,
   "id": "opponent-tennessee",
   "metadata": {},
   "outputs": [],
   "source": [
    "# Create two dataframes. One is unprocessed, the other is preprocessed to remove punctuation and be lowercased.\n",
    "df_u = df1.copy()\n",
    "df_p = df1.copy()\n",
    "\n",
    "for x in [\"source\",\"reference\",\"translation\"]:\n",
    "    # lowercase.\n",
    "    df_p[x] = df1[x].str.lower()\n",
    "    # Remove punct.\n",
    "    df_p[x] = df1[x].map(lambda s: s.translate(str.maketrans(\"\",\"\",string.punctuation))\n",
    "                           .lower()\n",
    "                          )\n",
    "    \n",
    "df_dict = {\"df_u\":df_u,\"df_p\":df_p}"
   ]
  },
  {
   "cell_type": "code",
   "execution_count": 9,
   "id": "chubby-flour",
   "metadata": {},
   "outputs": [],
   "source": [
    "## Initialize a scaler for later.\n",
    "scaler = StandardScaler()"
   ]
  },
  {
   "cell_type": "markdown",
   "id": "scientific-rebate",
   "metadata": {},
   "source": [
    "---\n",
    "### Metrics"
   ]
  },
  {
   "cell_type": "markdown",
   "id": "blind-bacteria",
   "metadata": {},
   "source": [
    "--- \n",
    "Bleu Metric"
   ]
  },
  {
   "cell_type": "code",
   "execution_count": 10,
   "id": "micro-morrison",
   "metadata": {},
   "outputs": [],
   "source": [
    "def my_first_BLEU(reference,translation):\n",
    "    \"\"\"\n",
    "    Expects lists of strings for both reference and translation.\n",
    "    Returns the score \n",
    "    \"\"\"\n",
    "    \n",
    "    # Let word be every unique word in the translation.\n",
    "    # Can be done by setting up a Counter object.\n",
    "    t_c = Counter(word_tokenize(translation))\n",
    "    words = sorted(t_c)\n",
    "    \n",
    "    refs_c = Counter(word_tokenize(reference))\n",
    "    \n",
    "    # Let Covered be the minimum amt of times a word appears in the reference, compared to R(w).\n",
    "    # Let D(word) be how many times a unique word appears in the candidate translation.\n",
    "    # Let R(word) be the largest numer of times the word appears in any one reference.\n",
    "    \n",
    "    covered = 0\n",
    "    \n",
    "    for word in words:\n",
    "        covered += min(t_c[word],refs_c[word])\n",
    "\n",
    "    \n",
    "\n",
    "    # Let total be the number of words in translation.\n",
    "    total = sum(t_c.values())\n",
    "    \n",
    "    BLEU_score = covered / total\n",
    "    \n",
    "    return BLEU_score\n"
   ]
  },
  {
   "cell_type": "code",
   "execution_count": 11,
   "id": "northern-commission",
   "metadata": {},
   "outputs": [],
   "source": [
    "bleu_scores_list = [\"basic bleu\"]\n",
    "\n",
    "for df in list(df_dict.values()):\n",
    "    for key in bleu_scores_list:\n",
    "        # Apply the function to get a column of the scores.\n",
    "        df[(key+\" score\")] = df.apply(lambda row: my_first_BLEU(row[\"reference\"],row[\"translation\"]),axis=1)\n",
    "        # Also add a z score column.\n",
    "        df[(key+ \"_zscore\")] = scaler.fit_transform(df[(key+\" score\")].to_numpy().reshape(-1,1)).flatten()"
   ]
  },
  {
   "cell_type": "markdown",
   "id": "modified-mumbai",
   "metadata": {},
   "source": [
    "---\n",
    "Rouge metric as described in\n",
    "\n",
    "https://towardsdatascience.com/the-ultimate-performance-metric-in-nlp-111df6c64460\n",
    "\n",
    "And\n",
    "https://pypi.org/project/rouge-metric/"
   ]
  },
  {
   "cell_type": "code",
   "execution_count": 12,
   "id": "former-visiting",
   "metadata": {},
   "outputs": [],
   "source": [
    "rouge = Rouge()"
   ]
  },
  {
   "cell_type": "code",
   "execution_count": 13,
   "id": "impressed-graphics",
   "metadata": {},
   "outputs": [
    {
     "data": {
      "text/plain": [
       "[{'rouge-1': {'f': 0.999999995, 'p': 1.0, 'r': 1.0},\n",
       "  'rouge-2': {'f': 0.999999995, 'p': 1.0, 'r': 1.0},\n",
       "  'rouge-l': {'f': 0.999999995, 'p': 1.0, 'r': 1.0}}]"
      ]
     },
     "execution_count": 13,
     "metadata": {},
     "output_type": "execute_result"
    }
   ],
   "source": [
    "# Example Cell\n",
    "model_out = df1[\"translation\"][0]\n",
    "reference = df1[\"reference\"][0]\n",
    "# The get scores method returns three metrics, F1 score, p precision and recall r.\n",
    "# For each unigram,bigram and Longest sequence.\n",
    "rouge.get_scores(model_out,reference)"
   ]
  },
  {
   "cell_type": "code",
   "execution_count": 14,
   "id": "sitting-continent",
   "metadata": {},
   "outputs": [],
   "source": [
    "# Get scores.\n",
    "# For every df considered;\n",
    "for df in list(df_dict.values()):\n",
    "    # For the entire model, model_out and reference need to be lists of strings.\n",
    "    model_out = df[\"translation\"].to_list()\n",
    "    reference = df[\"reference\"].to_list()\n",
    "    rouge_scores = rouge.get_scores(model_out,reference)\n",
    "    # For each of the scores calculated, output a new column in the df with the f1 scores.\n",
    "    for key in rouge_scores[0].keys():\n",
    "        df[(key+\" score\")] = pd.Series([score[key][\"f\"] for score in rouge_scores])\n",
    "        # Also add a z score column.\n",
    "        df[(key+ \"_zscore\")] = scaler.fit_transform(df[(key+\" score\")].to_numpy().reshape(-1,1)).flatten()"
   ]
  },
  {
   "cell_type": "markdown",
   "id": "afraid-lightweight",
   "metadata": {},
   "source": [
    "---\n",
    "#### chrF metric\n",
    "\n",
    "Check the paper here: https://www.aclweb.org/anthology/W15-3049.pdf\n",
    "\n",
    "The general formula for the CHRF score is:\n",
    "\n",
    "`CHRFBeta = (1 + Beta**2) * ((chrP * chrR) / (Beta**2*chrP + chrR))`\n",
    "\n",
    "where:\n",
    "* chrP is the percentage of n-grams in the hypothesis which have a counterpart in the reference.\n",
    "* chrR is the percentage of character n-grams in the reference which are also present in the hypothesis.\n",
    "* Beta is a parameter which assigns beta times more importance to recall than to precision (if beta == 1, they have the same importance)."
   ]
  },
  {
   "cell_type": "code",
   "execution_count": 15,
   "id": "entertaining-cholesterol",
   "metadata": {},
   "outputs": [
    {
     "data": {
      "text/html": [
       "<div>\n",
       "<style scoped>\n",
       "    .dataframe tbody tr th:only-of-type {\n",
       "        vertical-align: middle;\n",
       "    }\n",
       "\n",
       "    .dataframe tbody tr th {\n",
       "        vertical-align: top;\n",
       "    }\n",
       "\n",
       "    .dataframe thead th {\n",
       "        text-align: right;\n",
       "    }\n",
       "</style>\n",
       "<table border=\"1\" class=\"dataframe\">\n",
       "  <thead>\n",
       "    <tr style=\"text-align: right;\">\n",
       "      <th></th>\n",
       "      <th>chrf_b1_n16</th>\n",
       "      <th>chrf_b3_n16</th>\n",
       "      <th>chrf_b1_n110</th>\n",
       "      <th>chrf_b3_n110</th>\n",
       "      <th>chrf_b1_n26</th>\n",
       "      <th>chrf_b3_n26</th>\n",
       "      <th>chrf_b1_n210</th>\n",
       "      <th>chrf_b3_n210</th>\n",
       "    </tr>\n",
       "  </thead>\n",
       "  <tbody>\n",
       "    <tr>\n",
       "      <th>0</th>\n",
       "      <td>1.000000</td>\n",
       "      <td>1.000000</td>\n",
       "      <td>1.000000</td>\n",
       "      <td>1.000000</td>\n",
       "      <td>1.000000</td>\n",
       "      <td>1.000000</td>\n",
       "      <td>1.000000</td>\n",
       "      <td>1.000000</td>\n",
       "    </tr>\n",
       "    <tr>\n",
       "      <th>1</th>\n",
       "      <td>0.846803</td>\n",
       "      <td>0.827093</td>\n",
       "      <td>0.759869</td>\n",
       "      <td>0.741181</td>\n",
       "      <td>0.821719</td>\n",
       "      <td>0.802294</td>\n",
       "      <td>0.736274</td>\n",
       "      <td>0.717858</td>\n",
       "    </tr>\n",
       "    <tr>\n",
       "      <th>2</th>\n",
       "      <td>0.787731</td>\n",
       "      <td>0.842158</td>\n",
       "      <td>0.716782</td>\n",
       "      <td>0.767752</td>\n",
       "      <td>0.769391</td>\n",
       "      <td>0.822995</td>\n",
       "      <td>0.698710</td>\n",
       "      <td>0.748839</td>\n",
       "    </tr>\n",
       "    <tr>\n",
       "      <th>3</th>\n",
       "      <td>1.000000</td>\n",
       "      <td>1.000000</td>\n",
       "      <td>1.000000</td>\n",
       "      <td>1.000000</td>\n",
       "      <td>1.000000</td>\n",
       "      <td>1.000000</td>\n",
       "      <td>1.000000</td>\n",
       "      <td>1.000000</td>\n",
       "    </tr>\n",
       "    <tr>\n",
       "      <th>4</th>\n",
       "      <td>0.676135</td>\n",
       "      <td>0.689964</td>\n",
       "      <td>0.532803</td>\n",
       "      <td>0.543883</td>\n",
       "      <td>0.628436</td>\n",
       "      <td>0.641390</td>\n",
       "      <td>0.490378</td>\n",
       "      <td>0.500666</td>\n",
       "    </tr>\n",
       "    <tr>\n",
       "      <th>...</th>\n",
       "      <td>...</td>\n",
       "      <td>...</td>\n",
       "      <td>...</td>\n",
       "      <td>...</td>\n",
       "      <td>...</td>\n",
       "      <td>...</td>\n",
       "      <td>...</td>\n",
       "      <td>...</td>\n",
       "    </tr>\n",
       "    <tr>\n",
       "      <th>28399</th>\n",
       "      <td>0.491334</td>\n",
       "      <td>0.496170</td>\n",
       "      <td>0.369785</td>\n",
       "      <td>0.373451</td>\n",
       "      <td>0.411287</td>\n",
       "      <td>0.415355</td>\n",
       "      <td>0.311810</td>\n",
       "      <td>0.314918</td>\n",
       "    </tr>\n",
       "    <tr>\n",
       "      <th>28400</th>\n",
       "      <td>0.555458</td>\n",
       "      <td>0.555458</td>\n",
       "      <td>0.404104</td>\n",
       "      <td>0.404104</td>\n",
       "      <td>0.500696</td>\n",
       "      <td>0.500696</td>\n",
       "      <td>0.356864</td>\n",
       "      <td>0.356864</td>\n",
       "    </tr>\n",
       "    <tr>\n",
       "      <th>28401</th>\n",
       "      <td>0.480870</td>\n",
       "      <td>0.470137</td>\n",
       "      <td>0.352196</td>\n",
       "      <td>0.344286</td>\n",
       "      <td>0.404004</td>\n",
       "      <td>0.394943</td>\n",
       "      <td>0.295196</td>\n",
       "      <td>0.288528</td>\n",
       "    </tr>\n",
       "    <tr>\n",
       "      <th>28402</th>\n",
       "      <td>0.257590</td>\n",
       "      <td>0.243638</td>\n",
       "      <td>0.157631</td>\n",
       "      <td>0.149081</td>\n",
       "      <td>0.162629</td>\n",
       "      <td>0.153699</td>\n",
       "      <td>0.093768</td>\n",
       "      <td>0.088609</td>\n",
       "    </tr>\n",
       "    <tr>\n",
       "      <th>28403</th>\n",
       "      <td>0.389486</td>\n",
       "      <td>0.373254</td>\n",
       "      <td>0.281406</td>\n",
       "      <td>0.269577</td>\n",
       "      <td>0.299526</td>\n",
       "      <td>0.286946</td>\n",
       "      <td>0.219420</td>\n",
       "      <td>0.210109</td>\n",
       "    </tr>\n",
       "  </tbody>\n",
       "</table>\n",
       "<p>28404 rows × 8 columns</p>\n",
       "</div>"
      ],
      "text/plain": [
       "       chrf_b1_n16  chrf_b3_n16  chrf_b1_n110  chrf_b3_n110  chrf_b1_n26  \\\n",
       "0         1.000000     1.000000      1.000000      1.000000     1.000000   \n",
       "1         0.846803     0.827093      0.759869      0.741181     0.821719   \n",
       "2         0.787731     0.842158      0.716782      0.767752     0.769391   \n",
       "3         1.000000     1.000000      1.000000      1.000000     1.000000   \n",
       "4         0.676135     0.689964      0.532803      0.543883     0.628436   \n",
       "...            ...          ...           ...           ...          ...   \n",
       "28399     0.491334     0.496170      0.369785      0.373451     0.411287   \n",
       "28400     0.555458     0.555458      0.404104      0.404104     0.500696   \n",
       "28401     0.480870     0.470137      0.352196      0.344286     0.404004   \n",
       "28402     0.257590     0.243638      0.157631      0.149081     0.162629   \n",
       "28403     0.389486     0.373254      0.281406      0.269577     0.299526   \n",
       "\n",
       "       chrf_b3_n26  chrf_b1_n210  chrf_b3_n210  \n",
       "0         1.000000      1.000000      1.000000  \n",
       "1         0.802294      0.736274      0.717858  \n",
       "2         0.822995      0.698710      0.748839  \n",
       "3         1.000000      1.000000      1.000000  \n",
       "4         0.641390      0.490378      0.500666  \n",
       "...            ...           ...           ...  \n",
       "28399     0.415355      0.311810      0.314918  \n",
       "28400     0.500696      0.356864      0.356864  \n",
       "28401     0.394943      0.295196      0.288528  \n",
       "28402     0.153699      0.093768      0.088609  \n",
       "28403     0.286946      0.219420      0.210109  \n",
       "\n",
       "[28404 rows x 8 columns]"
      ]
     },
     "execution_count": 15,
     "metadata": {},
     "output_type": "execute_result"
    }
   ],
   "source": [
    "# The default n-gram values are min == 1, max == 6. \n",
    "# The default beta is 3.\n",
    "\n",
    "# Moreover, it is worthwhile to mention chrf uses its own tokenization with whitespaces.\n",
    "# Note: this takes a few minutes to run.\n",
    "min_len = [1,2]\n",
    "max_len = [6,10]\n",
    "beta = [1,3]\n",
    "\n",
    "for df in list(df_dict.values()):\n",
    "    chrf_scores=[]\n",
    "    for min_l in min_len:\n",
    "        for max_l in max_len:\n",
    "            for b in beta:\n",
    "                append_str = \"chrf_b\" + str(b) + \"_n\" + str(min_l) + str(max_l)\n",
    "                chrf_scores.append(append_str)\n",
    "                df[append_str] = df.apply(lambda row: chrf_score.sentence_chrf(row[\"reference\"],row[\"translation\"],min_len=min_l,max_len=max_l,beta=b),axis=1)\n",
    "                # Also add a z score column.\n",
    "                df[(append_str+ \"_zscore\")] = scaler.fit_transform(df[append_str].to_numpy().reshape(-1,1)).flatten()\n",
    "\n",
    "df_p.loc[:,chrf_scores]"
   ]
  },
  {
   "cell_type": "markdown",
   "id": "elementary-covering",
   "metadata": {},
   "source": [
    "---\n",
    "### Producing the testset CSV\n",
    "Given the produced scores, choose the ones to apply to the CSV."
   ]
  },
  {
   "cell_type": "code",
   "execution_count": 22,
   "id": "recognized-prompt",
   "metadata": {},
   "outputs": [],
   "source": [
    "# We can use either the zscore or the non-standardized scores. \n",
    "# Also note either df_u or df_p choice.\n",
    "df1[\"metric\"]=df_u[best_metric+\"_zscore\"]"
   ]
  },
  {
   "cell_type": "code",
   "execution_count": 23,
   "id": "acute-bridal",
   "metadata": {},
   "outputs": [
    {
     "data": {
      "text/html": [
       "<div>\n",
       "<style scoped>\n",
       "    .dataframe tbody tr th:only-of-type {\n",
       "        vertical-align: middle;\n",
       "    }\n",
       "\n",
       "    .dataframe tbody tr th {\n",
       "        vertical-align: top;\n",
       "    }\n",
       "\n",
       "    .dataframe thead th {\n",
       "        text-align: right;\n",
       "    }\n",
       "</style>\n",
       "<table border=\"1\" class=\"dataframe\">\n",
       "  <thead>\n",
       "    <tr style=\"text-align: right;\">\n",
       "      <th></th>\n",
       "      <th>source</th>\n",
       "      <th>reference</th>\n",
       "      <th>translation</th>\n",
       "      <th>metric</th>\n",
       "    </tr>\n",
       "  </thead>\n",
       "  <tbody>\n",
       "    <tr>\n",
       "      <th>0</th>\n",
       "      <td>Das Publikum ist fast gleichmäßig zwischen Sch...</td>\n",
       "      <td>The audience is almost evenly split between bl...</td>\n",
       "      <td>The audience is almost evenly split between bl...</td>\n",
       "      <td>2.764301</td>\n",
       "    </tr>\n",
       "    <tr>\n",
       "      <th>1</th>\n",
       "      <td>Du kannst ihre Energie durch den Bildschirm sp...</td>\n",
       "      <td>You can feel their energy through the screen. \"\"</td>\n",
       "      <td>You can feel her energy through the screen.\"</td>\n",
       "      <td>1.287924</td>\n",
       "    </tr>\n",
       "    <tr>\n",
       "      <th>2</th>\n",
       "      <td>Da die Adresse unbekannt ist, wird die Mithilf...</td>\n",
       "      <td>As the address is unknown, the help of the pop...</td>\n",
       "      <td>As the address is unknown, the assistance of t...</td>\n",
       "      <td>1.499944</td>\n",
       "    </tr>\n",
       "    <tr>\n",
       "      <th>3</th>\n",
       "      <td>Arsenal-Manager Arsene Wenger, dessen Verein i...</td>\n",
       "      <td>Arsenal manager Arsene Wenger, whose club is o...</td>\n",
       "      <td>Arsenal manager Arsene Wenger, whose club is o...</td>\n",
       "      <td>2.764301</td>\n",
       "    </tr>\n",
       "    <tr>\n",
       "      <th>4</th>\n",
       "      <td>Landwirtschaftsminister im Interview - Wie sch...</td>\n",
       "      <td>Agriculture Minister in the interview - How do...</td>\n",
       "      <td>Minister of Agriculture in interview – How do ...</td>\n",
       "      <td>0.204494</td>\n",
       "    </tr>\n",
       "  </tbody>\n",
       "</table>\n",
       "</div>"
      ],
      "text/plain": [
       "                                              source  \\\n",
       "0  Das Publikum ist fast gleichmäßig zwischen Sch...   \n",
       "1  Du kannst ihre Energie durch den Bildschirm sp...   \n",
       "2  Da die Adresse unbekannt ist, wird die Mithilf...   \n",
       "3  Arsenal-Manager Arsene Wenger, dessen Verein i...   \n",
       "4  Landwirtschaftsminister im Interview - Wie sch...   \n",
       "\n",
       "                                           reference  \\\n",
       "0  The audience is almost evenly split between bl...   \n",
       "1   You can feel their energy through the screen. \"\"   \n",
       "2  As the address is unknown, the help of the pop...   \n",
       "3  Arsenal manager Arsene Wenger, whose club is o...   \n",
       "4  Agriculture Minister in the interview - How do...   \n",
       "\n",
       "                                         translation    metric  \n",
       "0  The audience is almost evenly split between bl...  2.764301  \n",
       "1       You can feel her energy through the screen.\"  1.287924  \n",
       "2  As the address is unknown, the assistance of t...  1.499944  \n",
       "3  Arsenal manager Arsene Wenger, whose club is o...  2.764301  \n",
       "4  Minister of Agriculture in interview – How do ...  0.204494  "
      ]
     },
     "execution_count": 23,
     "metadata": {},
     "output_type": "execute_result"
    }
   ],
   "source": [
    "df1.head()"
   ]
  },
  {
   "cell_type": "code",
   "execution_count": 30,
   "id": "enormous-apparatus",
   "metadata": {},
   "outputs": [],
   "source": [
    "df1.to_csv(\"scores.csv\")"
   ]
  }
 ],
 "metadata": {
  "kernelspec": {
   "display_name": "Python 3",
   "language": "python",
   "name": "python3"
  },
  "language_info": {
   "codemirror_mode": {
    "name": "ipython",
    "version": 3
   },
   "file_extension": ".py",
   "mimetype": "text/x-python",
   "name": "python",
   "nbconvert_exporter": "python",
   "pygments_lexer": "ipython3",
   "version": "3.6.13"
  }
 },
 "nbformat": 4,
 "nbformat_minor": 5
}
